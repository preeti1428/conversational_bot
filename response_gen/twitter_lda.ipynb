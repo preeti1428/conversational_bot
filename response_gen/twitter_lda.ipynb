{
  "nbformat": 4,
  "nbformat_minor": 0,
  "metadata": {
    "colab": {
      "name": "twitter_lda.ipynb",
      "provenance": []
    },
    "kernelspec": {
      "name": "python3",
      "display_name": "Python 3"
    }
  },
  "cells": [
    {
      "cell_type": "code",
      "metadata": {
        "id": "KQcBSj4bAXWN",
        "colab_type": "code",
        "colab": {}
      },
      "source": [
        "import pandas as pd\n",
        "import numpy as np\n",
        "import pyreadstat as py\n",
        "\n",
        "# plotting packages\n",
        "import matplotlib.pyplot as plt\n",
        "import seaborn as sns\n",
        "\n",
        "# model building package\n",
        "import sklearn\n",
        "\n",
        "# package to clean text\n",
        "import re"
      ],
      "execution_count": 26,
      "outputs": []
    },
    {
      "cell_type": "code",
      "metadata": {
        "id": "Z30xEaFcAlJl",
        "colab_type": "code",
        "colab": {
          "base_uri": "https://localhost:8080/",
          "height": 205
        },
        "outputId": "9a6cf26f-2393-4725-8e73-e5b49905ef08"
      },
      "source": [
        "!pip install pyreadstat"
      ],
      "execution_count": null,
      "outputs": [
        {
          "output_type": "stream",
          "text": [
            "Collecting pyreadstat\n",
            "\u001b[?25l  Downloading https://files.pythonhosted.org/packages/41/a9/4bd654dae8469bd782911b01395afd170e67e2926cb7e092993fd29d59e0/pyreadstat-1.0.0-cp36-cp36m-manylinux1_x86_64.whl (1.9MB)\n",
            "\u001b[K     |████████████████████████████████| 2.0MB 2.6MB/s \n",
            "\u001b[?25hRequirement already satisfied: pandas>0.24.0 in /usr/local/lib/python3.6/dist-packages (from pyreadstat) (1.0.5)\n",
            "Requirement already satisfied: pytz>=2017.2 in /usr/local/lib/python3.6/dist-packages (from pandas>0.24.0->pyreadstat) (2018.9)\n",
            "Requirement already satisfied: python-dateutil>=2.6.1 in /usr/local/lib/python3.6/dist-packages (from pandas>0.24.0->pyreadstat) (2.8.1)\n",
            "Requirement already satisfied: numpy>=1.13.3 in /usr/local/lib/python3.6/dist-packages (from pandas>0.24.0->pyreadstat) (1.18.5)\n",
            "Requirement already satisfied: six>=1.5 in /usr/local/lib/python3.6/dist-packages (from python-dateutil>=2.6.1->pandas>0.24.0->pyreadstat) (1.12.0)\n",
            "Installing collected packages: pyreadstat\n",
            "Successfully installed pyreadstat-1.0.0\n"
          ],
          "name": "stdout"
        }
      ]
    },
    {
      "cell_type": "code",
      "metadata": {
        "id": "XUYB_QzXArxQ",
        "colab_type": "code",
        "colab": {}
      },
      "source": [
        "import pyreadstat as py"
      ],
      "execution_count": null,
      "outputs": []
    },
    {
      "cell_type": "code",
      "metadata": {
        "id": "n1RWvoGXROFK",
        "colab_type": "code",
        "colab": {}
      },
      "source": [
        "data = pd.read_csv('/content/data.csv')"
      ],
      "execution_count": 8,
      "outputs": []
    },
    {
      "cell_type": "code",
      "metadata": {
        "id": "-AjpGd16UO2W",
        "colab_type": "code",
        "colab": {
          "base_uri": "https://localhost:8080/",
          "height": 195
        },
        "outputId": "3a190b39-0072-407f-973e-88fd7b0b62a7"
      },
      "source": [
        "data.head()"
      ],
      "execution_count": 9,
      "outputs": [
        {
          "output_type": "execute_result",
          "data": {
            "text/html": [
              "<div>\n",
              "<style scoped>\n",
              "    .dataframe tbody tr th:only-of-type {\n",
              "        vertical-align: middle;\n",
              "    }\n",
              "\n",
              "    .dataframe tbody tr th {\n",
              "        vertical-align: top;\n",
              "    }\n",
              "\n",
              "    .dataframe thead th {\n",
              "        text-align: right;\n",
              "    }\n",
              "</style>\n",
              "<table border=\"1\" class=\"dataframe\">\n",
              "  <thead>\n",
              "    <tr style=\"text-align: right;\">\n",
              "      <th></th>\n",
              "      <th>sentiment</th>\n",
              "      <th>text</th>\n",
              "      <th>user</th>\n",
              "    </tr>\n",
              "  </thead>\n",
              "  <tbody>\n",
              "    <tr>\n",
              "      <th>0</th>\n",
              "      <td>negative</td>\n",
              "      <td>RT @nramind: Something’s gone seriously wrong ...</td>\n",
              "      <td>bnmallick</td>\n",
              "    </tr>\n",
              "    <tr>\n",
              "      <th>1</th>\n",
              "      <td>positive</td>\n",
              "      <td>Exploring the Real World of #DataScience - KDn...</td>\n",
              "      <td>travissari</td>\n",
              "    </tr>\n",
              "    <tr>\n",
              "      <th>2</th>\n",
              "      <td>positive</td>\n",
              "      <td>@boltsandbombers The data of animal agricultur...</td>\n",
              "      <td>tommy3141watson</td>\n",
              "    </tr>\n",
              "    <tr>\n",
              "      <th>3</th>\n",
              "      <td>positive</td>\n",
              "      <td>We are excited that #NYULibraries is now part ...</td>\n",
              "      <td>nyudataservices</td>\n",
              "    </tr>\n",
              "    <tr>\n",
              "      <th>4</th>\n",
              "      <td>positive</td>\n",
              "      <td>RT @IreneSuaMar: My latest \\science garment\\\":...</td>\n",
              "      <td>Dybel</td>\n",
              "    </tr>\n",
              "  </tbody>\n",
              "</table>\n",
              "</div>"
            ],
            "text/plain": [
              "  sentiment                                               text             user\n",
              "0  negative  RT @nramind: Something’s gone seriously wrong ...        bnmallick\n",
              "1  positive  Exploring the Real World of #DataScience - KDn...       travissari\n",
              "2  positive  @boltsandbombers The data of animal agricultur...  tommy3141watson\n",
              "3  positive  We are excited that #NYULibraries is now part ...  nyudataservices\n",
              "4  positive  RT @IreneSuaMar: My latest \\science garment\\\":...            Dybel"
            ]
          },
          "metadata": {
            "tags": []
          },
          "execution_count": 9
        }
      ]
    },
    {
      "cell_type": "code",
      "metadata": {
        "id": "W4bMLFCkUQQZ",
        "colab_type": "code",
        "colab": {
          "base_uri": "https://localhost:8080/",
          "height": 195
        },
        "outputId": "efd81c36-5096-4c1b-990f-ac2b6416d7cc"
      },
      "source": [
        "tweets = data[['user','text']]\n",
        "tweets.head()"
      ],
      "execution_count": 10,
      "outputs": [
        {
          "output_type": "execute_result",
          "data": {
            "text/html": [
              "<div>\n",
              "<style scoped>\n",
              "    .dataframe tbody tr th:only-of-type {\n",
              "        vertical-align: middle;\n",
              "    }\n",
              "\n",
              "    .dataframe tbody tr th {\n",
              "        vertical-align: top;\n",
              "    }\n",
              "\n",
              "    .dataframe thead th {\n",
              "        text-align: right;\n",
              "    }\n",
              "</style>\n",
              "<table border=\"1\" class=\"dataframe\">\n",
              "  <thead>\n",
              "    <tr style=\"text-align: right;\">\n",
              "      <th></th>\n",
              "      <th>user</th>\n",
              "      <th>text</th>\n",
              "    </tr>\n",
              "  </thead>\n",
              "  <tbody>\n",
              "    <tr>\n",
              "      <th>0</th>\n",
              "      <td>bnmallick</td>\n",
              "      <td>RT @nramind: Something’s gone seriously wrong ...</td>\n",
              "    </tr>\n",
              "    <tr>\n",
              "      <th>1</th>\n",
              "      <td>travissari</td>\n",
              "      <td>Exploring the Real World of #DataScience - KDn...</td>\n",
              "    </tr>\n",
              "    <tr>\n",
              "      <th>2</th>\n",
              "      <td>tommy3141watson</td>\n",
              "      <td>@boltsandbombers The data of animal agricultur...</td>\n",
              "    </tr>\n",
              "    <tr>\n",
              "      <th>3</th>\n",
              "      <td>nyudataservices</td>\n",
              "      <td>We are excited that #NYULibraries is now part ...</td>\n",
              "    </tr>\n",
              "    <tr>\n",
              "      <th>4</th>\n",
              "      <td>Dybel</td>\n",
              "      <td>RT @IreneSuaMar: My latest \\science garment\\\":...</td>\n",
              "    </tr>\n",
              "  </tbody>\n",
              "</table>\n",
              "</div>"
            ],
            "text/plain": [
              "              user                                               text\n",
              "0        bnmallick  RT @nramind: Something’s gone seriously wrong ...\n",
              "1       travissari  Exploring the Real World of #DataScience - KDn...\n",
              "2  tommy3141watson  @boltsandbombers The data of animal agricultur...\n",
              "3  nyudataservices  We are excited that #NYULibraries is now part ...\n",
              "4            Dybel  RT @IreneSuaMar: My latest \\science garment\\\":..."
            ]
          },
          "metadata": {
            "tags": []
          },
          "execution_count": 10
        }
      ]
    },
    {
      "cell_type": "code",
      "metadata": {
        "id": "2AqZ1psxUk2b",
        "colab_type": "code",
        "colab": {
          "base_uri": "https://localhost:8080/",
          "height": 639
        },
        "outputId": "699e7968-fe8f-465b-8d4f-a5dab7157863"
      },
      "source": [
        "tweets.tail(20)"
      ],
      "execution_count": 13,
      "outputs": [
        {
          "output_type": "execute_result",
          "data": {
            "text/html": [
              "<div>\n",
              "<style scoped>\n",
              "    .dataframe tbody tr th:only-of-type {\n",
              "        vertical-align: middle;\n",
              "    }\n",
              "\n",
              "    .dataframe tbody tr th {\n",
              "        vertical-align: top;\n",
              "    }\n",
              "\n",
              "    .dataframe thead th {\n",
              "        text-align: right;\n",
              "    }\n",
              "</style>\n",
              "<table border=\"1\" class=\"dataframe\">\n",
              "  <thead>\n",
              "    <tr style=\"text-align: right;\">\n",
              "      <th></th>\n",
              "      <th>user</th>\n",
              "      <th>text</th>\n",
              "    </tr>\n",
              "  </thead>\n",
              "  <tbody>\n",
              "    <tr>\n",
              "      <th>58</th>\n",
              "      <td>cache4it</td>\n",
              "      <td>Are you a Sky Mobile user? If you PiggyBank yo...</td>\n",
              "    </tr>\n",
              "    <tr>\n",
              "      <th>59</th>\n",
              "      <td>pureit</td>\n",
              "      <td>Are you a Sky Mobile user? If you PiggyBank yo...</td>\n",
              "    </tr>\n",
              "    <tr>\n",
              "      <th>60</th>\n",
              "      <td>PatriciaSarge18</td>\n",
              "      <td>RT @drdavidsamadi: Fear does not help us comba...</td>\n",
              "    </tr>\n",
              "    <tr>\n",
              "      <th>61</th>\n",
              "      <td>ToShawnAnderson</td>\n",
              "      <td>RT @bunsenbernerbmd: Momentum: quality of moti...</td>\n",
              "    </tr>\n",
              "    <tr>\n",
              "      <th>62</th>\n",
              "      <td>MikeBrooksOATF</td>\n",
              "      <td>RT @drdavidsamadi: Fear does not help us comba...</td>\n",
              "    </tr>\n",
              "    <tr>\n",
              "      <th>63</th>\n",
              "      <td>CoffeTechnology</td>\n",
              "      <td>RT @antgrasso: Oracle Data Science Overview, a...</td>\n",
              "    </tr>\n",
              "    <tr>\n",
              "      <th>64</th>\n",
              "      <td>CMOandCompany</td>\n",
              "      <td>Creating a Visual Narrative in Data Science ht...</td>\n",
              "    </tr>\n",
              "    <tr>\n",
              "      <th>65</th>\n",
              "      <td>DeathReveals</td>\n",
              "      <td>RT @IreneSuaMar: My latest \\science garment\\\":...</td>\n",
              "    </tr>\n",
              "    <tr>\n",
              "      <th>66</th>\n",
              "      <td>Thymbraeus</td>\n",
              "      <td>RT @IreneSuaMar: My latest \\science garment\\\":...</td>\n",
              "    </tr>\n",
              "    <tr>\n",
              "      <th>67</th>\n",
              "      <td>gentackle</td>\n",
              "      <td>Besides issues of extracting value from large ...</td>\n",
              "    </tr>\n",
              "    <tr>\n",
              "      <th>68</th>\n",
              "      <td>PaleoXose</td>\n",
              "      <td>RT @webofscience: Web of Science Journal Citat...</td>\n",
              "    </tr>\n",
              "    <tr>\n",
              "      <th>69</th>\n",
              "      <td>Voters4Change</td>\n",
              "      <td>@ButtahBelieve @brianba95977991 @George0069468...</td>\n",
              "    </tr>\n",
              "    <tr>\n",
              "      <th>70</th>\n",
              "      <td>potato_grapher</td>\n",
              "      <td>RT @IreneSuaMar: My latest \\science garment\\\":...</td>\n",
              "    </tr>\n",
              "    <tr>\n",
              "      <th>71</th>\n",
              "      <td>VGMTECHIN</td>\n",
              "      <td>TikTok Ne Fir Chori Kiya Data | TikTok is Coll...</td>\n",
              "    </tr>\n",
              "    <tr>\n",
              "      <th>72</th>\n",
              "      <td>Jaisans</td>\n",
              "      <td>@OscarsWild1 @JamesRider3 @FeynmanFreaky @glin...</td>\n",
              "    </tr>\n",
              "    <tr>\n",
              "      <th>73</th>\n",
              "      <td>Simon_B_Johnson</td>\n",
              "      <td>RT @Design_Week: The Best use of Data winner i...</td>\n",
              "    </tr>\n",
              "    <tr>\n",
              "      <th>74</th>\n",
              "      <td>RICNews</td>\n",
              "      <td>RT @RIEPSCoR: Dr. Sally Hamouda &amp;amp; Dr. Anab...</td>\n",
              "    </tr>\n",
              "    <tr>\n",
              "      <th>75</th>\n",
              "      <td>JustBeMentalist</td>\n",
              "      <td>RT @bryson_hamilton: Well Well the spike is bu...</td>\n",
              "    </tr>\n",
              "    <tr>\n",
              "      <th>76</th>\n",
              "      <td>JustBeMentalist</td>\n",
              "      <td>RT @noticebard: Course on Probability &amp;amp; St...</td>\n",
              "    </tr>\n",
              "    <tr>\n",
              "      <th>77</th>\n",
              "      <td>JustBeMentalist</td>\n",
              "      <td>RT @CaseyHughlett: .@elonmusk Tesla in Tulsa =...</td>\n",
              "    </tr>\n",
              "  </tbody>\n",
              "</table>\n",
              "</div>"
            ],
            "text/plain": [
              "               user                                               text\n",
              "58         cache4it  Are you a Sky Mobile user? If you PiggyBank yo...\n",
              "59           pureit  Are you a Sky Mobile user? If you PiggyBank yo...\n",
              "60  PatriciaSarge18  RT @drdavidsamadi: Fear does not help us comba...\n",
              "61  ToShawnAnderson  RT @bunsenbernerbmd: Momentum: quality of moti...\n",
              "62   MikeBrooksOATF  RT @drdavidsamadi: Fear does not help us comba...\n",
              "63  CoffeTechnology  RT @antgrasso: Oracle Data Science Overview, a...\n",
              "64    CMOandCompany  Creating a Visual Narrative in Data Science ht...\n",
              "65     DeathReveals  RT @IreneSuaMar: My latest \\science garment\\\":...\n",
              "66       Thymbraeus  RT @IreneSuaMar: My latest \\science garment\\\":...\n",
              "67        gentackle  Besides issues of extracting value from large ...\n",
              "68        PaleoXose  RT @webofscience: Web of Science Journal Citat...\n",
              "69    Voters4Change  @ButtahBelieve @brianba95977991 @George0069468...\n",
              "70   potato_grapher  RT @IreneSuaMar: My latest \\science garment\\\":...\n",
              "71        VGMTECHIN  TikTok Ne Fir Chori Kiya Data | TikTok is Coll...\n",
              "72          Jaisans  @OscarsWild1 @JamesRider3 @FeynmanFreaky @glin...\n",
              "73  Simon_B_Johnson  RT @Design_Week: The Best use of Data winner i...\n",
              "74          RICNews  RT @RIEPSCoR: Dr. Sally Hamouda &amp; Dr. Anab...\n",
              "75  JustBeMentalist  RT @bryson_hamilton: Well Well the spike is bu...\n",
              "76  JustBeMentalist  RT @noticebard: Course on Probability &amp; St...\n",
              "77  JustBeMentalist  RT @CaseyHughlett: .@elonmusk Tesla in Tulsa =..."
            ]
          },
          "metadata": {
            "tags": []
          },
          "execution_count": 13
        }
      ]
    },
    {
      "cell_type": "code",
      "metadata": {
        "id": "X_bNEKYDUyUB",
        "colab_type": "code",
        "colab": {
          "base_uri": "https://localhost:8080/",
          "height": 34
        },
        "outputId": "98584553-54e0-4df4-c3b2-579cb6901018"
      },
      "source": [
        "tweets.text.unique().shape"
      ],
      "execution_count": 14,
      "outputs": [
        {
          "output_type": "execute_result",
          "data": {
            "text/plain": [
              "(65,)"
            ]
          },
          "metadata": {
            "tags": []
          },
          "execution_count": 14
        }
      ]
    },
    {
      "cell_type": "code",
      "metadata": {
        "id": "EaWPXS-2U7lB",
        "colab_type": "code",
        "colab": {
          "base_uri": "https://localhost:8080/",
          "height": 279
        },
        "outputId": "c4c83c75-bb28-425c-a468-2e911d8df931"
      },
      "source": [
        "import matplotlib.pyplot as plt\n",
        "# number of times each tweet appears\n",
        "counts = tweets.groupby(['text']).size()\\\n",
        "           .reset_index(name='counts')\\\n",
        "           .counts\n",
        "\n",
        "# define bins for histogram\n",
        "my_bins = np.arange(0,counts.max()+2, 1)-0.5\n",
        "\n",
        "# plot histogram of tweet counts\n",
        "plt.figure()\n",
        "plt.hist(counts, bins = my_bins)\n",
        "plt.xlabels = np.arange(1,counts.max()+1, 1)\n",
        "plt.xlabel('copies of each tweet')\n",
        "plt.ylabel('frequency')\n",
        "plt.yscale('log', nonposy='clip')\n",
        "plt.show()"
      ],
      "execution_count": 16,
      "outputs": [
        {
          "output_type": "display_data",
          "data": {
            "image/png": "[encoded data removed]",
            "text/plain": [
              "<Figure size 432x288 with 1 Axes>"
            ]
          },
          "metadata": {
            "tags": [],
            "needs_background": "light"
          }
        }
      ]
    },
    {
      "cell_type": "code",
      "metadata": {
        "id": "LW9a_G7DVNK1",
        "colab_type": "code",
        "colab": {}
      },
      "source": [
        "import seaborn as sns\n",
        "sns.set(color_codes = True)\n",
        "\n",
        "#sns.stripplot(tweets['text'], tweets['user'], jitter= True)"
      ],
      "execution_count": 18,
      "outputs": []
    },
    {
      "cell_type": "code",
      "metadata": {
        "id": "hm4DVMzGWH27",
        "colab_type": "code",
        "colab": {
          "base_uri": "https://localhost:8080/",
          "height": 34
        },
        "outputId": "740b16bc-32af-4eec-8c6c-72241a2d7d2a"
      },
      "source": [
        "tweets.shape"
      ],
      "execution_count": 19,
      "outputs": [
        {
          "output_type": "execute_result",
          "data": {
            "text/plain": [
              "(78, 2)"
            ]
          },
          "metadata": {
            "tags": []
          },
          "execution_count": 19
        }
      ]
    },
    {
      "cell_type": "code",
      "metadata": {
        "id": "ZYfRML0JX3Kd",
        "colab_type": "code",
        "colab": {
          "base_uri": "https://localhost:8080/",
          "height": 34
        },
        "outputId": "5424bb89-6002-47a9-e9f6-5cc526c76bcb"
      },
      "source": [
        "#new column for retweets\n",
        "tweets['is_retweet'] = tweets['text'].apply(lambda x: x[:2]=='RT')\n",
        "tweets['is_retweet'].sum()  # number of retweets"
      ],
      "execution_count": 20,
      "outputs": [
        {
          "output_type": "execute_result",
          "data": {
            "text/plain": [
              "40"
            ]
          },
          "metadata": {
            "tags": []
          },
          "execution_count": 20
        }
      ]
    },
    {
      "cell_type": "code",
      "metadata": {
        "id": "9h5DMCl_YDrq",
        "colab_type": "code",
        "colab": {
          "base_uri": "https://localhost:8080/",
          "height": 195
        },
        "outputId": "3c9d286b-8e75-47f8-93c6-964af7ca4ba4"
      },
      "source": [
        "##most repeated tweets\n",
        "tweets.groupby(['text']).size().reset_index(name='counts')\\\n",
        "  .sort_values('counts', ascending=False).head(5)"
      ],
      "execution_count": 22,
      "outputs": [
        {
          "output_type": "execute_result",
          "data": {
            "text/html": [
              "<div>\n",
              "<style scoped>\n",
              "    .dataframe tbody tr th:only-of-type {\n",
              "        vertical-align: middle;\n",
              "    }\n",
              "\n",
              "    .dataframe tbody tr th {\n",
              "        vertical-align: top;\n",
              "    }\n",
              "\n",
              "    .dataframe thead th {\n",
              "        text-align: right;\n",
              "    }\n",
              "</style>\n",
              "<table border=\"1\" class=\"dataframe\">\n",
              "  <thead>\n",
              "    <tr style=\"text-align: right;\">\n",
              "      <th></th>\n",
              "      <th>text</th>\n",
              "      <th>counts</th>\n",
              "    </tr>\n",
              "  </thead>\n",
              "  <tbody>\n",
              "    <tr>\n",
              "      <th>36</th>\n",
              "      <td>RT @IreneSuaMar: My latest \\science garment\\\":...</td>\n",
              "      <td>10</td>\n",
              "    </tr>\n",
              "    <tr>\n",
              "      <th>50</th>\n",
              "      <td>RT @drdavidsamadi: Fear does not help us comba...</td>\n",
              "      <td>3</td>\n",
              "    </tr>\n",
              "    <tr>\n",
              "      <th>32</th>\n",
              "      <td>RT @CVASPS: The Manual, Vol. 1, Ch. 2: Sport S...</td>\n",
              "      <td>2</td>\n",
              "    </tr>\n",
              "    <tr>\n",
              "      <th>57</th>\n",
              "      <td>RT @webofscience: Web of Science Journal Citat...</td>\n",
              "      <td>2</td>\n",
              "    </tr>\n",
              "    <tr>\n",
              "      <th>37</th>\n",
              "      <td>RT @ManashiGanguly: If you ever wanted to unde...</td>\n",
              "      <td>1</td>\n",
              "    </tr>\n",
              "  </tbody>\n",
              "</table>\n",
              "</div>"
            ],
            "text/plain": [
              "                                                 text  counts\n",
              "36  RT @IreneSuaMar: My latest \\science garment\\\":...      10\n",
              "50  RT @drdavidsamadi: Fear does not help us comba...       3\n",
              "32  RT @CVASPS: The Manual, Vol. 1, Ch. 2: Sport S...       2\n",
              "57  RT @webofscience: Web of Science Journal Citat...       2\n",
              "37  RT @ManashiGanguly: If you ever wanted to unde...       1"
            ]
          },
          "metadata": {
            "tags": []
          },
          "execution_count": 22
        }
      ]
    },
    {
      "cell_type": "code",
      "metadata": {
        "id": "qmsZLyGRYJUk",
        "colab_type": "code",
        "colab": {}
      },
      "source": [
        "def find_retweeted(tweet):\n",
        "    '''This function will extract the twitter handles of retweed people'''\n",
        "    return re.findall('(?<=RT\\s)(@[A-Za-z]+[A-Za-z0-9-_]+)', tweet)\n",
        "\n",
        "def find_mentioned(tweet):\n",
        "    '''This function will extract the twitter handles of people mentioned in the tweet'''\n",
        "    return re.findall('(?<!RT\\s)(@[A-Za-z]+[A-Za-z0-9-_]+)', tweet)  \n",
        "\n",
        "def find_hashtags(tweet):\n",
        "    '''This function will extract hashtags'''\n",
        "    return re.findall('(#[A-Za-z]+[A-Za-z0-9-_]+)', tweet)"
      ],
      "execution_count": 23,
      "outputs": []
    },
    {
      "cell_type": "code",
      "metadata": {
        "id": "1gr0pjD-YXE3",
        "colab_type": "code",
        "colab": {}
      },
      "source": [
        "#new column for retweets,mentioned\n",
        "tweets['retweeted'] = tweets.text.apply(find_retweeted)\n",
        "tweets['mentioned'] = tweets.text.apply(find_mentioned)\n",
        "tweets['hashtags'] = tweets.text.apply(find_hashtags)"
      ],
      "execution_count": 27,
      "outputs": []
    },
    {
      "cell_type": "code",
      "metadata": {
        "id": "d7_tRa-rYeOR",
        "colab_type": "code",
        "colab": {
          "base_uri": "https://localhost:8080/",
          "height": 195
        },
        "outputId": "81f879a0-4152-4192-b3ca-e285624d8aa4"
      },
      "source": [
        "tweets.head()"
      ],
      "execution_count": 28,
      "outputs": [
        {
          "output_type": "execute_result",
          "data": {
            "text/html": [
              "<div>\n",
              "<style scoped>\n",
              "    .dataframe tbody tr th:only-of-type {\n",
              "        vertical-align: middle;\n",
              "    }\n",
              "\n",
              "    .dataframe tbody tr th {\n",
              "        vertical-align: top;\n",
              "    }\n",
              "\n",
              "    .dataframe thead th {\n",
              "        text-align: right;\n",
              "    }\n",
              "</style>\n",
              "<table border=\"1\" class=\"dataframe\">\n",
              "  <thead>\n",
              "    <tr style=\"text-align: right;\">\n",
              "      <th></th>\n",
              "      <th>user</th>\n",
              "      <th>text</th>\n",
              "      <th>is_retweet</th>\n",
              "      <th>retweeted</th>\n",
              "      <th>mentioned</th>\n",
              "      <th>hashtags</th>\n",
              "    </tr>\n",
              "  </thead>\n",
              "  <tbody>\n",
              "    <tr>\n",
              "      <th>0</th>\n",
              "      <td>bnmallick</td>\n",
              "      <td>RT @nramind: Something’s gone seriously wrong ...</td>\n",
              "      <td>True</td>\n",
              "      <td>[@nramind]</td>\n",
              "      <td>[]</td>\n",
              "      <td>[]</td>\n",
              "    </tr>\n",
              "    <tr>\n",
              "      <th>1</th>\n",
              "      <td>travissari</td>\n",
              "      <td>Exploring the Real World of #DataScience - KDn...</td>\n",
              "      <td>False</td>\n",
              "      <td>[]</td>\n",
              "      <td>[]</td>\n",
              "      <td>[#DataScience]</td>\n",
              "    </tr>\n",
              "    <tr>\n",
              "      <th>2</th>\n",
              "      <td>tommy3141watson</td>\n",
              "      <td>@boltsandbombers The data of animal agricultur...</td>\n",
              "      <td>False</td>\n",
              "      <td>[]</td>\n",
              "      <td>[@boltsandbombers]</td>\n",
              "      <td>[]</td>\n",
              "    </tr>\n",
              "    <tr>\n",
              "      <th>3</th>\n",
              "      <td>nyudataservices</td>\n",
              "      <td>We are excited that #NYULibraries is now part ...</td>\n",
              "      <td>False</td>\n",
              "      <td>[]</td>\n",
              "      <td>[@open_textbooks]</td>\n",
              "      <td>[#NYULibraries]</td>\n",
              "    </tr>\n",
              "    <tr>\n",
              "      <th>4</th>\n",
              "      <td>Dybel</td>\n",
              "      <td>RT @IreneSuaMar: My latest \\science garment\\\":...</td>\n",
              "      <td>True</td>\n",
              "      <td>[@IreneSuaMar]</td>\n",
              "      <td>[]</td>\n",
              "      <td>[#geoscience]</td>\n",
              "    </tr>\n",
              "  </tbody>\n",
              "</table>\n",
              "</div>"
            ],
            "text/plain": [
              "              user  ...         hashtags\n",
              "0        bnmallick  ...               []\n",
              "1       travissari  ...   [#DataScience]\n",
              "2  tommy3141watson  ...               []\n",
              "3  nyudataservices  ...  [#NYULibraries]\n",
              "4            Dybel  ...    [#geoscience]\n",
              "\n",
              "[5 rows x 6 columns]"
            ]
          },
          "metadata": {
            "tags": []
          },
          "execution_count": 28
        }
      ]
    },
    {
      "cell_type": "code",
      "metadata": {
        "id": "mCgzpQKCYxLV",
        "colab_type": "code",
        "colab": {
          "base_uri": "https://localhost:8080/",
          "height": 67
        },
        "outputId": "029de77c-68b5-4cdf-8d54-30d5995674eb"
      },
      "source": [
        "tweets.is_retweet.value_counts()"
      ],
      "execution_count": 29,
      "outputs": [
        {
          "output_type": "execute_result",
          "data": {
            "text/plain": [
              "True     40\n",
              "False    38\n",
              "Name: is_retweet, dtype: int64"
            ]
          },
          "metadata": {
            "tags": []
          },
          "execution_count": 29
        }
      ]
    },
    {
      "cell_type": "code",
      "metadata": {
        "id": "HTMcSpv6Y3M9",
        "colab_type": "code",
        "colab": {}
      },
      "source": [
        "# take the rows from the hashtag columns where there are actually hashtags\n",
        "hashtags_list_df = tweets.loc[\n",
        "                       tweets.hashtags.apply(\n",
        "                           lambda hashtags_list: hashtags_list !=[]\n",
        "                       ),['hashtags']]"
      ],
      "execution_count": 30,
      "outputs": []
    },
    {
      "cell_type": "code",
      "metadata": {
        "id": "i058sDPMZDP6",
        "colab_type": "code",
        "colab": {
          "base_uri": "https://localhost:8080/",
          "height": 195
        },
        "outputId": "e9d5bd46-717a-4c0a-bfca-df19e701acf7"
      },
      "source": [
        "hashtags_list_df.head()"
      ],
      "execution_count": 31,
      "outputs": [
        {
          "output_type": "execute_result",
          "data": {
            "text/html": [
              "<div>\n",
              "<style scoped>\n",
              "    .dataframe tbody tr th:only-of-type {\n",
              "        vertical-align: middle;\n",
              "    }\n",
              "\n",
              "    .dataframe tbody tr th {\n",
              "        vertical-align: top;\n",
              "    }\n",
              "\n",
              "    .dataframe thead th {\n",
              "        text-align: right;\n",
              "    }\n",
              "</style>\n",
              "<table border=\"1\" class=\"dataframe\">\n",
              "  <thead>\n",
              "    <tr style=\"text-align: right;\">\n",
              "      <th></th>\n",
              "      <th>hashtags</th>\n",
              "    </tr>\n",
              "  </thead>\n",
              "  <tbody>\n",
              "    <tr>\n",
              "      <th>1</th>\n",
              "      <td>[#DataScience]</td>\n",
              "    </tr>\n",
              "    <tr>\n",
              "      <th>3</th>\n",
              "      <td>[#NYULibraries]</td>\n",
              "    </tr>\n",
              "    <tr>\n",
              "      <th>4</th>\n",
              "      <td>[#geoscience]</td>\n",
              "    </tr>\n",
              "    <tr>\n",
              "      <th>6</th>\n",
              "      <td>[#geoscience]</td>\n",
              "    </tr>\n",
              "    <tr>\n",
              "      <th>8</th>\n",
              "      <td>[#geoscience]</td>\n",
              "    </tr>\n",
              "  </tbody>\n",
              "</table>\n",
              "</div>"
            ],
            "text/plain": [
              "          hashtags\n",
              "1   [#DataScience]\n",
              "3  [#NYULibraries]\n",
              "4    [#geoscience]\n",
              "6    [#geoscience]\n",
              "8    [#geoscience]"
            ]
          },
          "metadata": {
            "tags": []
          },
          "execution_count": 31
        }
      ]
    },
    {
      "cell_type": "code",
      "metadata": {
        "id": "BYwAvSFVZRKL",
        "colab_type": "code",
        "colab": {}
      },
      "source": [
        "# take the rows from the hashtag columns where there are actually hashtags\n",
        "hashtags_list_df = tweets.loc[\n",
        "                       tweets.hashtags.apply(\n",
        "                           lambda hashtags_list: hashtags_list !=[]\n",
        "                       ),['hashtags']]\n"
      ],
      "execution_count": 37,
      "outputs": []
    },
    {
      "cell_type": "code",
      "metadata": {
        "id": "ZQtURiwDaJYE",
        "colab_type": "code",
        "colab": {}
      },
      "source": [
        "# create dataframe where each use of hashtag gets its own row\n",
        "flattened_hashtags_df = pd.DataFrame(\n",
        "    [hashtag for hashtags_list in hashtags_list_df.hashtags\n",
        "    for hashtag in hashtags_list],\n",
        "    columns=['hashtag'])"
      ],
      "execution_count": 38,
      "outputs": []
    },
    {
      "cell_type": "code",
      "metadata": {
        "id": "hbTZoY00a3-E",
        "colab_type": "code",
        "colab": {
          "base_uri": "https://localhost:8080/",
          "height": 195
        },
        "outputId": "7230e555-1432-4d95-ab8e-61bfe5422a5f"
      },
      "source": [
        "flattened_hashtags_df.head()"
      ],
      "execution_count": 39,
      "outputs": [
        {
          "output_type": "execute_result",
          "data": {
            "text/html": [
              "<div>\n",
              "<style scoped>\n",
              "    .dataframe tbody tr th:only-of-type {\n",
              "        vertical-align: middle;\n",
              "    }\n",
              "\n",
              "    .dataframe tbody tr th {\n",
              "        vertical-align: top;\n",
              "    }\n",
              "\n",
              "    .dataframe thead th {\n",
              "        text-align: right;\n",
              "    }\n",
              "</style>\n",
              "<table border=\"1\" class=\"dataframe\">\n",
              "  <thead>\n",
              "    <tr style=\"text-align: right;\">\n",
              "      <th></th>\n",
              "      <th>hashtag</th>\n",
              "    </tr>\n",
              "  </thead>\n",
              "  <tbody>\n",
              "    <tr>\n",
              "      <th>0</th>\n",
              "      <td>#DataScience</td>\n",
              "    </tr>\n",
              "    <tr>\n",
              "      <th>1</th>\n",
              "      <td>#NYULibraries</td>\n",
              "    </tr>\n",
              "    <tr>\n",
              "      <th>2</th>\n",
              "      <td>#geoscience</td>\n",
              "    </tr>\n",
              "    <tr>\n",
              "      <th>3</th>\n",
              "      <td>#geoscience</td>\n",
              "    </tr>\n",
              "    <tr>\n",
              "      <th>4</th>\n",
              "      <td>#geoscience</td>\n",
              "    </tr>\n",
              "  </tbody>\n",
              "</table>\n",
              "</div>"
            ],
            "text/plain": [
              "         hashtag\n",
              "0   #DataScience\n",
              "1  #NYULibraries\n",
              "2    #geoscience\n",
              "3    #geoscience\n",
              "4    #geoscience"
            ]
          },
          "metadata": {
            "tags": []
          },
          "execution_count": 39
        }
      ]
    },
    {
      "cell_type": "code",
      "metadata": {
        "id": "_q-cPrjFa6e6",
        "colab_type": "code",
        "colab": {
          "base_uri": "https://localhost:8080/",
          "height": 285
        },
        "outputId": "98ac708f-bc5b-4fd3-882e-02b33f30853d"
      },
      "source": [
        "popular_hashtags = flattened_hashtags_df.groupby('hashtag').size()\\\n",
        "                                        .reset_index(name='counts')\\\n",
        "                                        .sort_values('counts', ascending=False)\\\n",
        "                                        .reset_index(drop=True)\n",
        "\n",
        "counts = flattened_hashtags_df.groupby(['hashtag']).size()\\\n",
        "                              .reset_index(name='counts')\\\n",
        "                              .counts\n",
        "\n",
        "# define bins for histogram                              \n",
        "my_bins = np.arange(0,counts.max()+2, 5)-0.5\n",
        "\n",
        "# plot histogram of tweet counts\n",
        "plt.figure()\n",
        "plt.hist(counts, bins = my_bins)\n",
        "plt.xlabels = np.arange(1,counts.max()+1, 1)\n",
        "plt.xlabel('hashtag number of appearances')\n",
        "plt.ylabel('frequency')\n",
        "plt.yscale('log', nonposy='clip')\n",
        "plt.show()                                        "
      ],
      "execution_count": 40,
      "outputs": [
        {
          "output_type": "display_data",
          "data": {
            "image/png": "[encoded data removed]",
            "text/plain": [
              "<Figure size 432x288 with 1 Axes>"
            ]
          },
          "metadata": {
            "tags": []
          }
        }
      ]
    },
    {
      "cell_type": "code",
      "metadata": {
        "id": "GIBAEnFRbCXH",
        "colab_type": "code",
        "colab": {}
      },
      "source": [
        "# take the rows from the hashtag columns where there are actually hashtags\n",
        "mentioned_list_df = tweets.loc[\n",
        "                       tweets.mentioned.apply(\n",
        "                           lambda hashtags_list: hashtags_list !=[]\n",
        "                       ),['mentioned']]\n",
        "\n",
        "# create dataframe where each use of hashtag gets its own row\n",
        "flattened_mentioned_df = pd.DataFrame(\n",
        "    [mentioned for mentioned_list in mentioned_list_df.mentioned\n",
        "    for mentioned in mentioned_list],\n",
        "    columns=['mentioned'])\n",
        "\n",
        "# number of times each hashtag appears\n",
        "counts = flattened_mentioned_df.groupby(['mentioned']).size()\\\n",
        "                              .reset_index(name='counts')\\\n",
        "                              .counts\n",
        "\n",
        "# define bins for histogram                              \n",
        "my_bins = np.arange(0,counts.max()+2, 5)-0.5\n",
        "                     "
      ],
      "execution_count": 42,
      "outputs": []
    },
    {
      "cell_type": "code",
      "metadata": {
        "id": "8eBt8Yy6bVyS",
        "colab_type": "code",
        "colab": {}
      },
      "source": [
        "# take hashtags which appear at least this amount of times\n",
        "min_appearance = 1000\n",
        "# find popular hashtags - make into python set for efficiency\n",
        "popular_hashtags_set = set(popular_hashtags[\n",
        "                           popular_hashtags.counts>=min_appearance\n",
        "                           ]['hashtag'])\n",
        "\n",
        "\n",
        "# make a new column with only the popular hashtags\n",
        "hashtags_list_df['popular_hashtags'] = hashtags_list_df.hashtags.apply(\n",
        "            lambda hashtag_list: [hashtag for hashtag in hashtag_list\n",
        "                                  if hashtag in popular_hashtags_set])\n",
        "# drop rows without popular hashtag\n",
        "popular_hashtags_list_df = hashtags_list_df.loc[\n",
        "            hashtags_list_df.popular_hashtags.apply(lambda hashtag_list: hashtag_list !=[])]"
      ],
      "execution_count": 43,
      "outputs": []
    },
    {
      "cell_type": "code",
      "metadata": {
        "id": "BimoSNnTc_Wm",
        "colab_type": "code",
        "colab": {}
      },
      "source": [
        "# make new dataframe\n",
        "hashtag_vector_df = popular_hashtags_list_df.loc[:, ['popular_hashtags']]\n",
        "\n",
        "for hashtag in popular_hashtags_set:\n",
        "    # make columns to encode presence of hashtags\n",
        "    hashtag_vector_df['{}'.format(hashtag)] = hashtag_vector_df.popular_hashtags.apply(\n",
        "        lambda hashtag_list: int(hashtag in hashtag_list))"
      ],
      "execution_count": 44,
      "outputs": []
    },
    {
      "cell_type": "code",
      "metadata": {
        "id": "zZFk8Aa6dF_w",
        "colab_type": "code",
        "colab": {
          "base_uri": "https://localhost:8080/",
          "height": 671
        },
        "outputId": "97997ba9-61c9-4016-9224-0ed5436236be"
      },
      "source": [
        "# Drop popular_hashtags columns\n",
        "hashtag_matrix = hashtag_vector_df.drop('popular_hashtags', axis=1)\n",
        "\n",
        "\n",
        "# calculate the correlation matrix\n",
        "correlations = hashtag_matrix.corr()\n",
        "\n",
        "# plot the correlation matrix\n",
        "plt.figure(figsize=(10,10))\n",
        "sns.heatmap(correlations,\n",
        "    cmap='RdBu',\n",
        "    vmin=-1,\n",
        "    vmax=1,\n",
        "    square = True,\n",
        "    cbar_kws={'label':'correlation'})\n",
        "plt.show()"
      ],
      "execution_count": 45,
      "outputs": [
        {
          "output_type": "stream",
          "text": [
            "/usr/local/lib/python3.6/dist-packages/seaborn/matrix.py:305: UserWarning: Attempting to set identical bottom == top == 0 results in singular transformations; automatically expanding.\n",
            "  ax.set(xlim=(0, self.data.shape[1]), ylim=(0, self.data.shape[0]))\n",
            "/usr/local/lib/python3.6/dist-packages/seaborn/matrix.py:305: UserWarning: Attempting to set identical left == right == 0 results in singular transformations; automatically expanding.\n",
            "  ax.set(xlim=(0, self.data.shape[1]), ylim=(0, self.data.shape[0]))\n"
          ],
          "name": "stderr"
        },
        {
          "output_type": "display_data",
          "data": {
            "image/png": "[encoded data removed]",
            "text/plain": [
              "<Figure size 720x720 with 2 Axes>"
            ]
          },
          "metadata": {
            "tags": []
          }
        }
      ]
    },
    {
      "cell_type": "code",
      "metadata": {
        "id": "DLEe1sWbdMxW",
        "colab_type": "code",
        "colab": {}
      },
      "source": [
        ""
      ],
      "execution_count": null,
      "outputs": []
    }
  ]
}