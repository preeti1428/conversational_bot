{
  "nbformat": 4,
  "nbformat_minor": 0,
  "metadata": {
    "colab": {
      "name": "speech2txt.ipynb",
      "provenance": []
    },
    "kernelspec": {
      "name": "python3",
      "display_name": "Python 3"
    }
  },
  "cells": [
    {
      "cell_type": "code",
      "metadata": {
        "id": "DHMfqwL-KMU8",
        "colab_type": "code",
        "colab": {
          "base_uri": "https://localhost:8080/",
          "height": 154
        },
        "outputId": "4774c877-22b0-4af5-83c6-d4763d47dad6"
      },
      "source": [
        "\n",
        "!pip install SpeechRecognition pydub"
      ],
      "execution_count": 3,
      "outputs": [
        {
          "output_type": "stream",
          "text": [
            "Collecting SpeechRecognition\n",
            "\u001b[?25l  Downloading https://files.pythonhosted.org/packages/26/e1/7f5678cd94ec1234269d23756dbdaa4c8cfaed973412f88ae8adf7893a50/SpeechRecognition-3.8.1-py2.py3-none-any.whl (32.8MB)\n",
            "\u001b[K     |████████████████████████████████| 32.8MB 125kB/s \n",
            "\u001b[?25hCollecting pydub\n",
            "  Downloading https://files.pythonhosted.org/packages/7b/d1/fbfa79371a8cd9bb15c2e3c480d7e6e340ed5cc55005174e16f48418333a/pydub-0.24.1-py2.py3-none-any.whl\n",
            "Installing collected packages: SpeechRecognition, pydub\n",
            "Successfully installed SpeechRecognition-3.8.1 pydub-0.24.1\n"
          ],
          "name": "stdout"
        }
      ]
    },
    {
      "cell_type": "code",
      "metadata": {
        "id": "7LlPxxkdKVlo",
        "colab_type": "code",
        "colab": {}
      },
      "source": [
        "import speech_recognition as sr"
      ],
      "execution_count": 12,
      "outputs": []
    },
    {
      "cell_type": "code",
      "metadata": {
        "id": "gcKbK6FxKe1r",
        "colab_type": "code",
        "colab": {}
      },
      "source": [
        "filename = '/content/activate (online-audio-converter.com).wav'"
      ],
      "execution_count": 15,
      "outputs": []
    },
    {
      "cell_type": "code",
      "metadata": {
        "id": "aY1daVpnKwux",
        "colab_type": "code",
        "colab": {
          "base_uri": "https://localhost:8080/",
          "height": 34
        },
        "outputId": "5147001d-9a53-4ead-f847-1a9afc4972b6"
      },
      "source": [
        "###FOR SHORT SENTENCESs######\n",
        "r = sr.Recognizer()\n",
        "with sr.AudioFile(filename) as source:\n",
        "    # listen for the data (load audio to memory)\n",
        "    audio_data = r.record(source)\n",
        "    # recognize (convert from speech to text)\n",
        "    text = r.recognize_google(audio_data)\n",
        "    print(text)"
      ],
      "execution_count": 16,
      "outputs": [
        {
          "output_type": "stream",
          "text": [
            "hello activate hello there\n"
          ],
          "name": "stdout"
        }
      ]
    },
    {
      "cell_type": "code",
      "metadata": {
        "id": "JB7mtiLdK3_m",
        "colab_type": "code",
        "colab": {}
      },
      "source": [
        "import os \n",
        "from pydub import AudioSegment\n",
        "from pydub.silence import split_on_silence"
      ],
      "execution_count": 17,
      "outputs": []
    },
    {
      "cell_type": "code",
      "metadata": {
        "id": "uZWyIOUDO5P6",
        "colab_type": "code",
        "colab": {}
      },
      "source": [
        "###FOR LARGE FILES####\n",
        "def get_large_audio_transcription(path):\n",
        "    \"\"\"\n",
        "    Splitting the large audio file into chunks\n",
        "    and apply speech recognition on each of these chunks\n",
        "    \"\"\"\n",
        "    # open the audio file using pydub\n",
        "    sound = AudioSegment.from_wav(path)  \n",
        "    # split audio sound where silence is 700 miliseconds or more and get chunks\n",
        "    chunks = split_on_silence(sound,\n",
        "        # experiment with this value for your target audio file\n",
        "        min_silence_len = 500,\n",
        "        # adjust this per requirement\n",
        "        silence_thresh = sound.dBFS-14,\n",
        "        # keep the silence for 1 second, adjustable as well\n",
        "        keep_silence=500,\n",
        "    )\n",
        "    folder_name = \"audio-chunks\"\n",
        "    # create a directory to store the audio chunks\n",
        "    if not os.path.isdir(folder_name):\n",
        "        os.mkdir(folder_name)\n",
        "    whole_text = \"\"\n",
        "    # process each chunk \n",
        "    for i, audio_chunk in enumerate(chunks, start=1):\n",
        "        # export audio chunk and save it in\n",
        "        # the `folder_name` directory.\n",
        "        chunk_filename = os.path.join(folder_name, f\"chunk{i}.wav\")\n",
        "        audio_chunk.export(chunk_filename, format=\"wav\")\n",
        "        # recognize the chunk\n",
        "        with sr.AudioFile(chunk_filename) as source:\n",
        "            audio_listened = r.record(source)\n",
        "            # try converting it to text\n",
        "            try:\n",
        "                text = r.recognize_google(audio_listened)\n",
        "            except sr.UnknownValueError as e:\n",
        "                print(\"Error:\", str(e))\n",
        "            else:\n",
        "                text = f\"{text.capitalize()}. \"\n",
        "                print(chunk_filename, \":\", text)\n",
        "                whole_text += text\n",
        "    # return the text for all chunks detected\n",
        "    return whole_text"
      ],
      "execution_count": 18,
      "outputs": []
    },
    {
      "cell_type": "code",
      "metadata": {
        "id": "PCxVYs2IPOim",
        "colab_type": "code",
        "colab": {
          "base_uri": "https://localhost:8080/",
          "height": 844
        },
        "outputId": "46bdc1af-12d2-471e-c073-c90ce7840788"
      },
      "source": [
        "path = \"/content/sadhana_07_tagore.wav\"\n",
        "print(\"\\nFull text:\", get_large_audio_transcription(path))"
      ],
      "execution_count": 19,
      "outputs": [
        {
          "output_type": "stream",
          "text": [
            "audio-chunks/chunk1.wav : This is a librivox recording. \n",
            "audio-chunks/chunk2.wav : All librivox recordings are in the public domain. \n",
            "audio-chunks/chunk3.wav : For more information or to volunteer. \n",
            "audio-chunks/chunk4.wav : Please visit librivox.org. \n",
            "audio-chunks/chunk5.wav : Recorded by annie coleman in st louis missouri in february 2006. \n",
            "Error: \n",
            "audio-chunks/chunk7.wav : The realization of life. \n",
            "audio-chunks/chunk8.wav : Internet. \n",
            "audio-chunks/chunk9.wav : Chapter 7. \n",
            "audio-chunks/chunk10.wav : The realization of beauty. \n",
            "audio-chunks/chunk11.wav : Things in which we do not take for either a burden. \n",
            "audio-chunks/chunk12.wav : They're useful and therefore in temporary and partial relation to us. \n",
            "audio-chunks/chunk13.wav : Becoming burdensome when their utility is lost. \n",
            "audio-chunks/chunk14.wav : Or they're like wandering vagabonds. \n",
            "audio-chunks/chunk15.wav : And then passing on. \n",
            "audio-chunks/chunk16.wav : I think it's only completely our own. \n",
            "audio-chunks/chunk17.wav : When it is a thing of joy to us. \n",
            "audio-chunks/chunk18.wav : The greater part of this world is to us as if it were nothing. \n",
            "audio-chunks/chunk19.wav : So we can watch her remains. \n",
            "audio-chunks/chunk20.wav : Ford us our own self. \n",
            "audio-chunks/chunk21.wav : The entire world is given to us. \n",
            "audio-chunks/chunk22.wav : And all our powers have their final meeting in the face. \n",
            "audio-chunks/chunk23.wav : Patrimony. \n",
            "audio-chunks/chunk24.wav : But what is the function of our sense of beauty in this process of the extension of our consciousness. \n",
            "audio-chunks/chunk25.wav : Is it there to separate truth into strong lights and shadows and bring it before us and his uncompromising distinction of beauty and ugliness. \n",
            "audio-chunks/chunk26.wav : If that were so bad. \n",
            "audio-chunks/chunk27.wav : That this sense of beauty created ascension in our universe and sets up a wall of hindrance across the highway of communication. \n",
            "audio-chunks/chunk28.wav : That leads from everything to all things. \n",
            "audio-chunks/chunk29.wav : But that cannot be true. \n",
            "audio-chunks/chunk30.wav : As long as our realization is incomplete. \n"
          ],
          "name": "stdout"
        },
        {
          "output_type": "error",
          "ename": "error",
          "evalue": "ignored",
          "traceback": [
            "\u001b[0;31m---------------------------------------------------------------------------\u001b[0m",
            "\u001b[0;31merror\u001b[0m                                     Traceback (most recent call last)",
            "\u001b[0;32m<ipython-input-19-b0921dbd225d>\u001b[0m in \u001b[0;36m<module>\u001b[0;34m()\u001b[0m\n\u001b[1;32m      1\u001b[0m \u001b[0mpath\u001b[0m \u001b[0;34m=\u001b[0m \u001b[0;34m\"/content/sadhana_07_tagore.wav\"\u001b[0m\u001b[0;34m\u001b[0m\u001b[0;34m\u001b[0m\u001b[0m\n\u001b[0;32m----> 2\u001b[0;31m \u001b[0mprint\u001b[0m\u001b[0;34m(\u001b[0m\u001b[0;34m\"\\nFull text:\"\u001b[0m\u001b[0;34m,\u001b[0m \u001b[0mget_large_audio_transcription\u001b[0m\u001b[0;34m(\u001b[0m\u001b[0mpath\u001b[0m\u001b[0;34m)\u001b[0m\u001b[0;34m)\u001b[0m\u001b[0;34m\u001b[0m\u001b[0;34m\u001b[0m\u001b[0m\n\u001b[0m",
            "\u001b[0;32m<ipython-input-18-4ccf07becc13>\u001b[0m in \u001b[0;36mget_large_audio_transcription\u001b[0;34m(path)\u001b[0m\n\u001b[1;32m     28\u001b[0m         \u001b[0;31m# recognize the chunk\u001b[0m\u001b[0;34m\u001b[0m\u001b[0;34m\u001b[0m\u001b[0;34m\u001b[0m\u001b[0m\n\u001b[1;32m     29\u001b[0m         \u001b[0;32mwith\u001b[0m \u001b[0msr\u001b[0m\u001b[0;34m.\u001b[0m\u001b[0mAudioFile\u001b[0m\u001b[0;34m(\u001b[0m\u001b[0mchunk_filename\u001b[0m\u001b[0;34m)\u001b[0m \u001b[0;32mas\u001b[0m \u001b[0msource\u001b[0m\u001b[0;34m:\u001b[0m\u001b[0;34m\u001b[0m\u001b[0;34m\u001b[0m\u001b[0m\n\u001b[0;32m---> 30\u001b[0;31m             \u001b[0maudio_listened\u001b[0m \u001b[0;34m=\u001b[0m \u001b[0mr\u001b[0m\u001b[0;34m.\u001b[0m\u001b[0mrecord\u001b[0m\u001b[0;34m(\u001b[0m\u001b[0msource\u001b[0m\u001b[0;34m)\u001b[0m\u001b[0;34m\u001b[0m\u001b[0;34m\u001b[0m\u001b[0m\n\u001b[0m\u001b[1;32m     31\u001b[0m             \u001b[0;31m# try converting it to text\u001b[0m\u001b[0;34m\u001b[0m\u001b[0;34m\u001b[0m\u001b[0;34m\u001b[0m\u001b[0m\n\u001b[1;32m     32\u001b[0m             \u001b[0;32mtry\u001b[0m\u001b[0;34m:\u001b[0m\u001b[0;34m\u001b[0m\u001b[0;34m\u001b[0m\u001b[0m\n",
            "\u001b[0;32m/usr/local/lib/python3.6/dist-packages/speech_recognition/__init__.py\u001b[0m in \u001b[0;36mrecord\u001b[0;34m(self, source, duration, offset)\u001b[0m\n\u001b[1;32m    495\u001b[0m                     \u001b[0moffset_reached\u001b[0m \u001b[0;34m=\u001b[0m \u001b[0;32mTrue\u001b[0m\u001b[0;34m\u001b[0m\u001b[0;34m\u001b[0m\u001b[0m\n\u001b[1;32m    496\u001b[0m \u001b[0;34m\u001b[0m\u001b[0m\n\u001b[0;32m--> 497\u001b[0;31m             \u001b[0mbuffer\u001b[0m \u001b[0;34m=\u001b[0m \u001b[0msource\u001b[0m\u001b[0;34m.\u001b[0m\u001b[0mstream\u001b[0m\u001b[0;34m.\u001b[0m\u001b[0mread\u001b[0m\u001b[0;34m(\u001b[0m\u001b[0msource\u001b[0m\u001b[0;34m.\u001b[0m\u001b[0mCHUNK\u001b[0m\u001b[0;34m)\u001b[0m\u001b[0;34m\u001b[0m\u001b[0;34m\u001b[0m\u001b[0m\n\u001b[0m\u001b[1;32m    498\u001b[0m             \u001b[0;32mif\u001b[0m \u001b[0mlen\u001b[0m\u001b[0;34m(\u001b[0m\u001b[0mbuffer\u001b[0m\u001b[0;34m)\u001b[0m \u001b[0;34m==\u001b[0m \u001b[0;36m0\u001b[0m\u001b[0;34m:\u001b[0m \u001b[0;32mbreak\u001b[0m\u001b[0;34m\u001b[0m\u001b[0;34m\u001b[0m\u001b[0m\n\u001b[1;32m    499\u001b[0m \u001b[0;34m\u001b[0m\u001b[0m\n",
            "\u001b[0;32m/usr/local/lib/python3.6/dist-packages/speech_recognition/__init__.py\u001b[0m in \u001b[0;36mread\u001b[0;34m(self, size)\u001b[0m\n\u001b[1;32m    282\u001b[0m                 \u001b[0msample_width\u001b[0m \u001b[0;34m=\u001b[0m \u001b[0;36m4\u001b[0m  \u001b[0;31m# make sure we thread the buffer as 32-bit audio now, after converting it from 24-bit audio\u001b[0m\u001b[0;34m\u001b[0m\u001b[0;34m\u001b[0m\u001b[0m\n\u001b[1;32m    283\u001b[0m             \u001b[0;32mif\u001b[0m \u001b[0mself\u001b[0m\u001b[0;34m.\u001b[0m\u001b[0maudio_reader\u001b[0m\u001b[0;34m.\u001b[0m\u001b[0mgetnchannels\u001b[0m\u001b[0;34m(\u001b[0m\u001b[0;34m)\u001b[0m \u001b[0;34m!=\u001b[0m \u001b[0;36m1\u001b[0m\u001b[0;34m:\u001b[0m  \u001b[0;31m# stereo audio\u001b[0m\u001b[0;34m\u001b[0m\u001b[0;34m\u001b[0m\u001b[0m\n\u001b[0;32m--> 284\u001b[0;31m                 \u001b[0mbuffer\u001b[0m \u001b[0;34m=\u001b[0m \u001b[0maudioop\u001b[0m\u001b[0;34m.\u001b[0m\u001b[0mtomono\u001b[0m\u001b[0;34m(\u001b[0m\u001b[0mbuffer\u001b[0m\u001b[0;34m,\u001b[0m \u001b[0msample_width\u001b[0m\u001b[0;34m,\u001b[0m \u001b[0;36m1\u001b[0m\u001b[0;34m,\u001b[0m \u001b[0;36m1\u001b[0m\u001b[0;34m)\u001b[0m  \u001b[0;31m# convert stereo audio data to mono\u001b[0m\u001b[0;34m\u001b[0m\u001b[0;34m\u001b[0m\u001b[0m\n\u001b[0m\u001b[1;32m    285\u001b[0m             \u001b[0;32mreturn\u001b[0m \u001b[0mbuffer\u001b[0m\u001b[0;34m\u001b[0m\u001b[0;34m\u001b[0m\u001b[0m\n\u001b[1;32m    286\u001b[0m \u001b[0;34m\u001b[0m\u001b[0m\n",
            "\u001b[0;31merror\u001b[0m: not a whole number of frames"
          ]
        }
      ]
    },
    {
      "cell_type": "code",
      "metadata": {
        "id": "q1XbfSDAPTc8",
        "colab_type": "code",
        "colab": {
          "base_uri": "https://localhost:8080/",
          "height": 390
        },
        "outputId": "9e104afe-96cd-4209-dd5c-7f5197586e95"
      },
      "source": [
        "path2 = \"/content/sadhana_06_tagore_64kb.wav\"\n",
        "print(\"\\nFull text:\", get_large_audio_transcription(path2))"
      ],
      "execution_count": 21,
      "outputs": [
        {
          "output_type": "stream",
          "text": [
            "audio-chunks/chunk1.wav : This is a librivox recording. \n",
            "audio-chunks/chunk2.wav : All librivox recordings are in the public domain. \n",
            "audio-chunks/chunk3.wav : For more information and to find out how you can volunteer please. \n",
            "audio-chunks/chunk4.wav : Librivox.org. \n",
            "audio-chunks/chunk5.wav : Recorded by tipton tampa florida on february 5th 2006. \n",
            "audio-chunks/chunk6.wav : Rabindranath tagore. \n",
            "audio-chunks/chunk7.wav : Stop. \n",
            "audio-chunks/chunk8.wav : The realization of life. \n",
            "audio-chunks/chunk9.wav : Chapter 6. \n",
            "audio-chunks/chunk10.wav : Realization in action. \n",
            "audio-chunks/chunk11.wav : It is only those who have known joy expresses itself through law. \n",
            "audio-chunks/chunk12.wav : Who has learnt to transcend the law. \n",
            "audio-chunks/chunk13.wav : Not that the bonds of law have ceased to exist for them. \n",
            "audio-chunks/chunk14.wav : But that the bonds have become to them. \n",
            "audio-chunks/chunk15.wav : As the form of freedom incontinence. \n",
            "audio-chunks/chunk16.wav : The free soul delights and accepting bonds and does not seek to evade any of them. \n",
            "audio-chunks/chunk17.wav : 4 in each does it feel the manifestation of an infinite energy. \n",
            "audio-chunks/chunk18.wav : Was joy is in creation. \n",
            "audio-chunks/chunk19.wav : As a matter of fact where there are no bots. \n",
            "\n",
            "Full text: This is a librivox recording. All librivox recordings are in the public domain. For more information and to find out how you can volunteer please. Librivox.org. Recorded by tipton tampa florida on february 5th 2006. Rabindranath tagore. Stop. The realization of life. Chapter 6. Realization in action. It is only those who have known joy expresses itself through law. Who has learnt to transcend the law. Not that the bonds of law have ceased to exist for them. But that the bonds have become to them. As the form of freedom incontinence. The free soul delights and accepting bonds and does not seek to evade any of them. 4 in each does it feel the manifestation of an infinite energy. Was joy is in creation. As a matter of fact where there are no bots. \n"
          ],
          "name": "stdout"
        }
      ]
    },
    {
      "cell_type": "code",
      "metadata": {
        "id": "5WvitFunSRc-",
        "colab_type": "code",
        "colab": {}
      },
      "source": [
        ""
      ],
      "execution_count": null,
      "outputs": []
    }
  ]
}