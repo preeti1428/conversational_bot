{
  "nbformat": 4,
  "nbformat_minor": 0,
  "metadata": {
    "colab": {
      "name": "response_gen.ipynb",
      "provenance": [],
      "toc_visible": true
    },
    "kernelspec": {
      "name": "python3",
      "display_name": "Python 3"
    }
  },
  "cells": [
    {
      "cell_type": "code",
      "metadata": {
        "id": "RacRIQqcJuFi",
        "colab_type": "code",
        "colab": {
          "base_uri": "https://localhost:8080/",
          "height": 286
        },
        "outputId": "d30b29d4-e4fb-4107-905e-3dd495681b84"
      },
      "source": [
        "!wget http://opus.nlpl.eu/download.php?f=OpenSubtitles/v2018/mono/OpenSubtitles.raw.en.gz\n",
        "\n"
      ],
      "execution_count": 1,
      "outputs": [
        {
          "output_type": "stream",
          "text": [
            "--2020-06-24 08:20:18--  http://opus.nlpl.eu/download.php?f=OpenSubtitles/v2018/mono/OpenSubtitles.raw.en.gz\n",
            "Resolving opus.nlpl.eu (opus.nlpl.eu)... 193.166.25.9\n",
            "Connecting to opus.nlpl.eu (opus.nlpl.eu)|193.166.25.9|:80... connected.\n",
            "HTTP request sent, awaiting response... 302 Found\n",
            "Location: https://object.pouta.csc.fi/OPUS-OpenSubtitles/v2018/mono/en.txt.gz [following]\n",
            "--2020-06-24 08:20:19--  https://object.pouta.csc.fi/OPUS-OpenSubtitles/v2018/mono/en.txt.gz\n",
            "Resolving object.pouta.csc.fi (object.pouta.csc.fi)... 86.50.254.18, 86.50.254.19\n",
            "Connecting to object.pouta.csc.fi (object.pouta.csc.fi)|86.50.254.18|:443... connected.\n",
            "HTTP request sent, awaiting response... 200 OK\n",
            "Length: 3663376519 (3.4G) [application/gzip]\n",
            "Saving to: ‘download.php?f=OpenSubtitles%2Fv2018%2Fmono%2FOpenSubtitles.raw.en.gz’\n",
            "\n",
            "download.php?f=Open 100%[===================>]   3.41G  21.5MB/s    in 2m 46s  \n",
            "\n",
            "2020-06-24 08:23:06 (21.1 MB/s) - ‘download.php?f=OpenSubtitles%2Fv2018%2Fmono%2FOpenSubtitles.raw.en.gz’ saved [3663376519/3663376519]\n",
            "\n"
          ],
          "name": "stdout"
        }
      ]
    },
    {
      "cell_type": "code",
      "metadata": {
        "id": "WOAYvi6MXkd_",
        "colab_type": "code",
        "colab": {
          "base_uri": "https://localhost:8080/",
          "height": 218
        },
        "outputId": "8527109d-e3e0-4641-b3d3-c42ecc9b6745"
      },
      "source": [
        "! apt install gunzip\n",
        "!apt install gzip"
      ],
      "execution_count": 2,
      "outputs": [
        {
          "output_type": "stream",
          "text": [
            "Reading package lists... Done\n",
            "Building dependency tree       \n",
            "Reading state information... Done\n",
            "E: Unable to locate package gunzip\n",
            "Reading package lists... Done\n",
            "Building dependency tree       \n",
            "Reading state information... Done\n",
            "gzip is already the newest version (1.6-5ubuntu1).\n",
            "The following package was automatically installed and is no longer required:\n",
            "  libnvidia-common-440\n",
            "Use 'apt autoremove' to remove it.\n",
            "0 upgraded, 0 newly installed, 0 to remove and 59 not upgraded.\n"
          ],
          "name": "stdout"
        }
      ]
    },
    {
      "cell_type": "code",
      "metadata": {
        "id": "u84DfdAm8QKN",
        "colab_type": "code",
        "colab": {
          "base_uri": "https://localhost:8080/",
          "height": 34
        },
        "outputId": "68a2bf88-2beb-455a-f513-73a270fe52e4"
      },
      "source": [
        "import os\n",
        "!gunzip -c download.php?f=OpenSubtitles%2Fv2018%2Fmono%2FOpenSubtitles.raw.en.gz >/tmp/lines"
      ],
      "execution_count": 3,
      "outputs": [
        {
          "output_type": "stream",
          "text": [
            "^C\n"
          ],
          "name": "stdout"
        }
      ]
    },
    {
      "cell_type": "code",
      "metadata": {
        "id": "IU201MrcAOJh",
        "colab_type": "code",
        "colab": {
          "base_uri": "https://localhost:8080/",
          "height": 34
        },
        "outputId": "20d6a0b8-0ab2-42ac-8639-a20a53eaf6f3"
      },
      "source": [
        "os.mkdir('lines')\n",
        "!split -a 3 -l 100000 download.php?f=OpenSubtitles%2Fv2018%2Fmono%2FOpenSubtitles.raw.en.gz lines/lines-\n"
      ],
      "execution_count": 4,
      "outputs": [
        {
          "output_type": "stream",
          "text": [
            "^C\n"
          ],
          "name": "stdout"
        }
      ]
    },
    {
      "cell_type": "code",
      "metadata": {
        "id": "8s9NU7NLkPxP",
        "colab_type": "code",
        "colab": {
          "base_uri": "https://localhost:8080/",
          "height": 1000
        },
        "outputId": "9acc1c41-ff3e-48ab-b933-46214773d3ae"
      },
      "source": [
        "!apt install gsutil\n",
        "\n",
        "#BUCKET=\"your-bucket\"\n",
        "#gsutil -m cp -r lines gs://${BUCKET?}/opensubtitles/raw/\n",
        "#gsutil cp gs://${BUCKET?}/opensubtitles/raw/ gs://new\n"
      ],
      "execution_count": null,
      "outputs": [
        {
          "output_type": "stream",
          "text": [
            "Reading package lists... Done\n",
            "Building dependency tree       \n",
            "Reading state information... Done\n",
            "The following package was automatically installed and is no longer required:\n",
            "  libnvidia-common-440\n",
            "Use 'apt autoremove' to remove it.\n",
            "The following additional packages will be installed:\n",
            "  libencode-locale-perl libhtml-form-perl libhtml-parser-perl\n",
            "  libhtml-tagset-perl libhttp-date-perl libhttp-message-perl libio-html-perl\n",
            "  liblwp-mediatypes-perl libtimedate-perl liburi-perl\n",
            "Suggested packages:\n",
            "  libdata-dump-perl libwww-perl\n",
            "The following NEW packages will be installed:\n",
            "  gsutil libencode-locale-perl libhtml-form-perl libhtml-parser-perl\n",
            "  libhtml-tagset-perl libhttp-date-perl libhttp-message-perl libio-html-perl\n",
            "  liblwp-mediatypes-perl libtimedate-perl liburi-perl\n",
            "0 upgraded, 11 newly installed, 0 to remove and 59 not upgraded.\n",
            "Need to get 389 kB of archives.\n",
            "After this operation, 1,282 kB of additional disk space will be used.\n",
            "Get:1 http://archive.ubuntu.com/ubuntu bionic/main amd64 libencode-locale-perl all 1.05-1 [12.3 kB]\n",
            "Get:2 http://archive.ubuntu.com/ubuntu bionic/main amd64 libhtml-tagset-perl all 3.20-3 [12.1 kB]\n",
            "Get:3 http://archive.ubuntu.com/ubuntu bionic/main amd64 liburi-perl all 1.73-1 [77.2 kB]\n",
            "Get:4 http://archive.ubuntu.com/ubuntu bionic/main amd64 libhtml-parser-perl amd64 3.72-3build1 [85.9 kB]\n",
            "Get:5 http://archive.ubuntu.com/ubuntu bionic/main amd64 libtimedate-perl all 2.3000-2 [37.5 kB]\n",
            "Get:6 http://archive.ubuntu.com/ubuntu bionic/main amd64 libhttp-date-perl all 6.02-1 [10.4 kB]\n",
            "Get:7 http://archive.ubuntu.com/ubuntu bionic/main amd64 libio-html-perl all 1.001-1 [14.9 kB]\n",
            "Get:8 http://archive.ubuntu.com/ubuntu bionic/main amd64 liblwp-mediatypes-perl all 6.02-1 [21.7 kB]\n",
            "Get:9 http://archive.ubuntu.com/ubuntu bionic/main amd64 libhttp-message-perl all 6.14-1 [72.1 kB]\n",
            "Get:10 http://archive.ubuntu.com/ubuntu bionic/main amd64 libhtml-form-perl all 6.03-1 [23.5 kB]\n",
            "Get:11 http://archive.ubuntu.com/ubuntu bionic/universe amd64 gsutil all 3.1-1 [21.6 kB]\n",
            "Fetched 389 kB in 1s (480 kB/s)\n",
            "Selecting previously unselected package libencode-locale-perl.\n",
            "(Reading database ... 144328 files and directories currently installed.)\n",
            "Preparing to unpack .../00-libencode-locale-perl_1.05-1_all.deb ...\n",
            "Unpacking libencode-locale-perl (1.05-1) ...\n",
            "Selecting previously unselected package libhtml-tagset-perl.\n",
            "Preparing to unpack .../01-libhtml-tagset-perl_3.20-3_all.deb ...\n",
            "Unpacking libhtml-tagset-perl (3.20-3) ...\n",
            "Selecting previously unselected package liburi-perl.\n",
            "Preparing to unpack .../02-liburi-perl_1.73-1_all.deb ...\n",
            "Unpacking liburi-perl (1.73-1) ...\n",
            "Selecting previously unselected package libhtml-parser-perl.\n",
            "Preparing to unpack .../03-libhtml-parser-perl_3.72-3build1_amd64.deb ...\n",
            "Unpacking libhtml-parser-perl (3.72-3build1) ...\n",
            "Selecting previously unselected package libtimedate-perl.\n",
            "Preparing to unpack .../04-libtimedate-perl_2.3000-2_all.deb ...\n",
            "Unpacking libtimedate-perl (2.3000-2) ...\n",
            "Selecting previously unselected package libhttp-date-perl.\n",
            "Preparing to unpack .../05-libhttp-date-perl_6.02-1_all.deb ...\n",
            "Unpacking libhttp-date-perl (6.02-1) ...\n",
            "Selecting previously unselected package libio-html-perl.\n",
            "Preparing to unpack .../06-libio-html-perl_1.001-1_all.deb ...\n",
            "Unpacking libio-html-perl (1.001-1) ...\n",
            "Selecting previously unselected package liblwp-mediatypes-perl.\n",
            "Preparing to unpack .../07-liblwp-mediatypes-perl_6.02-1_all.deb ...\n",
            "Unpacking liblwp-mediatypes-perl (6.02-1) ...\n",
            "Selecting previously unselected package libhttp-message-perl.\n",
            "Preparing to unpack .../08-libhttp-message-perl_6.14-1_all.deb ...\n",
            "Unpacking libhttp-message-perl (6.14-1) ...\n",
            "Selecting previously unselected package libhtml-form-perl.\n",
            "Preparing to unpack .../09-libhtml-form-perl_6.03-1_all.deb ...\n",
            "Unpacking libhtml-form-perl (6.03-1) ...\n",
            "Selecting previously unselected package gsutil.\n",
            "Preparing to unpack .../10-gsutil_3.1-1_all.deb ...\n",
            "Unpacking gsutil (3.1-1) ...\n",
            "Setting up libhtml-tagset-perl (3.20-3) ...\n",
            "Setting up libencode-locale-perl (1.05-1) ...\n",
            "Setting up libtimedate-perl (2.3000-2) ...\n",
            "Setting up libio-html-perl (1.001-1) ...\n",
            "Setting up liblwp-mediatypes-perl (6.02-1) ...\n",
            "Setting up liburi-perl (1.73-1) ...\n",
            "Setting up libhtml-parser-perl (3.72-3build1) ...\n",
            "Setting up libhttp-date-perl (6.02-1) ...\n",
            "Setting up libhttp-message-perl (6.14-1) ...\n",
            "Setting up libhtml-form-perl (6.03-1) ...\n",
            "Setting up gsutil (3.1-1) ...\n",
            "Processing triggers for man-db (2.8.3-2ubuntu0.1) ...\n"
          ],
          "name": "stdout"
        }
      ]
    },
    {
      "cell_type": "code",
      "metadata": {
        "id": "mtHDnL6GK4eK",
        "colab_type": "code",
        "colab": {}
      },
      "source": [
        "import tensorflow as tf\n",
        "\n",
        "import tensorflow_datasets as tfds\n",
        "import os\n",
        "\n",
        "import re\n",
        "\n"
      ],
      "execution_count": 9,
      "outputs": []
    },
    {
      "cell_type": "code",
      "metadata": {
        "id": "6lUN1_G1ZbXH",
        "colab_type": "code",
        "colab": {
          "base_uri": "https://localhost:8080/",
          "height": 34
        },
        "outputId": "c5987d3a-a1f0-4bf5-837b-fe808b0855d9"
      },
      "source": [
        "line_cleaner(\"-hello!!?\\n\")\n",
        "line_cleaner(b\"..heyo(wats! d matter?)\\n\")"
      ],
      "execution_count": 116,
      "outputs": [
        {
          "output_type": "execute_result",
          "data": {
            "text/plain": [
              "\"b'..heyo(wats! d matter?)\\\\n'\""
            ]
          },
          "metadata": {
            "tags": []
          },
          "execution_count": 116
        }
      ]
    },
    {
      "cell_type": "code",
      "metadata": {
        "id": "d74K51_5t2Qk",
        "colab_type": "code",
        "colab": {}
      },
      "source": [
        "def line_cleaner(line):\n",
        "  line =\"\"+str(line)\n",
        "  #line=line.decode(\"utf-8\")\n",
        "  #print(type(line))\n",
        "  x=line.strip(\" -.!?\\n\")\n",
        "  return x\n",
        "\n",
        "\n",
        "#!touch newlines.txt\n",
        "#os.mkdir('newline')"
      ],
      "execution_count": 114,
      "outputs": []
    },
    {
      "cell_type": "code",
      "metadata": {
        "id": "nIzYnk2qcbb8",
        "colab_type": "code",
        "colab": {
          "base_uri": "https://localhost:8080/",
          "height": 34
        },
        "outputId": "3d558645-985e-42a8-ca02-c2537dc4e6b3"
      },
      "source": [
        "line_cleaner(\" -.what!?\\n\")\n"
      ],
      "execution_count": 98,
      "outputs": [
        {
          "output_type": "execute_result",
          "data": {
            "text/plain": [
              "'what'"
            ]
          },
          "metadata": {
            "tags": []
          },
          "execution_count": 98
        }
      ]
    },
    {
      "cell_type": "code",
      "metadata": {
        "id": "M0klLW0ZKjTO",
        "colab_type": "code",
        "colab": {
          "base_uri": "https://localhost:8080/",
          "height": 54
        },
        "outputId": "417e1429-1ce3-4bf2-d649-78a5ded498ba"
      },
      "source": [
        "lines=[]\n",
        "i=0\n",
        "f= open('/content/subtitle.txt','r')\n",
        "for line in f:\n",
        "  #print(line)\n",
        "  line=line_cleaner(line)\n",
        "  i=i+1\n",
        "  if(i>=10000):\n",
        "    break\n",
        "  lines.append(line)\n",
        "print(i,lines)\n"
      ],
      "execution_count": 99,
      "outputs": [
        {
          "output_type": "stream",
          "text": [
            "3762 ['Brain is the most important', 'organ of the human body', '', 'The most vital component', 'in the human system', '', \"It's the brain that\", 'controls every body part', '', 'Brain is the king of', 'all human body parts', '', 'Patient Name: Sanjay Singhania', '', 'Symptom: Anti retrograde Amnesia', 'Short term memory loss', '', 'Hey, look at this one', '', \"This one's my project\", '', 'No', 'Sir, but why', '', 'Forget this case', '', \"But it's such an interesting case\", '', 'Interesting yes,', \"but it's also a police case\", '', 'But', '', 'Sunita, you want me', 'to call your parents', '', \"Fine, I won't take it up\", '', 'But as medical students,', 'we want to know', '', 'Okay', '', 'That is Sanjay Singhania', '', 'Hit on the head with an iron rod', '', 'After the incident,', 'he lost his memory', '', 'He is unable', 'to remember anything now', '', 'We call it short term memory loss', '', 'He remembers events', 'for only about 15 minutes', '', 'Afterwards', '', 'he forgets everything', '', \"For example, he'd ask your name\", '', 'and in 15 minutes', 'he will have forgotten it', '', 'He recalls only fragments', 'of the incident', '', \"But we can't say\", 'how much of it he remembers', '', 'Regular tasks like eating', '', 'drinking, driving,', 'also his feelings', '', 'lie embedded in his', 'sub-conscious mind', '', 'How does he go about', 'his everyday routine', '', 'How does a child perform', 'instructed tasks', '', 'By committing to memory,', 'learning by rote', '', 'Or, by jotting things down', 'in writing', '', 'Likewise,', 'he remembers tasks by writing', '', 'What was that incident', 'Who assaulted him', '', 'This, no one knows', '', 'Unfortunately,', \"he doesn't even recall a face\", '', 'How can someone live on like this', '', 'I wonder,', \"what he's doing this moment\", '', 'Ghajini', '', 'Killed, just like Mangesh', '', 'The second, this week', '', \"Even if I've\", 'to search every street', '', \"l'm going to get\", 'this one in 48 hours', '', 'Find out who', '', 'I must find him before', 'the police gets to him', '', 'Where to', '', 'There', '', 'Orchard Avenue', 'Pin 400076. My street', '', \"We're in Orchard Avenue\", '', 'Take the next right', '', \"Odyssey. It's a building on your\", 'right. I want to go there', '', 'My building', '', '73 Rupees', '', 'Whose address is it', '', 'Mine', '', 'Kill him. Find Ghajini', '', 'Find him Kill him', '', 'Photos', '', 'House Keys', '', 'Wallet', '', 'Cell phone', '', 'Camera', '', 'Gun', '', 'Remove T shirt', '', 'Revenge', '', 'Revenge', '', 'Kalpana was killed who is Ghajini', '', 'Check notes, Photos', '', 'Find Ghajini', '', 'Kill him', '', 'Day before yesterday. 10 am', 'From Hiranandani to Andheri Station', '', 'Yes, I sold that ticket', '', \"What's written behind it\", '', 'He paid me with a five hundred note', '', \"I didn't have change\", 'So I wrote it on the back', '', 'He forgot to take the change', 'hey, it must be him', '', 'Who', '', 'This one always forgets', '', 'Sometimes he forgets to buy', \"a ticket, sometimes it's the change\", '', 'At times,', \"he'll go on buying tickets\", '', 'He keeps on asking', 'the names of bus stops', '', 'Can you recognise him', 'Why not... looks a strange sort,', '', 'keeps his head shaven,', 'has a long scar on the head', '', 'Every morning at ten,', 'he takes the bus from Hiranandani', '', \"It's nine\", '', 'We got an hour to get him. Come on', '', 'Take camera', '', 'Bus 392', '', 'There he goes', '', 'Hey', '', 'Damn it', '', 'See you in the canteen', 'after the lecture', '', 'Excuse me... excuse me, sir', '', \"Hi sir! I'm Sunita\", '', 'Sunita. Final year medical student', '', \"You don't know me. But I know you\", '', 'Can I talk to you', 'for two minutes... please', '', 'As a medical student,', 'I want to know how', '', \"What's that\", '', 'My camera', '', 'Why is it beeping', '', 'It buzzes every 15 minutes', '', 'So that I can take photos', 'of important things, people', '', 'to inscribe on them, to remember', '', 'On photos', '', 'Yes', '', 'What are you doing', '', 'Making notes', '', 'Tear it out, throw it away. Do it', '', 'Can I see a photo', '', 'My watchman', '', 'My doctor', '', 'My manager', '', 'My building', '', 'Hiranandani? Do you live there', '', 'Yes', '', 'Can I ask', 'how you got injured in the head', '', 'My professor told me', 'about some accident', '', 'Do you remember anything', 'about the incident', '', 'Yes', '', 'What happened? Who hit you', '', \"We aren't friends enough\", 'for me to confide in you', '', 'Sorry sir... sorry', '', \"I'd like to meet you again\", '', 'Take my photograph', '', \"I'll use it to remind you\", 'when we meet again', '', 'One more', 'one for you and one for me', '', \"I hope I'm a friend now\", 'Please write on it \"My Friend\"', '', 'Thanks', '', 'The next time we meet,', \"I'll show this to you\", '', 'You think the police is incompetent', '', 'My name is Sanjay', '', 'Sanjay Singhania', '', 'Business is my passion,', \"it's also my job\", '', 'My dad dreamt of', 'turning the enterprise', '', \"into India's largest\", 'cellphone company', '', 'His dream is now my purpose', '', \"And I'll leave nothing undone\", 'in order to achieve it', '', 'I live in Mumbai', 'My mother was born in this city', '', 'Here we are, in Air Voice', '', 'In my office', '', 'And they are my most', 'trusted employees', '', 'Dad said,', 'put all your emotions into work,', '', \"don't get emotional about it\", '', 'Across India,', '', \"we're targeting\", 'a 500 million subscriber base', '', 'Are you shocked', '', 'I can achieve it', '', \"And I'm not being vain,\", \"I'm just confident\", '', \"It's a fine line between\", 'vanity and confidence', '', 'That I can achieve,', 'speaks my confidence', '', 'Only I can achieve,', 'would speak of my vanity', '', 'We need confidence,', \"let's build on it\", '', 'Kindly leave vanity outside office', '', 'Thank you', '', 'Swing in the rhythm', '\"Jhoom jhamak jhoom\"', '', 'Tap out the beat \"Tum tamaak tum\"', '', 'Swing in the rhythm', '\"Jhoom jhamak jhoom\"', '', 'Tap out the beat \"Tum tamaak tum\\'\\'', 'Hey kiddo', '', 'Hey kiddo, you better hear', '', 'Right from my heart,', \"here's the order\", '', 'Just live it up,', '', 'there are no limits,', '', 'no borders', '', \"There's a heady cocktail,\", '', 'in wines of merriness', '', 'If you got a taste for life,', '', 'toe the line of happiness', '', \"Listen, here's the secret\", '', \"There's no life in EMls,\", 'take a deep breath', '', \"Don't you hold back,\", 'just give it away', '', 'Why hide in hearts,', 'what you can say', '', 'Sing and smile,', '', \"it's what life teaches\", '', 'Swing it, beat it,', '', \"we aren't hostages\", '', 'Swing in the rhythm of', '\"Jhoom jhamak jhoom\"', '', 'Tap out the beat \"Tum tamaak tum\"', '', 'Ride the rhythm of waves,', '', 'abreast all tides and ebbs', '', 'Swing it, give it a shake', '', 'Kalpana', '', \"The call sheet said nine o'clock\", '', \"You're in at ten thirty\", '', \"Everyone's waiting\", '', 'So much traffic today', '', \"Don't make excuses. Go and change\", '', 'Okay, sir', '', 'Hi... am I too late', '', 'What life... filling in for a crowd', '', 'and she... preens like a superstar', '', 'Can I go for lights', 'And roll', '', 'Lights', '', 'Roll camera', 'Rolling', '', 'Action', 'Rub and scrub', '', 'till my hands tire', '', 'The yellow just, will never wear', '', 'Camera pan', '', \"Action, ma'am\", '', \"That's why you must get Kite\", \"Then you'll discover white\", '', 'Sparkling white in one Rupee', '', 'Gleaming, glistening whites', '', 'Kalpana', '', \"It'll be our eighth display site\", 'on this road', '', 'Are all six hoardings available', 'Three, sir', '', 'Next choice', 'Over here', '', 'This one', '', 'a hoarding on the terrace', '', 'will be visible from the fly-over', '', 'Looks okay to me', '', 'Who lives here? - A girl', 'Kalpana. We can approach her', '', 'Do that', '', 'Now what', 'Battery problem', '', \"What's going on\", \"Now it's the battery\", '', 'Excuse me,', 'can we talk to Kalpana-madam', '', 'Kalpana isn\\'t \"madam\"', 'Plain Kalpana', '', 'And you are', \"We're from Air Voice\", '', \"I'm Mr Sanjay Singhania's\", 'executive assistant', '', 'Air Voice', '', 'Myself, Satveer Kohli', 'I run this ad film company', '', \"We've done a range of ads... soaps,\", 'oils, toothbrushes, digestive pills', '', 'Our latest was Monkey Brand', 'toothpowder. You want an ad film', '', 'We just want to see Kalpana madam', 'Mr Singhania has sent me here', '', 'Kalpana... is in the green room', 'Go ahead', '', \"Excuse me, ma'am\", '', 'Yes', \"I'm Shroff. From Air Voice\", '', 'Open the door, go in', '', 'Serve them tea and come out', '', \"Sorry, don't try to convince me\", '', 'Your boss is enchanted', 'But so what', '', 'The proposition ought', 'to be acceptable to me', '', \"It's a matter of love\", 'matter of love', '', 'Please madam,', 'on behalf of my boss, I request', '', 'Please think it over', '', \"What's there to think over\", 'You have heard my decision', '', 'Now leave, please', '', \"They're going\", '', 'Madam, please... - Tell your boss,', 'Kalpana is displeased', '', 'If you change your mind,', '', \"here's my card\", '', 'Do call', '', 'Okay', '', 'Sorry', \"I'll get ready in two minutes\", '', 'Madam, one minute', '', 'Madam', '', 'Kalpana ji', '', 'Ji', '', 'I apologise for intruding', 'upon your personal affairs', '', 'But all of us heard', 'whatever went on inside', '', 'Spot boy, find a chair for madam', '', 'Let me surmise', \"what might've happened\", '', 'Sanjay Singhania saw you somewhere', '', 'And when he saw you,', '', 'it was love at first sight', 'Thereby hangs a question', '', 'He pins his hopes on a yes from you,', \"it's why he sent his men to you\", '', 'And you for one,', 'are putting him away', '', 'Am I correct, madam? Correct', '', 'Yes, correct', '', 'Why are you spurning', 'a fine proposition', '', \"Today, it's a man who owns Air Voice\", \"Tomorrow, it'll be a Bill Gates\", '', 'Think,', 'what a wonderful opportunity it is', '', 'On a nod from you, our company', 'will be transported to such heights', '', \"You must've done\", 'a deed of great virtue', '', 'Just say a prayer', 'and take the plunge', '', \"Allow me... I'll call\", 'Sir... oh, but no', '', 'Ringing... talk', 'Talk', '', 'Air Voice. Can I help you', '', 'Hello', '', 'This is Kalpana', '', 'Kalpana... who', '', 'Oh, Kalpana of the terrace-hoarding', '', 'We found out about you', \"The house isn't yours\", '', \"You haven't paid rent in two months\", '', \"And you're playing hard to get\", 'Get lost', '', 'That office is all shook-up', '', 'Keep talking', '', 'Go to your boss and tell him,', '', 'Kalpana said yes', '', \"So what if it isn't gold\", 'It still shines', '', 'Nathumal Gendamal Jewellers', '42 Link Road, Malad West', '', 'We have no branches', '', 'Mom, in whom do we trust', '', 'In mother first, you must trust', 'Only another thing, everyone trusts', '', \"It's our soap. Hamam\", '', 'Sir... why must you', '', \"It doesn't matter, my child\", '', 'Kalpana, I want to tell you', 'about something', '', 'An ad film agent is coming here', '', \"He's into the big agencies\", '', 'What if he gets to know that', '', 'Sanjay Singhania is', 'romancing our lead model', '', 'Then', '', \"It'll be a great boost for us\", '', 'How long will we', 'keep making small films', '', 'Our company needs national clients', '', 'Sir, consider it done', '', 'Kalpana is like a magic wand', \"One flourish and yesterday's gone\", '', \"Don't worry\", '', \"Excuse me... I'm doing an article\", 'on struggling models for Mayapuri', '', 'Can I interiew some models', 'In the green room', '', 'Excuse me', 'Oh, welcome', '', 'Be seated', 'Thank you', '', \"My director said you'd be coming\", '', 'Really', '', 'Setting up these', 'sets takes so much time', '', 'And I got to get to the airport', 'Sanjay is flying in', '', 'Sanjay who', '', 'Sanjay Singhania', '', 'Of Air Voice', '', 'My lover', '', 'Sanjay Singhania? Your lover', '', 'Yes, you know... actually,', '', 'we met at Delhi airport', '', \"I never knew he's Sanjay Singhania\", '', 'In the airport lobby,', 'he kept staring at me', '', 'On the flight,', 'he was on the seat beside me', '', \"Hi, I'm Sanjay Singhania\", 'and I said hi', '', \"That's when I discovered who he is\", '', 'One minute... can I write it down', '', 'Yes, why not', \"You won't believe this\", '', 'From Delhi to Bombay,', 'he talked non-stop', '', 'Plain chatter', 'I could only listen on', '', 'Then all of a sudden,', '', 'I love you', '', 'Will you marry me', '', 'I say, are you silly', 'Are marriages made in thin air', '', \"Back in Bombay, I'm inundated\", 'with phone calls and smses', '', 'I never gave him much of a lift', '', 'In the end, I took pity on him', '', 'So I decided to say yes', '', \"This week's breaking news,\", 'right inside Mayapuri', '', 'Business tycoon Sanjay Singhania', 'in an affair with an aspiring model', '', 'Read about it', \"in Kalpana's own words\", '', 'Hello', '', \"I don't know who she is,\", \"I haven't even seen her face\", '', \"Please don't disturb me\", '', 'Hello', '', \"It's all lies\", '', 'How do I know', \"why she's saying all this\", '', 'No, please talk to me later', '', 'No more calls', '', 'Does it have her photos', '', 'Neither yours, nor hers', '', 'I want to meet her. Find out', '', 'What do we do now', \"It's impossible. Do we return\", '', \"Wait, let's see\", 'how we can go inside', '', 'Something happened...? - The children', 'are here to see the museum', '', 'What are we to do', '', 'One second', '', 'Careful while you', 'get your feet into it', '', 'So sweet', '', 'Bye', 'Bye', '', 'Sir, should I go in', '', 'Wait here', '', \"Excuse me, who's Kalpana\", 'Up on the terrace', '', \"My name's Sachin. Like, Sachin\", 'Tendulkar. Recommend me, please', '', 'Congratulations for the good news', 'Thank you', '', \"Excuse me... I'll see what I can do\", '', 'Hello... thanks', '', 'Did you send the photographs', '', 'Excuse me', '', 'One second', '', \"Yes... I'll talk to you later\", '', 'Yes', '', 'I... read the news in Mayapuri', '', 'Not Mayapuri again', 'what a day of calls', '', 'autographs, photographs,', 'bouquets, smses', '', \"I didn't tell my story for all this\", 'Sanjay must be so annoyed', '', 'Sanjay', '', 'Sanjay Singhania', '', 'Actually,', '', 'we met at Delhi airport', '', \"I never knew he's Sanjay Singhania\", '', 'In the airport lobby,', 'he kept staring at me', '', 'On the flight,', 'he was on the seat beside me', '', \"Hi, I'm Sanjay Singhania\", 'and I said hi', '', \"That's when I discovered who he is\", '', 'From Delhi to Bombay,', 'he talked non-stop', '', 'Plain chatter', 'I could only listen on', '', 'Then all of a sudden, \"I love you.\"', '', 'Will you marry me', '', 'I say, are you silly', '', 'Are marriages made in thin air', '', 'I said, no', '', 'He said, please', '', 'I said no, he kept on... please', '', 'I said, okay', '', 'How can you say no', 'to such persistence', '', 'That was the long and short of it', '', 'This magazine had to print this', '', \"and now everyone's after me,\", '', 'for recommendations,', 'advertisements', '', 'Are you here for the ad shoot', '', 'Well I', '', 'Everyone wears suits', 'for the auditions', '', 'Have you been selected for the ad', '', 'Do you want me to recommend you', '', \"But it's the talent that you need\", '', \"Don't set your sights\", 'on Van Heusen Suitings', '', 'Do what comes your way, papads,', 'mosquito coils', '', 'Catch this', '', \"Now let's hear you say,\", \"here's one for men\", '', 'For the bounce in the hair', 'for alpha males... a comb', '', \"Let's hear you say that\", '', 'Never did it before', '', 'Very poor... got to put in hard work', '', 'Leave your number', \"If anything comes up, I'll call\", '', \"What's your number\", '', '9650055555', '', 'Air Voice', '', 'Same as mine', '', 'Crap', '', \"You don't find a network anywhere\", '', 'I keep telling Sanjay,', 'to try turning', '', 'the antenna or something', '', 'It may be his pocket borough', '', 'but it ought', 'to meet some standard', '', 'Hi Anjali... one second', '', 'What did you say your name was', '', 'Sachin', '', 'Yes', '', \"Sachin, I'm a bit busy\", 'If something comes up', '', \"I'll call. Bye\", '', 'Yes Anjali', '', 'you know what happened', '', 'Mayapuri just splashed', 'my love story', '', 'And now all day,', \"I've been inundated\", '', \"with calls, SMS's,\", \"oh, I'm drained\", '', 'No! Actually,', 'we only met at Delhi airport', '', 'On the flight,', 'he was on the seat beside me', '', \"Hi, I'm Sanjay Singhania\", 'and I said hi', '', 'From Delhi to Bombay,', 'he talked non-stop', '', 'After completing law,', 'I went to USA', '', 'and I took my MBA at Harvard', '', \"I've been looking\", 'after this business', '', 'since my father passed away', '', 'I strongly feel', 'that technology has', '', 'to reach people beyond', 'social and economic barriers', '', \"And that's the goal of our company\", '', \"I'm so sorry\", 'cellphones, I tell you', '', 'Excuse me. Hello', '', \"Hello, I'm Kalpana\", '', 'Kalpana... which Kalpana', '', 'Kalpana', \"Sanjay Singhania's girlfriend\", '', 'Oh I see... how have you been', '', \"I'm good\", '', 'Will you do an underwear ad', '', 'Underwear', '', 'Along with you', '', \"It's a men's only\", '', 'Come over quickly', '', 'Take down the address', '', 'One minute', '', 'Mark... make a note of', 'this address, please', '', 'Go on', '', 'Building 3', 'Chinchpokli Bunder. Khau Galli', '', 'Building 3. Chinchpokli Bunder. Khau', 'Galli. - I beg your pardon, sir', '', 'Chinchpokli Bunder. Khau Galli', '', 'Chi', 'Chinchpokli', '', 'Chinchbokli', 'Pokli Bunder. Khau Galli', '', 'Khau... Galli', 'Galli', '', 'Got it', 'Thanks', '', 'Arrive in an autorickshaw', '', \"you'll make a nice impression\", '', \"D'you have the money for it\", \"I'll manage\", '', 'Fine', '', \"I'll be waiting for you. Bye\", '', \"It's just too hot today\", '', 'Are you new to Mumbai', '', 'Come in the rains,', 'here rivers flow', '', \"Moron! Can't you drive properly\", '', 'Sorry', '', 'Why are you saying sorry', '', 'Pedestrians are taking up roads,', 'are we meant to fly', '', 'Drive carefully', '', 'Get out of my way', '', 'Boo', '', \"You're gawking\", 'like a country bumpkin', '', 'The manager wants a new model', 'I thought of you', '', \"What's this ad about\", '', 'Zorro elastic underwear', '', 'If you make it to this ad,', \"you've made it\", '', 'Just imagine yourself', 'in your underwear', '', 'at every traffic junction in town,', '', 'on sixty feet-by-forty feet banners', '', 'Your luck is going to change', '', \"Don't worry,\", \"you're getting selected\", '', \"Can't I get any other ad\", '', 'Yes', 'how about one on skin allergies', '', 'Allergies', '', 'Salves, for ringworm infections', '', 'Then the first choice is better', 'Okay', '', \"Hello ma'am\", 'Hi', '', \"You said you'd recommend\", 'me for the underwear ad', '', 'The underwear is taken,', 'how about ringworm', '', \"I'll take anything, I want a break\", '', \"That's the spirit\", '', 'See', 'Come to the studio tomorrow morning', '', \"Thank you, ma'am\", \"You're welcome\", '', 'Wait a minute', '', 'Uncle, where are you headed', '', 'To the bus stop ahead', '', \"I'll take you there\", '', \"I'll describe to you\", \"whatever's on the way\", '', 'Okay', '', 'Four schoolgirls playing', 'tic tac toe', '', 'A wife thrashing her husband', '', 'He has lost his shirt', '', \"That's a radio at the tea shop\", '', \"We're crossing Sai Baba's temple\", '', \"Now we're on the main road\", '', \"You've reached your bus stop\", '', \"I'm swayed\", '', 'She flew in... like a swirl of wind', '', 'With that first look,', '', 'she held my eyes', '', \"So unlikely, she's so different,\", '', 'so unique,', '', 'so unpretentious,', '', 'and just no attitude', '', \"So, I'm swayed\", '', 'And a freshness fills my heart', '', \"You're swayed when she flies\", 'in on a swirl of wind', '', 'And with that first look,', 'oh how she holds your eyes', '', 'The heart went aflutter,', '', 'dancing to a new rhythm', '', 'My feet faltered', '', 'I swooned in ecstasy', '', 'I stood each day, staring her way', '', 'In endless wake, moments stretch', '', 'Twisting, turning,', 'tossing, thinking', '', 'Thinking, thinking of you', '', 'Her images criss-cross my mind,', '', 'awash in colours', '', 'Like a gushing stream she flows,', '', 'drenching me', '', 'Her murmurs make music', '', 'Her trivia are priceless', '', 'Some innocence, sweet mischief', '', 'Somewhat gossamer, some odd gloss', '', 'At times bashful, then carefree', '', 'There are seas in her, but how deep', '', 'Her words could make Spring blossom', '', 'Her charm could make seasons spring', '', 'Even her lies... are so endearing,', '', 'she could make me believe illusions', 'in all things', '', 'Upon her many paths,', 'praying, hoping, eager-eyed,', '', 'musing fragrant shades of memories,', 'I stand still and', '', 'Time stands stilled', '', 'Good morning, sir', 'Good morning', '', 'Sit down, my child. Guess what', '', 'our company is going to be famous', 'Thanks only to you', '', \"I've done something\", 'without asking you', '', 'Our company is throwing', '', \"a big party on New Year's Eve\", '', 'Oh, wow', '', \"Guess, who's the chief guest\", '', 'Who', '', 'Your boyfriend', '', 'Sanjay Singhania', 'Sir', '', 'And come what may,', 'you must get him to come', '', \"I'm sure you can, so I went ahead\", '', 'and printed his name', 'in the invitations', '', 'The biggest of agencies are coming', '', 'top ad film makers, producers,', 'directors', '', 'On whose say-so have', 'you printed his name', '', \"Where's the need to ask\", '', \"It's the New Years Eve party\", \"You're coming\", '', \"He'll accompany you\", \"But I can't invite him\", '', 'Why', '', \"We've... had a fight\", '', \"You don't say! All invitations\", 'have been distributed', '', \"You've got to make up with him\", '', 'But how', \"Otherwise, I'll lose face\", '', 'On whose say-so did you print this', '', \"I would've told you,\", 'but it slipped my mind', '', \"What you've done is so wrong\", '', 'hundred percent wrong', '', \"Please, or you'll\", \"break everyone's heart\", '', 'Where will I get Sanjay Singhania', '', \"Everyone's dying to see him\", '', 'not one of us has ever met him', '', 'What', '', 'What about what', '', 'Not one of us has ever met him', '', 'How could we', '', 'He has just returned from America', '', 'Then I just... must get him', '', 'Consider it done', '', 'Kalpana is like a magic wand', '', 'One flourish', \"and you've got your wish\", '', 'Thank you very much', '', 'Dialogue... dialogue', '', \"Hi, I'm Sanjay. Sanjay Singhania\", '', 'Perfect', '', 'Very good', '', 'Mind it', '', \"At tonight's party,\", \"you're Sanjay Singhania\", '', 'One second', '', \"Listen, that's a friend of mine\", '', \"You'll pretend\", 'to be Sanjay Singhania', '', \"If he's convinced,\", 'then you pass muster. Okay', '', 'Ready', '', 'Hi', 'Hush', '', 'What happened', '', 'Sanjay is here', 'Sanjay', '', 'Sanjay Singhania, my boyfriend', '', 'Where... is he', 'Where are you looking', '', 'Here', '', 'Sachin, meet Mr Sanjay', '', \"Hi, I'm Sanjay. Sanjay Singhania\", '', 'What... who', '', 'He is... Sanjay Singhania', '', 'Him', '', 'Are you joking', 'Sanjay Singhania, and him', '', 'Stupid amateur, duffer, idiot', '', 'What did I do', '', 'The big fish never put', 'out their hands first', '', 'Why did you hold out your hand', '', 'So when do I shake hands', \"You just don't do it\", '', 'Go to hell, go do ads', \"You've ruined it all\", '', 'Idiot', '', 'What happened', '', 'Sachin, shall I tell you something', '', \"What? You're going to be stunned\", '', 'Try me', '', \"I'm not in love\", 'with Sanjay Singhania', '', 'What', '', 'Actually,', '', 'everyone at my workplace thought', \"he's my boyfriend\", '', 'So, everyone began to respect me', '', 'I played along', '', \"I don't even know\", 'what he looks like', '', \"So... what's next\", '', 'My boss is hosting a party tonight', '', 'Without even asking me, they sent', '', 'out invites naming Sanjay', 'as the chief guest', '', 'So I was preparing', 'this mule for tonight', '', 'but you caught him out', 'in a second', '', 'What am I going to do now', '', \"I'll train him\", '', \"Listen... what's your name\", '', \"Hi, I'm Sanjay. Sanjay Singhania\", '', 'No... your real name', '', 'Sampat', 'Look Sampat', '', 'cut that extra swagger', '', 'Be relaxed and easy... confident', '', 'Let me show how', '', \"Hi, I'm Sanjay... Sanjay Singhania\", '', \"Stop. Don't teach me acting\", 'I belong in theatre', '', \"l've done four plays\", '', 'I was putting out a first class act', '', 'then he walked in', 'and things went awry', '', 'Hey... take off that coat', '', 'Take it off, get out of that coat', '', 'I have a shoot tomorrow', \"It's my only coat\", '', 'I just canceled your shoot', '', \"You're good only for rubber slippers,\", 'snap out of it', '', 'Who, me', 'Wear it', '', 'Oh yes! You are... looking smart', '', 'Put on the goggles', '', 'Oh wow', '', 'Perfect', '', 'Perfect', '', \"Sachin! Come for tonight's party\", 'Be Sanjay', '', 'Please', '', 'Please say yes', '', 'Please', '', 'Please say yes', '', 'Okay', 'Yes', '', 'Welcome to our chief guest,', 'Mr Sanjay Singhania', '', 'Oh hi', 'Hello', '', 'Having a nice time', 'Yes, thank you', '', 'Kalpana', '', 'Did you invite him properly', 'Yes, sir', '', 'If he turns up for real,', \"everyone'll go mad\", '', \"If he doesn't turn up,\", \"then I'll go mad\", '', 'Madam', '', 'The coat is ready', 'Just give me the go', '', \"and I'll give you a grand entry\", '', \"I've rehearsed it thoroughly\", '', \"I'm Sanjay Singhania\", 'oh hello Sanjay', '', 'Get out of my face', 'You fool', '', 'Hi Kalpana', 'Hi', '', 'Mr Singhania has arrived', '', 'Who told him to get a car like that', '', \"I'm not footing this bill\", '', 'Oh... thank you', '', 'How wonderful', '', \"He hasn't begun acting\", 'and all these fools', '', 'have already taken him', 'for Sanjay Singhania', '', 'Oh yes, yes', '', 'Will you hold this, please', '', 'Hi darling', '', \"Sorry, I'm late... my God\", \"You're looking gorgeous... come\", '', 'Welcome to this party', 'Thank you', '', 'Hello... hello', 'Hello sir', '', 'Sorry. - Welcome, sir', 'Thank you', '', 'Myself, Satveer Kohli', \"I'm Kalpana's director\", '', 'and I run this ad film company', '', 'Hello sir, how are you', '', \"Thank you sir, I'm very good\", '', 'I happen to be the one', 'who insisted', '', 'that Kalpana must say yes to you', '', 'I see', '', 'You never told him', 'Of course I told him', '', 'I told you', 'Oh... yes', '', 'Autograph, please', '', 'I read your article', 'in Economic Times', '', 'I fully agree', 'with your policy suggestions', '', 'Please leave him alone', \"don't disturb him\", '', 'Please come, dinner is ready', '', 'That was too close an embrace', '', 'And that was a kiss in public', '', \"I've done a hundred ads\", '', 'Ninety in groups. Ten, solo', '', 'You learn', 'how to respect your seniors or', '', \"you're getting nowhere in life\", '', \"I don't believe this\", '', 'What', \"I just can't believe\", '', 'Why not', '', \"Can't believe that\", \"I'm sitting in such august presence\", '', 'Excuse me', '', 'Some ice, please', '', 'So much cold is good enough for you', '', \"Over-acting. He'll get caught\", '', 'Please get lost', '', 'Excuse me', '', \"We're from\", 'the Dinanath Charitable Trust', '', \"It's an orphanage for girls\", '', 'And', '', 'If you may make a contribution,', \"we'll be grateful\", '', 'Who goes around with cash nowadays', '', 'Your cheque will do', '', 'Cheque', '', 'Who goes to parties', 'with chequebooks', '', 'What are you upto', '', 'Whose chequebook is that', '', 'Even for over-acting,', 'this is too loud', '', 'Five hundred thousand', 'Have you gone mad', '', 'Thank you, sir', 'All the best', '', \"I'm finished\", '', 'I could kill you', '', 'Our leading model, Sonal', '', 'How do you do', \"I'm very good\", '', 'Kalpana has told us', 'so much about you', '', \"We all know that... there're others\", '', 'That article of yours', 'in Economic Times', '', 'Not again, sir. Please', '', 'You... for Sanjay Singhania', '', 'And they fell for you', '', \"Am I'm too clever,\", \"or it's a world of fools\", '', 'I love you', '', 'What', '', 'I love you. I want to marry you', '', 'What... so all of a sudden', '', 'Not so... all of a sudden', '', 'I never thought', '', 'Give me time, to think', '', 'Shall I tell you tomorrow', '', 'If I say no,', \"you won't take it badly\", '', 'Bye', '', 'Happy new year', '', 'Happy new year', '', \"To her, I'm just an ordinary guy\", '', 'I wish to remain this unexceptional', 'man... who wins her love', '', \"So I haven't told her\", 'the truth about me', '', 'If she accepts me,', '', \"then I'll confess\", 'to being Sanjay Singhania', '', 'If she refuses,', '', 'then I remain Sachin', '', 'and I fade out of her life', '', 'All I await now, is tomorrow', '', 'End of the diary. December 31 st', '', 'Next day, next year... 2006', '', 'Hey... hey', '', 'The next day, what happened', '', 'What did she say', 'what happened to her', '', 'How did you end up like this', '', 'Speak up', '', 'Hello, sir', '', \"I'm your manager\", '', 'Pankaj Shroff', '', 'Hello Sanjay', '', \"I'm your doctor. Dr Peston Wadia\", '', 'Not enough sleep', '', 'Are up keeping up till late', '', \"Sir, I'm telling you again,\", '', \"it's fine if you won't go to\", \"the office, it's okay, no problem\", '', 'But live in your mansion,', 'why this tiny flat', '', 'We can get a nurse,', 'a chauffeur here', '', 'I need no one', '', 'Thank you', '', 'Kill Ghajini', 'Check invitation on calendar', '', 'Ghajini Dharmatma', '', 'Chief Guest: Mr Ghajini Dharmatma', '', \"Sir... you're... here\", 'for our college culture fest', '', \"Oh, I'm sorry\", '', \"You won't know me\", 'I mean, you know me', '', \"I've met you\", '', 'Sanjay Singhania', 'short term memory loss', '', \"Come on, it's nearly time\", 'One minute', '', \"We're getting late\", \"Sunita, let's go\", '', \"Don't leave before my performance\", 'second song', '', 'Girls and boys', 'please... calm down', '', 'Our chief guest', 'for the evening has arrived', '', 'He has patronised', 'our college for long', '', \"I'd like you to give him\", 'a hearty welcome', '', 'Boys and girls, please', 'welcome Mr. Ghajini Dharmatma', '', 'Crazy, crazy', '', \"I'm crazy about him\", '', \"Why's my body going crazy\", '', \"Why's my heart beating crazy\", '', 'I want to dance,', '', 'uninhibited', '', \"Who's come into my heart today\", '', \"What's this scent of love\", '', 'Dancing bells are on my feet,', \"it's my season of youth\", '', 'Crazy,', '', \"I'm crazy for him\", '', 'Crazy,', '', \"I'm crazy for him\", '', \"He's my love\", '', 'His coming has filled', 'the emptinesses in my heart', '', 'He only has to make a sign', \"and I'll become his slave\", '', \"Go outside, find out who's calling\", '', 'Hello', '', 'Get down to the basement car park', '', 'What', '', \"Who's that\", '', 'What are you doing there', '', 'Damn you', '', 'Hey', '', 'Hey', '', 'Hey', '', 'Who was that', '', 'Who tried to kill you', '', 'Not me', '', 'he came to kill you', 'Me', '', 'Came to kill me? Who was he', '', 'Who was it... who', '', 'Two years ago', '', 'Two years ago... what', '', 'What was it two years ago', '', 'What', '', 'Give me his name', 'The name', '', 'His name, who was he', '', 'Who wants to kill me', 'Give me his name', '', \"He's dead\", '', 'Shit', '', 'Two years ago', 'What did I do two years ago', '', 'Which jobs did', 'I get done two years ago', '', 'Which ones are after my life', '', 'I must have the list tomorrow', 'You get it', '', 'Excuse me', '', \"Where is Mr Sanjay Singhania's flat\", '', 'Fourth floor. 401', '', 'Thanks', '', 'Sir', '', 'Sir', '', 'Sir', '', 'Kill him', '', 'Revenge', '', 'Ghajini', '', 'She was murdered', '', 'Find him Kill him', '', 'Done', '', 'Over', '', 'Ghajini 10 June 2008', '', 'Doctor... restaurant... theatre', '', \"Don't open\", '', \"I'm a police officer\", '', 'Get out of here! Fast', \"He's a murderer\", '', \"Don't you hear\", '', 'Just get the hell out of here', '', 'Who are you', '', 'What are you doing here', '', 'The other shade', '', 'Shall we', '', \"You've forgotten so quickly\", '', 'I was buying nail polish', '', 'Look', '', 'My friend... you wrote that out', '', 'Now, come on', '', 'Have I been I chasing you', '', 'Why should you', '', \"I'm your friend\", '', \"No! I'm chasing you\", '', \"I'm breathing hard,\", \"you're out of breath\", '', \"I'm sweating. Even you are\", '', \"Hey! You're smoking\", 'in a public place', '', 'Have you no sense of decency', 'Idiots', '', \"You're right\", '', 'You ought to thrash', 'some sense into them', '', 'Go on, teach them such a lesson', '', 'Go... hit them', '', \"You'll teach us lessons\", '', \"You're going to hit us\", '', 'Come on', '', \"You'll take on all of us? Come on\", '', 'Hit us', 'Come on', '', 'Ghajini... listen', '', \"don't do it\", '', 'In four years,', \"we haven't had any quarrels\", '', 'Why do you want to kill me', '', 'Who told you', '', \"I don't care\", 'if you want to kill me or not', '', 'I only want to finish off', 'all my enemies', '', 'Shoot', '', \"Everyone's dead\", '', 'Why are you still anxious', '', \"No... he's still alive\", '', \"He wasn't anyone of them\", '', 'These men were afraid of me', '', 'But this is someone else', '', \"someone I'm missing\", '', 'A girl is here, asking for you', '', 'What girl', '', 'My name is Sunita', 'I am a medical student', '', 'I visited a patient', 'at his home, recently', '', 'He is planning to kill you', '', 'He has already killed two others', '', 'I have seen photos of the dead men', '', 'He is an extremely dangerous man', '', 'I saw him trying', 'to kill a policeman', '', 'The policeman got killed', 'in an accident', '', 'After that he came after me,', 'to kill me', '', 'Look... your photo', '', 'A date is inscribed underneath', '', 'I was about to go to the police', '', 'But if my college gets to know,', \"I'm in a mess\", '', \"I just couldn't sit on it,\", 'so I came to you', '', 'To warn you', '', 'His photo... the man', 'who wants to kill you', '', 'Mr Sanjay Singhania. 31 years', 'Short term memory loss', '', 'Short term memory loss', '', 'A man who forgets everything', '', 'in fifteen minutes', 'is planning to kill me', '', 'He even named a day for my death', '', 'I got to fix a time for him to die', '', '12 hours', 'This man will be on earth no more', '', 'The boss', '', 'Watch out', '', \"He's away from home\", '', 'If he goes your way, you kill him', '', 'If he comes this way,', \"I'll kill the bastard\", '', 'Sure', '', \"I'm into this problem\", '', 'What', '', 'He has my photo', '', 'Who has', 'That Sanjay Singhania... he has it', '', \"Isn't it the one\", '', 'He has another one', 'He had taken two photos', '', \"You're the problem\", '', 'If it ends up with the police,', \"I'm in a fix\", '', 'Ask Mr Ghajini', '', \"He's looking for that guy,\", \"he'll get the photo for you\", '', 'Hello, Mr Ghajini', '', 'Hello', '', 'Mr Ghajini', '', 'Yes', '', \"I'm Sunita\", '', 'I met you about Sanjay Singhania', '', 'Who', '', 'Sanjay Singhania,', '', 'the man who wants to kill you', '', 'The one with the 15-minute memory', '', \"He's an extremely dangerous man\", '', 'You see, he has a photo of mine', '', 'Do what you will to him,', '', 'but get me my photo, please', '', 'He took my photo', 'in the college canteen', '', 'What are you wearing in the photo', '', 'Blue top and blue jeans', '', \"Let me find it, I'll send it to you\", '', \"What's your address\", '', 'Warden', '', 'Hurry', '', 'Help me, please! Help me', '', 'Excuse me', 'Stay away', '', \"Where's the lift\", '', 'Between second and third floors', '', 'Put on the main switch', '', 'Step back everyone. Hold him', '', 'Restrain him. Force him backwards', '', 'Everyone... out of our way', '', 'Take him down, drag him', '', 'His diaries', '', 'If she accepts me,', '', \"then I'll confess\", 'to being Sanjay Singhania', '', 'If she refuses,', '', 'then I remain Sachin', '', 'and I fade out of her life', '', 'All I await now, is tomorrow', '', 'This wait for a yes', 'will keep me up tonight', '', 'This suspense is haunting,', '', 'how can I sleep tonight', '', 'To what news my', 'morning light will dawn,', '', 'or, is this thirst to go unquenched', '', 'Like a passion, unfulfilled', '', 'You hold me in an ecstasy, thrilled', '', 'And now', '', 'And now, the consummation,', '', 'of that ecstasy,', '', 'in your arms,', '', 'is all I wish from you', '', 'In my heart of hearts, how I pine', '', 'To splash you', 'with my colours of life', '', 'In every mood, to match my rhythm', '', \"It's all I wish from you\", '', 'can spring forth', 'from the fountainhead', '', 'to spew my pearls of', 'life upon your path', '', 'Consummation', '', 'of that ecstasy', '', 'in your arms', '', 'is all I wish', '', 'My gossamer dreams', 'are cast in glass', '', 'As I ford my nights in dark', '', 'Fearful, lest my fantasies shatter', '', 'My hopes are inflamed', '', 'Yet I fear, lest some tempest', '', 'puts out my flame', '', 'I wait for a lone yes', '', 'To turn on the springs of joy', '', 'in a culmination', '', 'of my dreams', '', 'in the ecstasy of your embrace', '', \"It's all I wish\", '', 'I have my Moon, over me my skies', '', 'Where dense dark clouds also hover', '', 'I wish this Moon is never overcast', '', 'A searing loneliness,', '', 'a pacing heart,', '', \"and not a moment's peace\", '', 'make up a wonderful story of mine;', '', \"I've only a restless yearning\", '', 'for a passion unfulfilled,', '', 'for an ecstasy, the thrill', '', 'of your embrace', '', \"It's all I wish from you\", '', 'In my heart of hearts, how I pine', '', 'To splash you', 'with my colours of life', '', 'In every mood, to match my rhythm', '', \"It's all I wish from you\", '', 'can spring forth', 'from the fountainhead', '', 'to spew my pearls of', 'life upon your path', '', 'For you, I thirst', '', \"Until one o'clock it was, why you\", '', \"By two o'clock, it was why not\", '', 'At three am,', '', 'am I rushing into this', '', 'At four, if not now', 'then how will I ever', '', \"By the time it got to five o'clock,\", 'I had decided', '', 'I do', '', 'I love you', '', \"Now's my turn to tell her who I am\", '', \"But you don't know who I am\", '', 'What...! - When you get to know', 'about my dad', '', \"it'll blow your brains\", '', 'Is she talking my lines', '', 'Take this', '', 'In 1992, my dad had', 'three Ambassador cars', '', 'Oh wow', 'Oh yes', '', 'He had a travel agency', 'Shetty Travels', '', 'Shitty Travels', 'Hey! Shetty... Travels', '', 'Yes... I see... Shetty Travels', 'So', '', 'It was my uncle who cheated him', '', 'Ohh', '', 'He stole all three cars', '', 'Broken hearted, my dad died', '', 'That day, I swore', '', 'until I buy three Ambassador cars,', '', \"I won't marry\", '', 'Three', '', \"Can't it climb down\", 'by a couple or so', '', 'No way', '', 'If you can wait, then wait', '', 'Otherwise,', '', 'marry a girl of your class', '', \"I'll wait\", '', \"Don't worry. Even after I'm rich,\", '', \"I'll still be the same to you,\", \"like I'm now\", '', 'Promise', 'Promise', '', 'Good morning, sir', 'Good morning', '', 'A very happy new year to you', 'Thank you', '', 'Mr Goenka has canceled for the day', '', 'The board meeting is', 'at eleven thirty', '', 'The marketing presentation', 'is post-lunch', '', 'Okay', '', 'Sir... what did she say', 'when she got to know about you', '', \"I haven't told her\", '', 'Why, sir', '', 'Because, in 1992', '', 'her dad had three Ambassador cars', '', 'Her uncle tricked her', 'dad out of the cars', '', 'Now she wants to be', 'richer than her uncle', '', \"Until then, she won't marry\", '', 'What if you just told her', '', \"She'd want to be richer than me\", '', \"that'd be the end of my wedding\", '', 'Truth is,', 'I prefer to keep up this facade', '', 'I had bought this flat', 'as my gift to her', '', 'after telling her about me', \"It's not to be,\", '', 'but I got to give her the flat,', 'somehow', '', \"That's your responsibility\", '', \"It'll be done, sir\", '', 'Thanks', '', 'May no one ever wish you ill', '', 'And your tank forever be petrol-ful', '', 'For me too... please. - Quiet', \"There's enough for everyone\", '', 'For me, too', 'Late, even today', '', 'You bought it', '', 'Yes... surprise', '', 'One in. Two more to go', 'Great', '', 'I sold the jewellery meant', 'for my wedding', '', 'Dear husband to-be,', '', \"I don't think,\", 'you care for a dowry', '', 'So, I bought a car', '', 'Sure... it moves', '', 'Are you joking? Take a test drive', '', 'Come on, kids', '', \"Smooth drive, isn't it\", '', 'Smooth roads', 'Hey', '', 'Smooth as butter', '', \"The radio, there's one in there\", 'It works', '', 'Hey, this car is mine', 'I just bought it', '', \"Nice, isn't it\", 'What a pretty car', '', 'Good news, sir', '', 'The fax is in from London', '', \"We've got the licence\", '', 'All calls to UK', 'will be routed through us', '', \"That's wonderful\", '', 'Give the good news to the staff', '', 'Sure. You must go', 'to London immediately', '', 'Yes', '', 'Hi, how are you', '', \"There's good news\", '', 'Strange', '', 'She always pips me', 'to the talking post', '', 'Even I have something to tell you', '', 'No. Me first', '', 'Tell me', '', 'I won a brand new flat', 'in an Air Voice lucky contest', '', 'Air Voice lucky contest', '', 'Sir... that flat you wanted to give', 'her... I fixed a contest to do it', '', \"Wow, that's great! Congratulations\", '', 'Not just congratulations', '', \"Kalpana, I'm a bit busy\", \"I can't come\", '', \"I'll hit you for pretending\", 'to be busy', '', \"I'm giving you the address\", 'Come right away', '', 'Hi', '', 'Hi... congratulations', '', 'Thank you', '', 'One second', '', \"What's this\", '', \"You're taking your first step\", 'into this home', '', 'I want to capture it for posterity', '', 'You too, come over', '', \"Nice, isn't it\", '', 'Beautiful', '', \"This is how it'll stay forever,\", '', 'to remind us of the', 'first step we took', '', 'So! How is this home', '', 'Fabulous', '', 'New home, second hand car', '', 'lucky strike', '', \"I'm feeling so happy\", '', \"Weren't you saying something\", 'on the phone', '', 'Yes... I got to go out of town', 'for ten days', '', 'Where to', '', 'My village', '', 'Why, so suddenly', '', 'My mother is sick', '', 'Then, bring her here', '', 'I got to go,', 'I have some property there', '', 'two acres of land', '', 'I got to sell it', '', \"for my mother's medical treatment\", '', \"Ten days? You'll come sooner,\", 'if you can', '', 'I will', '', \"You will come, won't you\", '', \"What's it, why are you nervous\", '', \"I don't know,\", \"it's just an odd feeling\", '', 'Hey', '', 'Silly you', '', 'All the rest are standard clauses', '', 'I think', \"we've covered everything, right\", '', \"Yes, we've clarified all the points\", '', \"I'll need a hard copy on the flight\", '', 'Will be done', '', 'Make sure, all changes', 'are incorporated. - Right', '', 'Yes', \"Sir, we're getting late\", '', \"It's one o'clock\", \"All right, let's pack\", '', 'Thank you, gentlemen', '', 'Hello', '', 'Hello Sachin... Kalpana', 'Yes Kalpana', '', 'I got to see you right away', '', 'Come over to my old place', '', \"It's one am\", \"Say, what's the matter\", '', 'I got to see you before you leave', 'Please', '', \"All right. I'm coming\", '', 'Why are you standing on the street', '', 'Just waiting, for you', '', 'So... why did you call me', '', \"What's this\", '', 'One hundred', 'and thirty five thousand', '', \"For your mother's treatment\", '', 'Where did you get so much money', '', 'I sold my car', '', 'What... why', '', \"You would've sold the land\", '', \"Don't sell it. It's an inheritance\", '', 'A car... I can buy again', '', 'But', '', 'you wanted the car so much', 'Forget it', '', 'Show your mother my soap ad', '', 'Come back quickly', '', 'Next week,', \"I'm in Goa for an ad shoot\", '', \"I'll be back in two or three days\", '', \"You're getting late... now go\", '', 'Go on', '', 'How was it that you came to me', '', 'How blessed I am,', \"but it's hard to believe\", '', 'You descended upon', \"life's placid lake\", '', 'like a rare Moon,', '', 'slowly,', '', 'gently', '', \"Under a winter's Sun,\", '', 'like a warm melody', '', 'you have caressed me,', '', 'I am enthralled', '', 'In you, my peace', 'You are my passion', '', \"Why didn't I find you before\", '', 'How was it that you came to me', '', 'how blessed I am,', \"but it's hard to believe\", '', 'That day, I swore', '', 'until I buy three Ambassador cars,', '', \"I won't marry\", '', \"Don't sell it. It's an inheritance\", '', 'A car... I can buy again', '', 'And once I believed,', '', 'that the creator finds', '', 'His urge no more', '', 'And then', '', 'He created you', '', 'And now He is revealed to me', '', 'in all His glory', '', 'Chords of a music touch my life,', '', 'I can feel new tunes', 'coming into life', '', \"But I still can't believe\", '', 'how blessed I am,', '', 'how you came to me', '', 'I love you', '', 'Come back quickly', '', 'Afterwards, Sanjay went to London', 'and Kalpana went to Goa', '', 'What happened after that', '', 'Anything more on the man', \"we arrested at the girls' hostel\", '', \"No, it's turning out to be\", 'a strange case. - How come', '', 'Bring him', '', 'It was tough keeping him under', 'control, so he was given a sedative', '', 'He has several names', 'and numbers tattooed', '', 'Also, several strange remarks', '', 'On the head... he has a deep scar', '', 'Found on him', '', 'a gun, a camera, photographs', '', \"We haven't been able\", 'to find out who he is', '', 'Call up those numbers', 'Find out who they are', '', 'Hello', '', 'Constable Dhuri', 'from D.N. Nagar Police station', '', 'Do you recognise this man', '', 'Yes', '', 'He is Sanjay Singhania,', 'chairman of Air Voice', '', 'The chairman of Air Voice', 'Yes', '', 'He suffers from', 'short term memory loss,', '', \"doesn't remember anything\", 'beyond 15 minutes', '', 'A friend of mine,', '', 'he has tattooed in my name', 'and number, for remembering me', '', \"That's all\", '', 'Where did you find him', '', \"Medical college girl's hostel\", 'In a lift', '', 'Sir, his manager', 'and his secretary are here', '', 'Have you written a complaint', 'about him? - Not yet, sir', '', 'Wait a while', '', \"He's only a patient\", '', 'And do you know who he is', '', \"He was found in a girls' hostel\", 'with a gun', '', 'How is one to take him', 'for a medical patient', '', 'The gun is for his safety', '', \"Here's the gun licence\", '', \"He didn't shoot at anyone, did he\", '', 'No complaint has been registered', '', 'You can take him away', '', 'But from now on, be careful', '', 'Please take their contact details', '', 'Thank you', 'Thank you very much', '', 'Careful', '', \"Sorry, you aren't allowed\", 'Who are you', '', 'Move over', 'Whom do you want', '', 'Silence', '', 'Why are you locking us', '', '171, Cheetah Camp. Deonar', '', '13.06.2008', '', 'Whose address is it', '', 'Mine', '', \"The date is tomorrow's\", \"One day on, you'd be gone\", '', \"Don't shoot him\", '', 'My name and number are on his body', '', 'In police records,', \"he's a friend of mine\", '', 'A murder enquiry can', 'become big trouble', '', 'You mean, we leave him alive', 'Yes, alive', '', 'But like the living dead', '', \"He's got memory tags everywhere\", '', \"We've got to erase\", 'what he has written,', '', 'we got to turn him into blank paper', '', \"Now, he's just like\", 'any other furniture', '', 'Just like a vegetable', '', 'Newspaper archives', 'First floor', '', 'Why are you hiding', '', 'Come out', '', 'Come... careful', '', 'Sit', '', 'What happened to you', '', \"I'm from Latur Village\", '', 'Ramesh brought me to Mumbai,', \"saying he'd find a job for me\", '', 'But he sold me to someone', '', \"Now... he's forcing me to go to Goa\", '', 'And... there are more girls', 'like me in a bogey up ahead', '', 'At one of the stations, I managed', \"to get away and I'm hiding here\", '', \"Don't cry. Nothing is going\", \"to happen. I'm here with you\", '', 'She must be around', '', 'Hurry up', '', 'Move in', '', 'Look behind', '', 'Did you see a girl, wearing a frock', '', 'Give me ten Rupees', '', 'Here', '', 'Open the door', 'Open up', '', 'Give that girl to me', '', 'I paid 2000 Rupees to buy her', '', 'Come on, open up', '', 'Open the door! Open it', '', \"It's gold\", '', 'Should be worth 3,000', '', \"Forget the girl. Let's go\", '', \"It's all right\", '', \"Don't be afraid\", '', \"We'll get down at the next station\", \"and we'll go to Bombay\", '', \"We've been after chickens\", '', 'Will we spare a hen if we find one', '', 'Let go... leave her', '', 'Sister', '', 'Help me! Leave me', '', 'How far can she run', '', 'Sister, do something', '', 'Look at her... there', '', 'Sister! Help me', '', 'Hi, how are you', '', \"I'm okay. Are you in Goa\", '', \"No, I'm returning to Mumbai\", '', 'What', '', \"It's a long story\", '', 'In my train, there were some goons', '', 'They were taking', '25 kidnapped girls to Goa', '', 'Somehow, I managed to save them', '', \"I'm on my way back\", 'to Mumbai with them', '', 'What! Are you all right', '', 'Tell me about it, what happened', '', \"Don't worry,\", \"nothing's happened to me\", '', 'Are you sure', '', \"I'm perfectly all right, really\", '', \"You're too much, Kalpana\", '', \"But it's also\", 'what I like the most about you', '', 'What', '', 'This habit of helping others', '', 'The first time I saw you,', '', 'you were helping some', 'disabled girls across a ditch', '', 'How do you know that', '', \"There's so much I haven't told you\", '', \"Stuff you'll be amazed to hear\", '', 'Drop the melodrama and tell me', '', \"Not like this... when I'm saying it,\", '', 'I got to see the look on your face', '', \"So, I'll tell it to you\", \"once I'm back\", '', 'See you', '', 'Take care, bye', '', 'Bye', '', 'The biggest news is', 'about kidnapped girls', '', 'trafficking in human organs', 'and flesh trade', '', \"Last night's revelation\", 'has stunned everyone', '', '25 girls from villages', 'in North India lured', '', 'to the city on the pretext', 'of giving jobs', '', 'were being taken', 'from Mumbai to Goa', '', 'With the help of some soldiers,', 'Kalpana rescued them', '', 'Investigations reveal', 'that organs have', '', 'already been harested', 'from these girls', '', 'Several girls have been', 'operated surgically', '', 'and their kidneys', 'have been removed', '', 'Now they were en route to Goa,', 'to be pressed into the flesh trade', '', \"It's apparently\", 'a full-fledged racket', '', 'flourishing right', 'across the country', '', 'Investigations indicate the possible', 'involvement of influential people', '', 'Information given', 'by the rescued girls has led to', '', 'a country-wide crackdown', '', 'Several suspects', 'are being questioned', '', 'Most of them are women', 'and young girls', '', 'more than half of whom', 'are children', '', 'Hello', '', \"I'm Constable Vyjayanti\", 'From Bombay Municipal Hospital', '', 'Yes, go on', '', 'Look, you sent 25 girls', 'Yes', '', 'Two are missing, without a trace', '', 'Please come over here', 'and check them out', '', 'Please do not mention', \"that I've tipped you\", '', 'Some very influential', 'people are behind it', '', 'Madam... here...? At this hour', '', 'Please come in the morning', '', 'The girls will be', 'let off tomorrow morning', '', 'I had brought 25 girls', '', 'There are only 23 here', '', 'Where are the two girls', '', 'You are mistaken', '', 'You brought 23', '', \"Don't you lie\", '', 'I have a list, of names', '', 'Good evening, sir', '', 'Yes', '', 'You brought in 25 girls', '', 'Who are you', 'Ghajini', '', 'Ghajini Dharmatma', '', '23 out of 25 named my men', \"I'd let it pass\", '', 'But these two,', 'pointed fingers at me', '', 'Where are the two girls', '', 'Are you asking to know more', '', 'Because of beasts like you,', '', 'girls are afraid', 'to step out of their homes', '', 'Of how many apparitions of men,', 'should women beware', '', 'Of keepers of faith and religion', '', 'Of doctors', '', 'At work places,', 'in schools, colleges', '', 'Hello', '', 'Hello? Vyjayanti speaking', '', 'Go on', '', \"They're planning to kill you\", '', 'Please do not go home', '', 'Go elsewhere', '', \"They're hiding inside your house\", '', 'What happened', 'A power failure... hold it', '', 'The door is locked from inside', \"She's in here\", '', 'Find her', '', 'Kalpana', '', 'Kalpana', '', 'Kalpana', '', \"Don't go away... don't\", '', 'Fast', '', 'Hey', '', 'Look', '', \"What's it\", '', \"She must've gone that way\", '', 'Hello', '', 'Hello Kalpana... Kalpana', '', 'Kalpana', '', 'Kalpana', '', 'Go away, Sachin', '', 'Get out', '', 'Kalpana... what', '', 'What happened', '', 'Ghajini', '', 'Ghajini', '', 'Kalpana', '', 'Kalpana', '', 'Kalpana', '', 'No', '', \"I'm Sunita. I'm a medical student\", '', 'Forgive me', '', \"Even I'm responsible\", \"for the state you're in\", '', \"I'll take you to Ghajini\", '', \"I'll bring back your memories\", '', 'I got to talk to him! Now', '', 'Hello... hello', '', 'My name is Sanjay', '', 'What', '', 'Sanjay Singhania', '', 'Your name is Ghajini', '', 'Do you remember', 'the first of July, 2006', '', 'You may forget, but I cannot forget', '', \"It's the only thing I remember\", '', 'Leaving you alive was a mistake', '', \"But now, I'll finish you off\", '', 'This time, no sparing you', '', \"Wait for your death. I'm coming\", '', 'Damn you', '', 'Damn... a short-term memory-loss', 'patient is reminding me', '', 'Get the cars', \"We're going into my den\", '', 'Let him come to my area', '', \"After I'm through,\", '', \"they won't find even\", 'a fingernail on him', '', \"They're going somewhere\", '', 'Follow them', '', \"They're stopping here\", '', 'Which one is Ghajini', '', 'The man in white', '', 'This looks like a dangerous area', '', \"I think we shouldn't wait here\", '', 'Where are you going', '', \"You can't kill him so easily\", '', 'There are too many of them in there', '', \"Stop! We'll get him when he's alone\", '', 'This is a very dangerous area', '', 'Have you gone mad', '', 'Oh God', '', 'Hey stop... where are you going', '', 'Entry is barred', '', \"He's here! Tell the boss\", '', \"He's coming\", '', 'Move it', '', \"let's get him\", '', \"Don't let him get away\", 'Get the irons', '', \"He won't get away\", \"Don't let him in\", '', 'Boss', '', \"Boss! He's here\", '', 'Boss', '', \"Now you're gone... finished\", '', 'Get a hold on him', '', 'Kill him', '', 'Brother', '', 'help me... save me', '', 'Ghajini is coming... that way', '', 'Please, help me', '', \"I'm Prakash\", '', 'Have you forgotten', '', 'We came for Ghajini', '', 'Look at how badly he has bruised me', '', \"I'm Prakash\", 'Ghajini did this to me', '', 'He hit me so badly', '', \"He's a very dangerous man\", '', 'Very dangerous', '', \"He's coming that way\", '', 'Keep an eye out for him', '', 'Keep an eye on him', '', 'Watch out', '', 'Cunning man... very cunning man', '', 'Got you', '', 'Got you', '', 'Short term memory loss', '', 'Look at my face', '', 'Look', '', 'I am Ghajini', '', 'I am', '', 'I am the one you wanted to kill', '', 'Do you remember why', '', 'Your memory is too weak,', '', 'lasts you for just 15 minutes', '', 'But have no regrets', '', 'In these final 15 minutes', 'of your life', '', \"l'll give the action replay,\", 'over again', '', 'Remember the rod', '', 'The one that', 'I used to kill your fiance', '', 'Somewhat like this one', '', 'it comes to your mind', '', 'I killed her right', 'in front of your eyes', '', 'Before I kill you,', '', \"I'll show you exactly\", 'how I killed your Kalpana', '', 'Watch this', '', 'Kalpana Home for Orphans', '', \"Let's go cut the cake\", \"Yes... let's all go\", '', 'Time to cut your cake', '', 'Wait', '', \"Sanjay, what's her name\", '', 'Rahul... no', '', 'Pooja', '', 'You read it here', '', 'Cheater... cheater', '', 'Happy birthday to you', '', 'Pathways, streams', 'and rivers all change', '', 'Glimmering lamps', 'cast lights of change', '', 'When the change', \"strikes life's rhythm\", '', 'The rhythm of the rain', 'will also change', '', 'And the nature of seasons', 'will change', '', 'But I shall forever be', '', \"the same to you as I've been\", '', 'Arm in arm, with you my mate,', '', 'every moment,', '', 'always', '', 'How was it that you came to me', '', 'How blessed I was,', \"but it's hard to believe\", '', 'You descended upon', \"life's placid lake\", '', 'like a rare Moon,', '', 'slowly,', '', 'gently', '', \"Under winter's Suns,\", '', 'like a warm melody', \"you caressed me, now you're gone\", '', 'But I still live, enthralled', '', 'In you, my peace', 'You are my passion', '', \"Why didn't I find you before\", '', 'How was it that you came to me', '', 'how blessed I was,', \"but it's hard to believe\", '', 'How was it that you came to me', '', 'how blessed I was,', \"but it's hard to believe\", '', 'You descended upon', \"life's placid lake\", '', 'like a rare Moon,', '', 'slowly,', '', 'gently', '', \"Under winter's Suns,\", '', 'like a warm melody', '', \"you caressed me, now you're gone\", '', 'But I still live, enthralled', '', 'In you, my peace. You are my passion', '', \"Why didn't I find you before\", '', 'How was it that you came to me', '', 'how blessed I was,', \"but it's hard to believe\", '', 'And once I believed,', '', 'that the creator finds', 'His urge no more', '', 'And then He created you', '', 'for me to sing', '', 'eulogies to His glory', '', 'When the change strikes', \"life's rhythm\", '', 'The rhythm of the rain', 'will also change', '', 'But I shall forever be', '', \"the same to you as I've been\", '']\n"
          ],
          "name": "stdout"
        }
      ]
    },
    {
      "cell_type": "code",
      "metadata": {
        "id": "psDBlI3Mq8si",
        "colab_type": "code",
        "colab": {}
      },
      "source": [
        "Tx=20\n",
        "vocab_size=3762\n",
        "padding='post'\n",
        "trunc_type='post'\n",
        "oov_tok='<OOV>'"
      ],
      "execution_count": 100,
      "outputs": []
    },
    {
      "cell_type": "code",
      "metadata": {
        "id": "o2B2Cc6kq8u-",
        "colab_type": "code",
        "colab": {
          "base_uri": "https://localhost:8080/",
          "height": 185
        },
        "outputId": "160c60a1-53cf-4f7e-8f1f-a1c1f556a7c2"
      },
      "source": [
        "import tensorflow as tf\n",
        "\n",
        "from tensorflow.keras.preprocessing.text import Tokenizer\n",
        "from tensorflow.keras.preprocessing.sequence import pad_sequences\n",
        "tokenizer=Tokenizer(num_words=vocab_size,oov_token=oov_tok)\n",
        "tokenizer.fit_on_texts(lines)\n",
        "word_index=tokenizer.word_index\n",
        "sequences=tokenizer.texts_to_sequences(lines)\n",
        "padded=pad_sequences(sequences,maxlen=Tx,padding=padding,truncating=trunc_type)\n",
        "#response_sequences=tokenizer.texts_to_sequences(responses)\n",
        "#response_padded=pad_sequences(response_sequences,maxlen=Ty,padding=padding,truncating=trunc_type)\n",
        "print(padded[:5])"
      ],
      "execution_count": 101,
      "outputs": [
        {
          "output_type": "stream",
          "text": [
            "[[391  12   5 259 516   0   0   0   0   0   0   0   0   0   0   0   0   0\n",
            "    0   0]\n",
            " [794  10   5 308 260   0   0   0   0   0   0   0   0   0   0   0   0   0\n",
            "    0   0]\n",
            " [  0   0   0   0   0   0   0   0   0   0   0   0   0   0   0   0   0   0\n",
            "    0   0]\n",
            " [  5 259 795 796   0   0   0   0   0   0   0   0   0   0   0   0   0   0\n",
            "    0   0]\n",
            " [  7   5 308 797   0   0   0   0   0   0   0   0   0   0   0   0   0   0\n",
            "    0   0]]\n"
          ],
          "name": "stdout"
        }
      ]
    },
    {
      "cell_type": "code",
      "metadata": {
        "id": "pOK4DuYiq8xU",
        "colab_type": "code",
        "colab": {
          "base_uri": "https://localhost:8080/",
          "height": 87
        },
        "outputId": "4f41931e-4fb2-4387-fd8a-ef34775f2dd4"
      },
      "source": [
        "print(word_index)\n",
        "print(len(word_index))\n",
        "reverse_word_index={}\n",
        "for word,ind in word_index.items():\n",
        "  reverse_word_index[ind]=word\n",
        "print(reverse_word_index)"
      ],
      "execution_count": 102,
      "outputs": [
        {
          "output_type": "stream",
          "text": [
            "{'<OOV>': 1, 'you': 2, 'i': 3, 'to': 4, 'the': 5, 'a': 6, 'in': 7, 'me': 8, 'my': 9, 'of': 10, 'it': 11, 'is': 12, 'he': 13, 'and': 14, 'for': 15, 'are': 16, 'on': 17, \"i'm\": 18, 'him': 19, 'what': 20, 'this': 21, 'your': 22, 'sanjay': 23, 'that': 24, 'how': 25, \"it's\": 26, 'kalpana': 27, 'one': 28, 'yes': 29, 'so': 30, 'all': 31, 'but': 32, 'be': 33, 'who': 34, 'singhania': 35, 'go': 36, 'we': 37, 'was': 38, 'get': 39, 'out': 40, 'do': 41, 'her': 42, \"don't\": 43, 'sir': 44, 'please': 45, 'no': 46, \"i'll\": 47, 'why': 48, 'like': 49, 'can': 50, 'come': 51, 'now': 52, 'here': 53, 'at': 54, 'from': 55, 'have': 56, 'his': 57, 'just': 58, 'if': 59, 'has': 60, 'hello': 61, 'kill': 62, 'got': 63, 'an': 64, 'will': 65, 'ghajini': 66, \"you're\": 67, 'up': 68, 'about': 69, \"he's\": 70, 'take': 71, 'not': 72, 'hi': 73, 'she': 74, 'with': 75, 'know': 76, 'find': 77, 'say': 78, 'then': 79, 'two': 80, 'girls': 81, 'name': 82, 'hey': 83, 'want': 84, 'am': 85, 'oh': 86, 'did': 87, 'only': 88, 'there': 89, 'see': 90, 'thank': 91, 'right': 92, \"what's\": 93, 'life': 94, 'our': 95, 'good': 96, 'look': 97, 'even': 98, 'going': 99, 'where': 100, 'excuse': 101, 'away': 102, 'happened': 103, 'air': 104, 'give': 105, 'over': 106, 'ad': 107, 'love': 108, 'tell': 109, 'man': 110, 'been': 111, 'memory': 112, 'after': 113, 'change': 114, 'them': 115, 'some': 116, 'into': 117, 'make': 118, 'mr': 119, 'first': 120, 'okay': 121, 'much': 122, 'must': 123, 'told': 124, 'when': 125, 'voice': 126, 'said': 127, 'done': 128, 'us': 129, 'believe': 130, 'wait': 131, 'way': 132, 'very': 133, 'came': 134, \"won't\": 135, \"i've\": 136, 'day': 137, 'sorry': 138, 'time': 139, 'rhythm': 140, 'too': 141, \"that's\": 142, 'madam': 143, 'coming': 144, 'sachin': 145, 'new': 146, \"can't\": 147, 'second': 148, 'back': 149, 'more': 150, 'leave': 151, \"let's\": 152, 'heart': 153, 'boss': 154, 'hard': 155, 'had': 156, 'wish': 157, 'car': 158, 'short': 159, 'call': 160, 'as': 161, 'minutes': 162, 'by': 163, 'or': 164, 'down': 165, 'before': 166, \"we're\": 167, 'next': 168, 'mine': 169, 'morning': 170, 'photo': 171, 'never': 172, 'three': 173, 'let': 174, 'something': 175, 'years': 176, 'crazy': 177, 'every': 178, 'term': 179, 'loss': 180, 'also': 181, 'police': 182, 'medical': 183, 'remember': 184, 'again': 185, 'think': 186, 'company': 187, \"you'll\": 188, 'tomorrow': 189, 'help': 190, 'still': 191, 'everyone': 192, 'gone': 193, 'stop': 194, 'news': 195, 'sunita': 196, 'hit': 197, '15': 198, 'live': 199, 'photos': 200, 'talk': 201, 'friend': 202, 'dad': 203, 'they': 204, 'hold': 205, 'late': 206, 'girl': 207, \"isn't\": 208, \"we've\": 209, 'open': 210, 'upon': 211, 'went': 212, \"haven't\": 213, 'keep': 214, 'welcome': 215, 'met': 216, 'could': 217, 'marry': 218, 'bye': 219, 'shoot': 220, \"you've\": 221, 'home': 222, 'cars': 223, 'goa': 224, 'blessed': 225, 'anything': 226, 'mind': 227, 'face': 228, 'killed': 229, 'address': 230, 'camera': 231, \"didn't\": 232, 'buy': 233, 'ten': 234, 'meet': 235, 'thanks': 236, 'passion': 237, 'mumbai': 238, 'jhoom': 239, \"there's\": 240, 'listen': 241, \"it'll\": 242, 'minute': 243, 'men': 244, 'these': 245, 'airport': 246, 'delhi': 247, 'bombay': 248, 'underwear': 249, 'galli': 250, 'ecstasy': 251, 'party': 252, 'sure': 253, 'flat': 254, 'ago': 255, 'were': 256, 'dangerous': 257, '25': 258, 'most': 259, 'body': 260, 'patient': 261, 'forget': 262, 'such': 263, 'fine': 264, 'head': 265, 'doing': 266, 'building': 267, 'whose': 268, 'gun': 269, 'sold': 270, 'hundred': 271, 'asking': 272, 'bus': 273, 'long': 274, 'year': 275, 'put': 276, 'being': 277, 'need': 278, 'swing': 279, 'tum': 280, 'hear': 281, \"here's\": 282, \"o'clock\": 283, \"everyone's\": 284, 'today': 285, 'film': 286, \"they're\": 287, 'inside': 288, 'mayapuri': 289, 'calls': 290, 'saying': 291, 'feet': 292, \"who's\": 293, 'comes': 294, 'may': 295, 'looking': 296, 'khau': 297, 'wants': 298, 'getting': 299, 'chief': 300, 'guest': 301, 'shall': 302, 'off': 303, 'happy': 304, 'college': 305, 'moon': 306, \"life's\": 307, 'human': 308, 'case': 309, 'incident': 310, 'lost': 311, 'forgets': 312, 'ask': 313, 'things': 314, \"doesn't\": 315, 'someone': 316, 'five': 317, 'times': 318, \"he'll\": 319, 'looks': 320, 'strange': 321, 'goes': 322, 'damn': 323, 'student': 324, 'people': 325, 'manager': 326, 'enough': 327, 'show': 328, 'turning': 329, 'achieve': 330, 'mother': 331, 'office': 332, 'beat': 333, \"ma'am\": 334, 'problem': 335, 'sent': 336, 'ahead': 337, 'door': 338, 'matter': 339, 'ready': 340, 'saw': 341, 'wonderful': 342, 'great': 343, 'big': 344, 'model': 345, 'worry': 346, 'actually': 347, 'flight': 348, 'sudden': 349, 'end': 350, 'took': 351, 'read': 352, 'careful': 353, 'should': 354, 'congratulations': 355, 'story': 356, 'number': 357, 'same': 358, 'which': 359, 'quickly': 360, 'chinchpokli': 361, 'bunder': 362, 'nice': 363, 'drive': 364, 'taken': 365, 'uncle': 366, 'four': 367, 'spring': 368, 'wow': 369, 'ever': 370, 'their': 371, 'tonight': 372, 'acting': 373, 'coat': 374, 'mad': 375, 'turn': 376, \"we'll\": 377, 'dharmatma': 378, 'dead': 379, 'alive': 380, 'step': 381, 'peace': 382, 'until': 383, 'ambassador': 384, 'travels': 385, 'bought': 386, 'forever': 387, 'under': 388, 'several': 389, 'brought': 390, 'brain': 391, 'remembers': 392, 'everything': 393, 'forgotten': 394, 'tasks': 395, 'does': 396, 'child': 397, 'street': 398, 'gets': 399, 'rupees': 400, 'house': 401, 'phone': 402, 'revenge': 403, 'check': 404, 'hiranandani': 405, 'station': 406, 'written': 407, 'behind': 408, 'paid': 409, 'always': 410, 'names': 411, 'doctor': 412, \"aren't\": 413, \"i'd\": 414, 'business': 415, 'work': 416, 'across': 417, 'vanity': 418, 'confidence': 419, 'jhamak': 420, 'tap': 421, 'tamaak': 422, 'deep': 423, 'hearts': 424, 'thirty': 425, 'waiting': 426, 'lights': 427, 'action': 428, 'hands': 429, 'white': 430, 'road': 431, 'terrace': 432, 'plain': 433, \"singhania's\": 434, 'run': 435, 'ads': 436, 'try': 437, 'ought': 438, 'correct': 439, 'found': 440, 'yours': 441, 'talking': 442, 'whom': 443, 'trust': 444, 'article': 445, \"you'd\": 446, 'kept': 447, 'staring': 448, 'seat': 449, 'beside': 450, 'talked': 451, 'non': 452, 'silly': 453, 'made': 454, 'lift': 455, \"she's\": 456, 'recommend': 457, 'photographs': 458, 'telling': 459, 'busy': 460, 'economic': 461, '3': 462, 'taking': 463, 'country': 464, 'thought': 465, 'any': 466, 'other': 467, 'swayed': 468, 'eyes': 469, 'thinking': 470, 'colours': 471, 'many': 472, 'sit': 473, 'without': 474, 'boyfriend': 475, 'perfect': 476, 'cut': 477, 'teach': 478, 'already': 479, 'embrace': 480, 'others': 481, 'badly': 482, 'remain': 483, 'care': 484, 'afraid': 485, 'planning': 486, 'watch': 487, 'shetty': 488, 'than': 489, 'smooth': 490, 'london': 491, 'lucky': 492, 'contest': 493, 'wanted': 494, 'days': 495, 'bring': 496, 'sell': 497, 'descended': 498, 'placid': 499, 'lake': 500, 'rare': 501, 'slowly': 502, 'gently': 503, \"winter's\": 504, 'warm': 505, 'melody': 506, 'caressed': 507, 'enthralled': 508, 'once': 509, 'hostel': 510, 'move': 511, 'hiding': 512, 'sister': 513, '23': 514, 'area': 515, 'important': 516, 'interesting': 517, 'rod': 518, 'afterwards': 519, \"he'd\": 520, 'lie': 521, 'writing': 522, 'moment': 523, 'week': 524, 'hours': 525, 'orchard': 526, 'avenue': 527, 'shirt': 528, 'notes': 529, '10': 530, 'ticket': 531, 'note': 532, 'wrote': 533, 'sometimes': 534, 'buying': 535, 'keeps': 536, 'recognise': 537, 'scar': 538, 'takes': 539, 'nine': 540, 'hour': 541, 'canteen': 542, 'final': 543, 'making': 544, 'accident': 545, 'remind': 546, 'write': 547, 'job': 548, 'nothing': 549, 'order': 550, 'city': 551, 'india': 552, 'confident': 553, 'line': 554, 'between': 555, 'speak': 556, 'outside': 557, 'kiddo': 558, 'better': 559, 'toe': 560, 'breath': 561, 'sing': 562, 'shake': 563, 'traffic': 564, 'roll': 565, 'till': 566, 'wear': 567, 'choice': 568, 'hoarding': 569, 'fly': 570, 'battery': 571, 'myself': 572, 'satveer': 573, 'kohli': 574, 'brand': 575, 'green': 576, 'room': 577, 'shroff': 578, 'tea': 579, 'proposition': 580, 'heard': 581, 'ji': 582, 'somewhere': 583, 'hopes': 584, 'putting': 585, 'bill': 586, \"must've\": 587, 'playing': 588, 'gold': 589, 'another': 590, 'thing': 591, 'soap': 592, 'agencies': 593, 'consider': 594, 'magic': 595, 'wand': 596, 'flourish': 597, 'models': 598, 'director': 599, 'really': 600, 'lover': 601, 'knew': 602, 'lobby': 603, 'discovered': 604, 'chatter': 605, 'marriages': 606, 'thin': 607, 'inundated': 608, 'smses': 609, 'decided': 610, \"kalpana's\": 611, 'words': 612, 'seen': 613, 'disturb': 614, 'lies': 615, 'later': 616, 'children': 617, 'while': 618, 'sweet': 619, 'send': 620, 'print': 621, 'selected': 622, 'standard': 623, 'anjali': 624, 'bit': 625, 'feel': 626, 'beyond': 627, 'along': 628, 'money': 629, 'rivers': 630, 'properly': 631, 'roads': 632, 'meant': 633, 'town': 634, 'allergies': 635, 'ringworm': 636, 'break': 637, 'husband': 638, 'radio': 639, 'main': 640, 'swirl': 641, 'wind': 642, 'dancing': 643, 'music': 644, 'somewhat': 645, 'gossamer': 646, 'odd': 647, 'seasons': 648, 'memories': 649, 'guess': 650, 'eve': 651, 'printed': 652, 'invitations': 653, 'biggest': 654, 'top': 655, \"where's\": 656, 'invite': 657, 'otherwise': 658, \"would've\": 659, 'wrong': 660, 'dialogue': 661, \"tonight's\": 662, 'pass': 663, 'joking': 664, 'idiot': 665, 'hand': 666, 'hell': 667, 'stunned': 668, 'respect': 669, 'caught': 670, 'train': 671, 'real': 672, 'sampat': 673, 'theatre': 674, 'class': 675, 'canceled': 676, 'entry': 677, 'arrived': 678, 'fools': 679, 'god': 680, 'happen': 681, 'alone': 682, 'public': 683, 'around': 684, 'cheque': 685, 'thousand': 686, 'finished': 687, 'guy': 688, 'truth': 689, 'accepts': 690, 'confess': 691, 'refuses': 692, 'fade': 693, 'await': 694, '31': 695, '2006': 696, 'sleep': 697, 'keeping': 698, 'mean': 699, 'boys': 700, 'evening': 701, \"why's\": 702, 'become': 703, 'jobs': 704, 'list': 705, 'floor': 706, '2008': 707, 'fast': 708, 'chasing': 709, 'place': 710, 'sense': 711, 'finish': 712, 'anyone': 713, 'missing': 714, 'extremely': 715, 'policeman': 716, 'date': 717, 'named': 718, 'death': 719, 'fix': 720, 'wearing': 721, 'blue': 722, 'hurry': 723, 'stay': 724, 'thirst': 725, 'unfulfilled': 726, 'consummation': 727, 'arms': 728, 'pine': 729, 'splash': 730, 'mood': 731, 'match': 732, 'forth': 733, 'fountainhead': 734, 'spew': 735, 'pearls': 736, 'path': 737, 'dreams': 738, 'cast': 739, 'dark': 740, 'lest': 741, 'yet': 742, '1992': 743, 'swore': 744, 'promise': 745, 'post': 746, 'because': 747, 'richer': 748, 'wedding': 749, 'somehow': 750, 'licence': 751, 'through': 752, 'giving': 753, 'feeling': 754, 'village': 755, 'land': 756, \"mother's\": 757, 'treatment': 758, 'inheritance': 759, 'believed': 760, 'creator': 761, 'finds': 762, 'urge': 763, 'created': 764, 'glory': 765, \"girls'\": 766, 'given': 767, 'numbers': 768, 'tattooed': 769, 'constable': 770, 'chairman': 771, 'complaint': 772, 'managed': 773, 'kidnapped': 774, 'save': 775, 'helping': 776, 'organs': 777, 'flesh': 778, 'trade': 779, 'rescued': 780, 'investigations': 781, 'influential': 782, 'women': 783, 'vyjayanti': 784, 'prakash': 785, 'eye': 786, 'cunning': 787, 'cake': 788, 'cheater': 789, 'strikes': 790, 'rain': 791, 'arm': 792, 'suns': 793, 'organ': 794, 'vital': 795, 'component': 796, 'system': 797, 'controls': 798, 'part': 799, 'king': 800, 'parts': 801, 'symptom': 802, 'anti': 803, 'retrograde': 804, 'amnesia': 805, \"one's\": 806, 'project': 807, 'parents': 808, 'students': 809, 'iron': 810, 'unable': 811, 'events': 812, 'example': 813, 'recalls': 814, 'fragments': 815, 'regular': 816, 'eating': 817, 'drinking': 818, 'driving': 819, 'feelings': 820, 'embedded': 821, 'sub': 822, 'conscious': 823, 'everyday': 824, 'routine': 825, 'perform': 826, 'instructed': 827, 'committing': 828, 'learning': 829, 'rote': 830, 'jotting': 831, 'likewise': 832, 'assaulted': 833, 'knows': 834, 'unfortunately': 835, 'recall': 836, 'wonder': 837, 'mangesh': 838, 'search': 839, \"l'm\": 840, '48': 841, 'pin': 842, '400076': 843, 'odyssey': 844, '73': 845, 'keys': 846, 'wallet': 847, 'cell': 848, 'remove': 849, 't': 850, 'yesterday': 851, 'andheri': 852, 'forgot': 853, 'tickets': 854, 'stops': 855, 'sort': 856, 'shaven': 857, '392': 858, 'lecture': 859, 'beeping': 860, 'buzzes': 861, 'inscribe': 862, 'tear': 863, 'throw': 864, 'watchman': 865, 'injured': 866, 'professor': 867, 'friends': 868, 'confide': 869, 'photograph': 870, 'use': 871, 'hope': 872, 'incompetent': 873, 'dreamt': 874, 'enterprise': 875, \"india's\": 876, 'largest': 877, 'cellphone': 878, 'dream': 879, 'purpose': 880, 'undone': 881, 'born': 882, 'trusted': 883, 'employees': 884, 'emotions': 885, 'emotional': 886, 'targeting': 887, '500': 888, 'million': 889, 'subscriber': 890, 'base': 891, 'shocked': 892, 'vain': 893, 'speaks': 894, 'would': 895, 'build': 896, 'kindly': 897, \"tum''\": 898, 'limits': 899, 'borders': 900, 'heady': 901, 'cocktail': 902, 'wines': 903, 'merriness': 904, 'taste': 905, 'happiness': 906, 'secret': 907, 'emls': 908, 'hide': 909, 'smile': 910, 'teaches': 911, 'hostages': 912, 'ride': 913, 'waves': 914, 'abreast': 915, 'tides': 916, 'ebbs': 917, 'sheet': 918, 'excuses': 919, 'filling': 920, 'crowd': 921, 'preens': 922, 'superstar': 923, 'rolling': 924, 'rub': 925, 'scrub': 926, 'tire': 927, 'yellow': 928, 'pan': 929, 'kite': 930, 'discover': 931, 'sparkling': 932, 'rupee': 933, 'gleaming': 934, 'glistening': 935, 'whites': 936, 'eighth': 937, 'display': 938, 'site': 939, 'six': 940, 'hoardings': 941, 'available': 942, 'visible': 943, 'lives': 944, 'approach': 945, 'executive': 946, 'assistant': 947, 'range': 948, 'soaps': 949, 'oils': 950, 'toothbrushes': 951, 'digestive': 952, 'pills': 953, 'latest': 954, 'monkey': 955, 'toothpowder': 956, 'serve': 957, 'convince': 958, 'enchanted': 959, 'acceptable': 960, 'behalf': 961, 'request': 962, 'decision': 963, 'displeased': 964, 'card': 965, 'apologise': 966, 'intruding': 967, 'personal': 968, 'affairs': 969, 'whatever': 970, 'spot': 971, 'boy': 972, 'chair': 973, 'surmise': 974, \"might've\": 975, 'sight': 976, 'thereby': 977, 'hangs': 978, 'question': 979, 'pins': 980, 'spurning': 981, 'owns': 982, 'gates': 983, 'opportunity': 984, 'nod': 985, 'transported': 986, 'heights': 987, 'deed': 988, 'virtue': 989, 'prayer': 990, 'plunge': 991, 'allow': 992, 'ringing': 993, 'rent': 994, 'months': 995, 'shook': 996, 'shines': 997, 'nathumal': 998, 'gendamal': 999, 'jewellers': 1000, '42': 1001, 'link': 1002, 'malad': 1003, 'west': 1004, 'branches': 1005, 'mom': 1006, 'trusts': 1007, 'hamam': 1008, 'agent': 1009, 'romancing': 1010, 'lead': 1011, 'boost': 1012, 'small': 1013, 'films': 1014, 'needs': 1015, 'national': 1016, 'clients': 1017, \"yesterday's\": 1018, 'struggling': 1019, 'interiew': 1020, 'seated': 1021, 'setting': 1022, 'sets': 1023, 'flying': 1024, 'gave': 1025, 'pity': 1026, \"week's\": 1027, 'breaking': 1028, 'tycoon': 1029, 'affair': 1030, 'aspiring': 1031, 'own': 1032, 'neither': 1033, 'nor': 1034, 'hers': 1035, 'impossible': 1036, 'return': 1037, 'museum': 1038, \"name's\": 1039, 'tendulkar': 1040, 'autographs': 1041, 'bouquets': 1042, 'annoyed': 1043, 'persistence': 1044, 'magazine': 1045, 'recommendations': 1046, 'advertisements': 1047, 'well': 1048, 'wears': 1049, 'suits': 1050, 'auditions': 1051, 'talent': 1052, 'set': 1053, 'sights': 1054, 'van': 1055, 'heusen': 1056, 'suitings': 1057, 'papads': 1058, 'mosquito': 1059, 'coils': 1060, 'catch': 1061, 'bounce': 1062, 'hair': 1063, 'alpha': 1064, 'males': 1065, 'comb': 1066, 'poor': 1067, '9650055555': 1068, 'crap': 1069, 'network': 1070, 'anywhere': 1071, 'antenna': 1072, 'pocket': 1073, 'borough': 1074, 'splashed': 1075, \"sms's\": 1076, 'drained': 1077, 'completing': 1078, 'law': 1079, 'usa': 1080, 'mba': 1081, 'harvard': 1082, 'since': 1083, 'father': 1084, 'passed': 1085, 'strongly': 1086, 'technology': 1087, 'reach': 1088, 'social': 1089, 'barriers': 1090, 'goal': 1091, 'cellphones': 1092, 'girlfriend': 1093, \"men's\": 1094, 'mark': 1095, 'beg': 1096, 'pardon': 1097, 'chi': 1098, 'chinchbokli': 1099, 'pokli': 1100, 'arrive': 1101, 'autorickshaw': 1102, 'impression': 1103, \"d'you\": 1104, 'manage': 1105, 'hot': 1106, 'rains': 1107, 'flow': 1108, 'moron': 1109, 'pedestrians': 1110, 'carefully': 1111, 'boo': 1112, 'gawking': 1113, 'bumpkin': 1114, 'zorro': 1115, 'elastic': 1116, 'imagine': 1117, 'yourself': 1118, 'junction': 1119, 'sixty': 1120, 'forty': 1121, 'banners': 1122, 'luck': 1123, 'skin': 1124, 'salves': 1125, 'infections': 1126, 'spirit': 1127, 'studio': 1128, 'headed': 1129, 'describe': 1130, \"whatever's\": 1131, 'schoolgirls': 1132, 'tic': 1133, 'tac': 1134, 'wife': 1135, 'thrashing': 1136, 'shop': 1137, 'crossing': 1138, 'sai': 1139, \"baba's\": 1140, 'temple': 1141, 'reached': 1142, 'flew': 1143, 'held': 1144, 'unlikely': 1145, 'different': 1146, 'unique': 1147, 'unpretentious': 1148, 'attitude': 1149, 'freshness': 1150, 'fills': 1151, 'flies': 1152, 'holds': 1153, 'aflutter': 1154, 'faltered': 1155, 'swooned': 1156, 'stood': 1157, 'each': 1158, 'endless': 1159, 'wake': 1160, 'moments': 1161, 'stretch': 1162, 'twisting': 1163, 'tossing': 1164, 'images': 1165, 'criss': 1166, 'cross': 1167, 'awash': 1168, 'gushing': 1169, 'stream': 1170, 'flows': 1171, 'drenching': 1172, 'murmurs': 1173, 'trivia': 1174, 'priceless': 1175, 'innocence': 1176, 'mischief': 1177, 'gloss': 1178, 'bashful': 1179, 'carefree': 1180, 'seas': 1181, 'blossom': 1182, 'charm': 1183, 'endearing': 1184, 'illusions': 1185, 'paths': 1186, 'praying': 1187, 'hoping': 1188, 'eager': 1189, 'eyed': 1190, 'musing': 1191, 'fragrant': 1192, 'shades': 1193, 'stand': 1194, 'stands': 1195, 'stilled': 1196, 'famous': 1197, 'throwing': 1198, \"year's\": 1199, 'makers': 1200, 'producers': 1201, 'directors': 1202, 'accompany': 1203, 'fight': 1204, 'distributed': 1205, 'lose': 1206, 'slipped': 1207, 'percent': 1208, 'dying': 1209, 'returned': 1210, 'america': 1211, 'pretend': 1212, 'convinced': 1213, 'muster': 1214, 'hush': 1215, 'stupid': 1216, 'amateur': 1217, 'duffer': 1218, 'fish': 1219, 'ruined': 1220, 'workplace': 1221, 'began': 1222, 'played': 1223, 'hosting': 1224, 'invites': 1225, 'naming': 1226, 'preparing': 1227, 'mule': 1228, 'extra': 1229, 'swagger': 1230, 'relaxed': 1231, 'easy': 1232, 'belong': 1233, \"l've\": 1234, 'plays': 1235, 'act': 1236, 'walked': 1237, 'awry': 1238, 'rubber': 1239, 'slippers': 1240, 'snap': 1241, 'smart': 1242, 'goggles': 1243, 'having': 1244, 'turns': 1245, \"everyone'll\": 1246, 'grand': 1247, 'rehearsed': 1248, 'thoroughly': 1249, 'fool': 1250, 'footing': 1251, \"hasn't\": 1252, 'begun': 1253, 'darling': 1254, 'gorgeous': 1255, 'insisted': 1256, 'course': 1257, 'autograph': 1258, 'fully': 1259, 'agree': 1260, 'policy': 1261, 'suggestions': 1262, 'dinner': 1263, 'close': 1264, 'kiss': 1265, 'ninety': 1266, 'groups': 1267, 'solo': 1268, 'learn': 1269, 'seniors': 1270, 'nowhere': 1271, 'sitting': 1272, 'august': 1273, 'presence': 1274, 'ice': 1275, 'cold': 1276, 'dinanath': 1277, 'charitable': 1278, 'orphanage': 1279, 'contribution': 1280, 'grateful': 1281, 'cash': 1282, 'nowadays': 1283, 'parties': 1284, 'chequebooks': 1285, 'upto': 1286, 'chequebook': 1287, 'loud': 1288, 'best': 1289, 'leading': 1290, 'sonal': 1291, \"there're\": 1292, 'fell': 1293, 'clever': 1294, 'world': 1295, 'ordinary': 1296, 'unexceptional': 1297, 'wins': 1298, 'diary': 1299, 'december': 1300, 'st': 1301, 'pankaj': 1302, 'dr': 1303, 'peston': 1304, 'wadia': 1305, 'mansion': 1306, 'tiny': 1307, 'nurse': 1308, 'chauffeur': 1309, 'invitation': 1310, 'calendar': 1311, 'culture': 1312, 'fest': 1313, 'nearly': 1314, 'performance': 1315, 'song': 1316, 'calm': 1317, 'patronised': 1318, 'hearty': 1319, 'beating': 1320, 'dance': 1321, 'uninhibited': 1322, 'scent': 1323, 'bells': 1324, 'season': 1325, 'youth': 1326, 'filled': 1327, 'emptinesses': 1328, 'sign': 1329, 'slave': 1330, 'calling': 1331, 'basement': 1332, 'park': 1333, 'tried': 1334, 'shit': 1335, 'ones': 1336, 'fourth': 1337, '401': 1338, 'murdered': 1339, 'june': 1340, 'restaurant': 1341, 'officer': 1342, 'murderer': 1343, 'shade': 1344, 'nail': 1345, 'polish': 1346, 'breathing': 1347, 'sweating': 1348, 'smoking': 1349, 'decency': 1350, 'idiots': 1351, 'thrash': 1352, 'lesson': 1353, 'lessons': 1354, 'quarrels': 1355, 'enemies': 1356, 'anxious': 1357, \"wasn't\": 1358, 'else': 1359, 'visited': 1360, 'recently': 1361, 'trying': 1362, 'inscribed': 1363, 'underneath': 1364, 'mess': 1365, \"couldn't\": 1366, 'warn': 1367, 'fifteen': 1368, 'die': 1369, '12': 1370, 'earth': 1371, 'bastard': 1372, 'ends': 1373, 'jeans': 1374, 'warden': 1375, 'third': 1376, 'floors': 1377, 'switch': 1378, 'restrain': 1379, 'force': 1380, 'backwards': 1381, 'drag': 1382, 'diaries': 1383, 'suspense': 1384, 'haunting': 1385, 'light': 1386, 'dawn': 1387, 'unquenched': 1388, 'thrilled': 1389, 'glass': 1390, 'ford': 1391, 'nights': 1392, 'fearful': 1393, 'fantasies': 1394, 'shatter': 1395, 'inflamed': 1396, 'fear': 1397, 'tempest': 1398, 'puts': 1399, 'flame': 1400, 'lone': 1401, 'springs': 1402, 'joy': 1403, 'culmination': 1404, 'skies': 1405, 'dense': 1406, 'clouds': 1407, 'hover': 1408, 'overcast': 1409, 'searing': 1410, 'loneliness': 1411, 'pacing': 1412, \"moment's\": 1413, 'restless': 1414, 'yearning': 1415, 'thrill': 1416, 'rushing': 1417, \"now's\": 1418, 'blow': 1419, 'brains': 1420, 'lines': 1421, 'travel': 1422, 'agency': 1423, 'shitty': 1424, 'cheated': 1425, 'ohh': 1426, 'stole': 1427, 'broken': 1428, 'hearted': 1429, 'died': 1430, 'climb': 1431, 'couple': 1432, 'rich': 1433, 'goenka': 1434, 'board': 1435, 'meeting': 1436, 'eleven': 1437, 'marketing': 1438, 'presentation': 1439, 'lunch': 1440, 'tricked': 1441, \"she'd\": 1442, \"that'd\": 1443, 'prefer': 1444, 'facade': 1445, 'gift': 1446, 'responsibility': 1447, 'ill': 1448, 'tank': 1449, 'petrol': 1450, 'ful': 1451, 'quiet': 1452, 'surprise': 1453, 'jewellery': 1454, 'dear': 1455, 'dowry': 1456, 'moves': 1457, 'test': 1458, 'kids': 1459, 'butter': 1460, 'works': 1461, 'pretty': 1462, 'fax': 1463, 'uk': 1464, 'routed': 1465, 'staff': 1466, 'immediately': 1467, 'pips': 1468, 'won': 1469, 'fixed': 1470, 'pretending': 1471, 'capture': 1472, 'posterity': 1473, 'beautiful': 1474, 'fabulous': 1475, 'strike': 1476, \"weren't\": 1477, 'suddenly': 1478, 'sick': 1479, 'property': 1480, 'acres': 1481, 'sooner': 1482, 'nervous': 1483, 'rest': 1484, 'clauses': 1485, 'covered': 1486, 'clarified': 1487, 'points': 1488, 'copy': 1489, 'changes': 1490, 'incorporated': 1491, 'pack': 1492, 'gentlemen': 1493, 'old': 1494, 'standing': 1495, 'sun': 1496, 'revealed': 1497, 'chords': 1498, 'touch': 1499, 'tunes': 1500, 'arrested': 1501, 'tough': 1502, 'control': 1503, 'sedative': 1504, 'remarks': 1505, 'able': 1506, 'those': 1507, 'dhuri': 1508, 'd': 1509, 'n': 1510, 'nagar': 1511, 'suffers': 1512, 'remembering': 1513, \"girl's\": 1514, 'secretary': 1515, 'safety': 1516, 'registered': 1517, 'contact': 1518, 'details': 1519, 'allowed': 1520, 'silence': 1521, 'locking': 1522, '171': 1523, 'cheetah': 1524, 'camp': 1525, 'deonar': 1526, '13': 1527, '06': 1528, \"tomorrow's\": 1529, 'records': 1530, 'murder': 1531, 'enquiry': 1532, 'trouble': 1533, 'living': 1534, 'tags': 1535, 'everywhere': 1536, 'erase': 1537, 'blank': 1538, 'paper': 1539, 'furniture': 1540, 'vegetable': 1541, 'newspaper': 1542, 'archives': 1543, 'latur': 1544, 'ramesh': 1545, 'forcing': 1546, 'bogey': 1547, 'stations': 1548, 'cry': 1549, 'frock': 1550, '2000': 1551, 'worth': 1552, '000': 1553, 'chickens': 1554, 'spare': 1555, 'hen': 1556, 'far': 1557, 'returning': 1558, 'goons': 1559, \"nothing's\": 1560, 'perfectly': 1561, 'habit': 1562, 'disabled': 1563, 'ditch': 1564, 'stuff': 1565, 'amazed': 1566, 'drop': 1567, 'melodrama': 1568, 'trafficking': 1569, 'last': 1570, \"night's\": 1571, 'revelation': 1572, 'villages': 1573, 'north': 1574, 'lured': 1575, 'pretext': 1576, 'soldiers': 1577, 'reveal': 1578, 'harested': 1579, 'operated': 1580, 'surgically': 1581, 'kidneys': 1582, 'removed': 1583, 'en': 1584, 'route': 1585, 'pressed': 1586, 'apparently': 1587, 'full': 1588, 'fledged': 1589, 'racket': 1590, 'flourishing': 1591, 'indicate': 1592, 'possible': 1593, 'involvement': 1594, 'information': 1595, 'led': 1596, 'wide': 1597, 'crackdown': 1598, 'suspects': 1599, 'questioned': 1600, 'young': 1601, 'half': 1602, 'municipal': 1603, 'hospital': 1604, 'trace': 1605, 'mention': 1606, 'tipped': 1607, 'mistaken': 1608, 'pointed': 1609, 'fingers': 1610, 'beasts': 1611, 'homes': 1612, 'apparitions': 1613, 'beware': 1614, 'keepers': 1615, 'faith': 1616, 'religion': 1617, 'doctors': 1618, 'places': 1619, 'schools': 1620, 'colleges': 1621, 'speaking': 1622, 'elsewhere': 1623, 'power': 1624, 'failure': 1625, 'locked': 1626, 'forgive': 1627, 'responsible': 1628, 'state': 1629, 'july': 1630, 'cannot': 1631, 'leaving': 1632, 'mistake': 1633, 'sparing': 1634, 'reminding': 1635, 'den': 1636, 'fingernail': 1637, 'follow': 1638, 'stopping': 1639, \"shouldn't\": 1640, 'easily': 1641, 'barred': 1642, 'irons': 1643, 'brother': 1644, 'bruised': 1645, 'weak': 1646, 'lasts': 1647, 'regrets': 1648, \"l'll\": 1649, 'replay': 1650, 'used': 1651, 'fiance': 1652, 'front': 1653, 'exactly': 1654, 'orphans': 1655, 'rahul': 1656, 'pooja': 1657, 'birthday': 1658, 'pathways': 1659, 'streams': 1660, 'glimmering': 1661, 'lamps': 1662, 'nature': 1663, 'mate': 1664, 'eulogies': 1665}\n",
            "1665\n",
            "{1: '<OOV>', 2: 'you', 3: 'i', 4: 'to', 5: 'the', 6: 'a', 7: 'in', 8: 'me', 9: 'my', 10: 'of', 11: 'it', 12: 'is', 13: 'he', 14: 'and', 15: 'for', 16: 'are', 17: 'on', 18: \"i'm\", 19: 'him', 20: 'what', 21: 'this', 22: 'your', 23: 'sanjay', 24: 'that', 25: 'how', 26: \"it's\", 27: 'kalpana', 28: 'one', 29: 'yes', 30: 'so', 31: 'all', 32: 'but', 33: 'be', 34: 'who', 35: 'singhania', 36: 'go', 37: 'we', 38: 'was', 39: 'get', 40: 'out', 41: 'do', 42: 'her', 43: \"don't\", 44: 'sir', 45: 'please', 46: 'no', 47: \"i'll\", 48: 'why', 49: 'like', 50: 'can', 51: 'come', 52: 'now', 53: 'here', 54: 'at', 55: 'from', 56: 'have', 57: 'his', 58: 'just', 59: 'if', 60: 'has', 61: 'hello', 62: 'kill', 63: 'got', 64: 'an', 65: 'will', 66: 'ghajini', 67: \"you're\", 68: 'up', 69: 'about', 70: \"he's\", 71: 'take', 72: 'not', 73: 'hi', 74: 'she', 75: 'with', 76: 'know', 77: 'find', 78: 'say', 79: 'then', 80: 'two', 81: 'girls', 82: 'name', 83: 'hey', 84: 'want', 85: 'am', 86: 'oh', 87: 'did', 88: 'only', 89: 'there', 90: 'see', 91: 'thank', 92: 'right', 93: \"what's\", 94: 'life', 95: 'our', 96: 'good', 97: 'look', 98: 'even', 99: 'going', 100: 'where', 101: 'excuse', 102: 'away', 103: 'happened', 104: 'air', 105: 'give', 106: 'over', 107: 'ad', 108: 'love', 109: 'tell', 110: 'man', 111: 'been', 112: 'memory', 113: 'after', 114: 'change', 115: 'them', 116: 'some', 117: 'into', 118: 'make', 119: 'mr', 120: 'first', 121: 'okay', 122: 'much', 123: 'must', 124: 'told', 125: 'when', 126: 'voice', 127: 'said', 128: 'done', 129: 'us', 130: 'believe', 131: 'wait', 132: 'way', 133: 'very', 134: 'came', 135: \"won't\", 136: \"i've\", 137: 'day', 138: 'sorry', 139: 'time', 140: 'rhythm', 141: 'too', 142: \"that's\", 143: 'madam', 144: 'coming', 145: 'sachin', 146: 'new', 147: \"can't\", 148: 'second', 149: 'back', 150: 'more', 151: 'leave', 152: \"let's\", 153: 'heart', 154: 'boss', 155: 'hard', 156: 'had', 157: 'wish', 158: 'car', 159: 'short', 160: 'call', 161: 'as', 162: 'minutes', 163: 'by', 164: 'or', 165: 'down', 166: 'before', 167: \"we're\", 168: 'next', 169: 'mine', 170: 'morning', 171: 'photo', 172: 'never', 173: 'three', 174: 'let', 175: 'something', 176: 'years', 177: 'crazy', 178: 'every', 179: 'term', 180: 'loss', 181: 'also', 182: 'police', 183: 'medical', 184: 'remember', 185: 'again', 186: 'think', 187: 'company', 188: \"you'll\", 189: 'tomorrow', 190: 'help', 191: 'still', 192: 'everyone', 193: 'gone', 194: 'stop', 195: 'news', 196: 'sunita', 197: 'hit', 198: '15', 199: 'live', 200: 'photos', 201: 'talk', 202: 'friend', 203: 'dad', 204: 'they', 205: 'hold', 206: 'late', 207: 'girl', 208: \"isn't\", 209: \"we've\", 210: 'open', 211: 'upon', 212: 'went', 213: \"haven't\", 214: 'keep', 215: 'welcome', 216: 'met', 217: 'could', 218: 'marry', 219: 'bye', 220: 'shoot', 221: \"you've\", 222: 'home', 223: 'cars', 224: 'goa', 225: 'blessed', 226: 'anything', 227: 'mind', 228: 'face', 229: 'killed', 230: 'address', 231: 'camera', 232: \"didn't\", 233: 'buy', 234: 'ten', 235: 'meet', 236: 'thanks', 237: 'passion', 238: 'mumbai', 239: 'jhoom', 240: \"there's\", 241: 'listen', 242: \"it'll\", 243: 'minute', 244: 'men', 245: 'these', 246: 'airport', 247: 'delhi', 248: 'bombay', 249: 'underwear', 250: 'galli', 251: 'ecstasy', 252: 'party', 253: 'sure', 254: 'flat', 255: 'ago', 256: 'were', 257: 'dangerous', 258: '25', 259: 'most', 260: 'body', 261: 'patient', 262: 'forget', 263: 'such', 264: 'fine', 265: 'head', 266: 'doing', 267: 'building', 268: 'whose', 269: 'gun', 270: 'sold', 271: 'hundred', 272: 'asking', 273: 'bus', 274: 'long', 275: 'year', 276: 'put', 277: 'being', 278: 'need', 279: 'swing', 280: 'tum', 281: 'hear', 282: \"here's\", 283: \"o'clock\", 284: \"everyone's\", 285: 'today', 286: 'film', 287: \"they're\", 288: 'inside', 289: 'mayapuri', 290: 'calls', 291: 'saying', 292: 'feet', 293: \"who's\", 294: 'comes', 295: 'may', 296: 'looking', 297: 'khau', 298: 'wants', 299: 'getting', 300: 'chief', 301: 'guest', 302: 'shall', 303: 'off', 304: 'happy', 305: 'college', 306: 'moon', 307: \"life's\", 308: 'human', 309: 'case', 310: 'incident', 311: 'lost', 312: 'forgets', 313: 'ask', 314: 'things', 315: \"doesn't\", 316: 'someone', 317: 'five', 318: 'times', 319: \"he'll\", 320: 'looks', 321: 'strange', 322: 'goes', 323: 'damn', 324: 'student', 325: 'people', 326: 'manager', 327: 'enough', 328: 'show', 329: 'turning', 330: 'achieve', 331: 'mother', 332: 'office', 333: 'beat', 334: \"ma'am\", 335: 'problem', 336: 'sent', 337: 'ahead', 338: 'door', 339: 'matter', 340: 'ready', 341: 'saw', 342: 'wonderful', 343: 'great', 344: 'big', 345: 'model', 346: 'worry', 347: 'actually', 348: 'flight', 349: 'sudden', 350: 'end', 351: 'took', 352: 'read', 353: 'careful', 354: 'should', 355: 'congratulations', 356: 'story', 357: 'number', 358: 'same', 359: 'which', 360: 'quickly', 361: 'chinchpokli', 362: 'bunder', 363: 'nice', 364: 'drive', 365: 'taken', 366: 'uncle', 367: 'four', 368: 'spring', 369: 'wow', 370: 'ever', 371: 'their', 372: 'tonight', 373: 'acting', 374: 'coat', 375: 'mad', 376: 'turn', 377: \"we'll\", 378: 'dharmatma', 379: 'dead', 380: 'alive', 381: 'step', 382: 'peace', 383: 'until', 384: 'ambassador', 385: 'travels', 386: 'bought', 387: 'forever', 388: 'under', 389: 'several', 390: 'brought', 391: 'brain', 392: 'remembers', 393: 'everything', 394: 'forgotten', 395: 'tasks', 396: 'does', 397: 'child', 398: 'street', 399: 'gets', 400: 'rupees', 401: 'house', 402: 'phone', 403: 'revenge', 404: 'check', 405: 'hiranandani', 406: 'station', 407: 'written', 408: 'behind', 409: 'paid', 410: 'always', 411: 'names', 412: 'doctor', 413: \"aren't\", 414: \"i'd\", 415: 'business', 416: 'work', 417: 'across', 418: 'vanity', 419: 'confidence', 420: 'jhamak', 421: 'tap', 422: 'tamaak', 423: 'deep', 424: 'hearts', 425: 'thirty', 426: 'waiting', 427: 'lights', 428: 'action', 429: 'hands', 430: 'white', 431: 'road', 432: 'terrace', 433: 'plain', 434: \"singhania's\", 435: 'run', 436: 'ads', 437: 'try', 438: 'ought', 439: 'correct', 440: 'found', 441: 'yours', 442: 'talking', 443: 'whom', 444: 'trust', 445: 'article', 446: \"you'd\", 447: 'kept', 448: 'staring', 449: 'seat', 450: 'beside', 451: 'talked', 452: 'non', 453: 'silly', 454: 'made', 455: 'lift', 456: \"she's\", 457: 'recommend', 458: 'photographs', 459: 'telling', 460: 'busy', 461: 'economic', 462: '3', 463: 'taking', 464: 'country', 465: 'thought', 466: 'any', 467: 'other', 468: 'swayed', 469: 'eyes', 470: 'thinking', 471: 'colours', 472: 'many', 473: 'sit', 474: 'without', 475: 'boyfriend', 476: 'perfect', 477: 'cut', 478: 'teach', 479: 'already', 480: 'embrace', 481: 'others', 482: 'badly', 483: 'remain', 484: 'care', 485: 'afraid', 486: 'planning', 487: 'watch', 488: 'shetty', 489: 'than', 490: 'smooth', 491: 'london', 492: 'lucky', 493: 'contest', 494: 'wanted', 495: 'days', 496: 'bring', 497: 'sell', 498: 'descended', 499: 'placid', 500: 'lake', 501: 'rare', 502: 'slowly', 503: 'gently', 504: \"winter's\", 505: 'warm', 506: 'melody', 507: 'caressed', 508: 'enthralled', 509: 'once', 510: 'hostel', 511: 'move', 512: 'hiding', 513: 'sister', 514: '23', 515: 'area', 516: 'important', 517: 'interesting', 518: 'rod', 519: 'afterwards', 520: \"he'd\", 521: 'lie', 522: 'writing', 523: 'moment', 524: 'week', 525: 'hours', 526: 'orchard', 527: 'avenue', 528: 'shirt', 529: 'notes', 530: '10', 531: 'ticket', 532: 'note', 533: 'wrote', 534: 'sometimes', 535: 'buying', 536: 'keeps', 537: 'recognise', 538: 'scar', 539: 'takes', 540: 'nine', 541: 'hour', 542: 'canteen', 543: 'final', 544: 'making', 545: 'accident', 546: 'remind', 547: 'write', 548: 'job', 549: 'nothing', 550: 'order', 551: 'city', 552: 'india', 553: 'confident', 554: 'line', 555: 'between', 556: 'speak', 557: 'outside', 558: 'kiddo', 559: 'better', 560: 'toe', 561: 'breath', 562: 'sing', 563: 'shake', 564: 'traffic', 565: 'roll', 566: 'till', 567: 'wear', 568: 'choice', 569: 'hoarding', 570: 'fly', 571: 'battery', 572: 'myself', 573: 'satveer', 574: 'kohli', 575: 'brand', 576: 'green', 577: 'room', 578: 'shroff', 579: 'tea', 580: 'proposition', 581: 'heard', 582: 'ji', 583: 'somewhere', 584: 'hopes', 585: 'putting', 586: 'bill', 587: \"must've\", 588: 'playing', 589: 'gold', 590: 'another', 591: 'thing', 592: 'soap', 593: 'agencies', 594: 'consider', 595: 'magic', 596: 'wand', 597: 'flourish', 598: 'models', 599: 'director', 600: 'really', 601: 'lover', 602: 'knew', 603: 'lobby', 604: 'discovered', 605: 'chatter', 606: 'marriages', 607: 'thin', 608: 'inundated', 609: 'smses', 610: 'decided', 611: \"kalpana's\", 612: 'words', 613: 'seen', 614: 'disturb', 615: 'lies', 616: 'later', 617: 'children', 618: 'while', 619: 'sweet', 620: 'send', 621: 'print', 622: 'selected', 623: 'standard', 624: 'anjali', 625: 'bit', 626: 'feel', 627: 'beyond', 628: 'along', 629: 'money', 630: 'rivers', 631: 'properly', 632: 'roads', 633: 'meant', 634: 'town', 635: 'allergies', 636: 'ringworm', 637: 'break', 638: 'husband', 639: 'radio', 640: 'main', 641: 'swirl', 642: 'wind', 643: 'dancing', 644: 'music', 645: 'somewhat', 646: 'gossamer', 647: 'odd', 648: 'seasons', 649: 'memories', 650: 'guess', 651: 'eve', 652: 'printed', 653: 'invitations', 654: 'biggest', 655: 'top', 656: \"where's\", 657: 'invite', 658: 'otherwise', 659: \"would've\", 660: 'wrong', 661: 'dialogue', 662: \"tonight's\", 663: 'pass', 664: 'joking', 665: 'idiot', 666: 'hand', 667: 'hell', 668: 'stunned', 669: 'respect', 670: 'caught', 671: 'train', 672: 'real', 673: 'sampat', 674: 'theatre', 675: 'class', 676: 'canceled', 677: 'entry', 678: 'arrived', 679: 'fools', 680: 'god', 681: 'happen', 682: 'alone', 683: 'public', 684: 'around', 685: 'cheque', 686: 'thousand', 687: 'finished', 688: 'guy', 689: 'truth', 690: 'accepts', 691: 'confess', 692: 'refuses', 693: 'fade', 694: 'await', 695: '31', 696: '2006', 697: 'sleep', 698: 'keeping', 699: 'mean', 700: 'boys', 701: 'evening', 702: \"why's\", 703: 'become', 704: 'jobs', 705: 'list', 706: 'floor', 707: '2008', 708: 'fast', 709: 'chasing', 710: 'place', 711: 'sense', 712: 'finish', 713: 'anyone', 714: 'missing', 715: 'extremely', 716: 'policeman', 717: 'date', 718: 'named', 719: 'death', 720: 'fix', 721: 'wearing', 722: 'blue', 723: 'hurry', 724: 'stay', 725: 'thirst', 726: 'unfulfilled', 727: 'consummation', 728: 'arms', 729: 'pine', 730: 'splash', 731: 'mood', 732: 'match', 733: 'forth', 734: 'fountainhead', 735: 'spew', 736: 'pearls', 737: 'path', 738: 'dreams', 739: 'cast', 740: 'dark', 741: 'lest', 742: 'yet', 743: '1992', 744: 'swore', 745: 'promise', 746: 'post', 747: 'because', 748: 'richer', 749: 'wedding', 750: 'somehow', 751: 'licence', 752: 'through', 753: 'giving', 754: 'feeling', 755: 'village', 756: 'land', 757: \"mother's\", 758: 'treatment', 759: 'inheritance', 760: 'believed', 761: 'creator', 762: 'finds', 763: 'urge', 764: 'created', 765: 'glory', 766: \"girls'\", 767: 'given', 768: 'numbers', 769: 'tattooed', 770: 'constable', 771: 'chairman', 772: 'complaint', 773: 'managed', 774: 'kidnapped', 775: 'save', 776: 'helping', 777: 'organs', 778: 'flesh', 779: 'trade', 780: 'rescued', 781: 'investigations', 782: 'influential', 783: 'women', 784: 'vyjayanti', 785: 'prakash', 786: 'eye', 787: 'cunning', 788: 'cake', 789: 'cheater', 790: 'strikes', 791: 'rain', 792: 'arm', 793: 'suns', 794: 'organ', 795: 'vital', 796: 'component', 797: 'system', 798: 'controls', 799: 'part', 800: 'king', 801: 'parts', 802: 'symptom', 803: 'anti', 804: 'retrograde', 805: 'amnesia', 806: \"one's\", 807: 'project', 808: 'parents', 809: 'students', 810: 'iron', 811: 'unable', 812: 'events', 813: 'example', 814: 'recalls', 815: 'fragments', 816: 'regular', 817: 'eating', 818: 'drinking', 819: 'driving', 820: 'feelings', 821: 'embedded', 822: 'sub', 823: 'conscious', 824: 'everyday', 825: 'routine', 826: 'perform', 827: 'instructed', 828: 'committing', 829: 'learning', 830: 'rote', 831: 'jotting', 832: 'likewise', 833: 'assaulted', 834: 'knows', 835: 'unfortunately', 836: 'recall', 837: 'wonder', 838: 'mangesh', 839: 'search', 840: \"l'm\", 841: '48', 842: 'pin', 843: '400076', 844: 'odyssey', 845: '73', 846: 'keys', 847: 'wallet', 848: 'cell', 849: 'remove', 850: 't', 851: 'yesterday', 852: 'andheri', 853: 'forgot', 854: 'tickets', 855: 'stops', 856: 'sort', 857: 'shaven', 858: '392', 859: 'lecture', 860: 'beeping', 861: 'buzzes', 862: 'inscribe', 863: 'tear', 864: 'throw', 865: 'watchman', 866: 'injured', 867: 'professor', 868: 'friends', 869: 'confide', 870: 'photograph', 871: 'use', 872: 'hope', 873: 'incompetent', 874: 'dreamt', 875: 'enterprise', 876: \"india's\", 877: 'largest', 878: 'cellphone', 879: 'dream', 880: 'purpose', 881: 'undone', 882: 'born', 883: 'trusted', 884: 'employees', 885: 'emotions', 886: 'emotional', 887: 'targeting', 888: '500', 889: 'million', 890: 'subscriber', 891: 'base', 892: 'shocked', 893: 'vain', 894: 'speaks', 895: 'would', 896: 'build', 897: 'kindly', 898: \"tum''\", 899: 'limits', 900: 'borders', 901: 'heady', 902: 'cocktail', 903: 'wines', 904: 'merriness', 905: 'taste', 906: 'happiness', 907: 'secret', 908: 'emls', 909: 'hide', 910: 'smile', 911: 'teaches', 912: 'hostages', 913: 'ride', 914: 'waves', 915: 'abreast', 916: 'tides', 917: 'ebbs', 918: 'sheet', 919: 'excuses', 920: 'filling', 921: 'crowd', 922: 'preens', 923: 'superstar', 924: 'rolling', 925: 'rub', 926: 'scrub', 927: 'tire', 928: 'yellow', 929: 'pan', 930: 'kite', 931: 'discover', 932: 'sparkling', 933: 'rupee', 934: 'gleaming', 935: 'glistening', 936: 'whites', 937: 'eighth', 938: 'display', 939: 'site', 940: 'six', 941: 'hoardings', 942: 'available', 943: 'visible', 944: 'lives', 945: 'approach', 946: 'executive', 947: 'assistant', 948: 'range', 949: 'soaps', 950: 'oils', 951: 'toothbrushes', 952: 'digestive', 953: 'pills', 954: 'latest', 955: 'monkey', 956: 'toothpowder', 957: 'serve', 958: 'convince', 959: 'enchanted', 960: 'acceptable', 961: 'behalf', 962: 'request', 963: 'decision', 964: 'displeased', 965: 'card', 966: 'apologise', 967: 'intruding', 968: 'personal', 969: 'affairs', 970: 'whatever', 971: 'spot', 972: 'boy', 973: 'chair', 974: 'surmise', 975: \"might've\", 976: 'sight', 977: 'thereby', 978: 'hangs', 979: 'question', 980: 'pins', 981: 'spurning', 982: 'owns', 983: 'gates', 984: 'opportunity', 985: 'nod', 986: 'transported', 987: 'heights', 988: 'deed', 989: 'virtue', 990: 'prayer', 991: 'plunge', 992: 'allow', 993: 'ringing', 994: 'rent', 995: 'months', 996: 'shook', 997: 'shines', 998: 'nathumal', 999: 'gendamal', 1000: 'jewellers', 1001: '42', 1002: 'link', 1003: 'malad', 1004: 'west', 1005: 'branches', 1006: 'mom', 1007: 'trusts', 1008: 'hamam', 1009: 'agent', 1010: 'romancing', 1011: 'lead', 1012: 'boost', 1013: 'small', 1014: 'films', 1015: 'needs', 1016: 'national', 1017: 'clients', 1018: \"yesterday's\", 1019: 'struggling', 1020: 'interiew', 1021: 'seated', 1022: 'setting', 1023: 'sets', 1024: 'flying', 1025: 'gave', 1026: 'pity', 1027: \"week's\", 1028: 'breaking', 1029: 'tycoon', 1030: 'affair', 1031: 'aspiring', 1032: 'own', 1033: 'neither', 1034: 'nor', 1035: 'hers', 1036: 'impossible', 1037: 'return', 1038: 'museum', 1039: \"name's\", 1040: 'tendulkar', 1041: 'autographs', 1042: 'bouquets', 1043: 'annoyed', 1044: 'persistence', 1045: 'magazine', 1046: 'recommendations', 1047: 'advertisements', 1048: 'well', 1049: 'wears', 1050: 'suits', 1051: 'auditions', 1052: 'talent', 1053: 'set', 1054: 'sights', 1055: 'van', 1056: 'heusen', 1057: 'suitings', 1058: 'papads', 1059: 'mosquito', 1060: 'coils', 1061: 'catch', 1062: 'bounce', 1063: 'hair', 1064: 'alpha', 1065: 'males', 1066: 'comb', 1067: 'poor', 1068: '9650055555', 1069: 'crap', 1070: 'network', 1071: 'anywhere', 1072: 'antenna', 1073: 'pocket', 1074: 'borough', 1075: 'splashed', 1076: \"sms's\", 1077: 'drained', 1078: 'completing', 1079: 'law', 1080: 'usa', 1081: 'mba', 1082: 'harvard', 1083: 'since', 1084: 'father', 1085: 'passed', 1086: 'strongly', 1087: 'technology', 1088: 'reach', 1089: 'social', 1090: 'barriers', 1091: 'goal', 1092: 'cellphones', 1093: 'girlfriend', 1094: \"men's\", 1095: 'mark', 1096: 'beg', 1097: 'pardon', 1098: 'chi', 1099: 'chinchbokli', 1100: 'pokli', 1101: 'arrive', 1102: 'autorickshaw', 1103: 'impression', 1104: \"d'you\", 1105: 'manage', 1106: 'hot', 1107: 'rains', 1108: 'flow', 1109: 'moron', 1110: 'pedestrians', 1111: 'carefully', 1112: 'boo', 1113: 'gawking', 1114: 'bumpkin', 1115: 'zorro', 1116: 'elastic', 1117: 'imagine', 1118: 'yourself', 1119: 'junction', 1120: 'sixty', 1121: 'forty', 1122: 'banners', 1123: 'luck', 1124: 'skin', 1125: 'salves', 1126: 'infections', 1127: 'spirit', 1128: 'studio', 1129: 'headed', 1130: 'describe', 1131: \"whatever's\", 1132: 'schoolgirls', 1133: 'tic', 1134: 'tac', 1135: 'wife', 1136: 'thrashing', 1137: 'shop', 1138: 'crossing', 1139: 'sai', 1140: \"baba's\", 1141: 'temple', 1142: 'reached', 1143: 'flew', 1144: 'held', 1145: 'unlikely', 1146: 'different', 1147: 'unique', 1148: 'unpretentious', 1149: 'attitude', 1150: 'freshness', 1151: 'fills', 1152: 'flies', 1153: 'holds', 1154: 'aflutter', 1155: 'faltered', 1156: 'swooned', 1157: 'stood', 1158: 'each', 1159: 'endless', 1160: 'wake', 1161: 'moments', 1162: 'stretch', 1163: 'twisting', 1164: 'tossing', 1165: 'images', 1166: 'criss', 1167: 'cross', 1168: 'awash', 1169: 'gushing', 1170: 'stream', 1171: 'flows', 1172: 'drenching', 1173: 'murmurs', 1174: 'trivia', 1175: 'priceless', 1176: 'innocence', 1177: 'mischief', 1178: 'gloss', 1179: 'bashful', 1180: 'carefree', 1181: 'seas', 1182: 'blossom', 1183: 'charm', 1184: 'endearing', 1185: 'illusions', 1186: 'paths', 1187: 'praying', 1188: 'hoping', 1189: 'eager', 1190: 'eyed', 1191: 'musing', 1192: 'fragrant', 1193: 'shades', 1194: 'stand', 1195: 'stands', 1196: 'stilled', 1197: 'famous', 1198: 'throwing', 1199: \"year's\", 1200: 'makers', 1201: 'producers', 1202: 'directors', 1203: 'accompany', 1204: 'fight', 1205: 'distributed', 1206: 'lose', 1207: 'slipped', 1208: 'percent', 1209: 'dying', 1210: 'returned', 1211: 'america', 1212: 'pretend', 1213: 'convinced', 1214: 'muster', 1215: 'hush', 1216: 'stupid', 1217: 'amateur', 1218: 'duffer', 1219: 'fish', 1220: 'ruined', 1221: 'workplace', 1222: 'began', 1223: 'played', 1224: 'hosting', 1225: 'invites', 1226: 'naming', 1227: 'preparing', 1228: 'mule', 1229: 'extra', 1230: 'swagger', 1231: 'relaxed', 1232: 'easy', 1233: 'belong', 1234: \"l've\", 1235: 'plays', 1236: 'act', 1237: 'walked', 1238: 'awry', 1239: 'rubber', 1240: 'slippers', 1241: 'snap', 1242: 'smart', 1243: 'goggles', 1244: 'having', 1245: 'turns', 1246: \"everyone'll\", 1247: 'grand', 1248: 'rehearsed', 1249: 'thoroughly', 1250: 'fool', 1251: 'footing', 1252: \"hasn't\", 1253: 'begun', 1254: 'darling', 1255: 'gorgeous', 1256: 'insisted', 1257: 'course', 1258: 'autograph', 1259: 'fully', 1260: 'agree', 1261: 'policy', 1262: 'suggestions', 1263: 'dinner', 1264: 'close', 1265: 'kiss', 1266: 'ninety', 1267: 'groups', 1268: 'solo', 1269: 'learn', 1270: 'seniors', 1271: 'nowhere', 1272: 'sitting', 1273: 'august', 1274: 'presence', 1275: 'ice', 1276: 'cold', 1277: 'dinanath', 1278: 'charitable', 1279: 'orphanage', 1280: 'contribution', 1281: 'grateful', 1282: 'cash', 1283: 'nowadays', 1284: 'parties', 1285: 'chequebooks', 1286: 'upto', 1287: 'chequebook', 1288: 'loud', 1289: 'best', 1290: 'leading', 1291: 'sonal', 1292: \"there're\", 1293: 'fell', 1294: 'clever', 1295: 'world', 1296: 'ordinary', 1297: 'unexceptional', 1298: 'wins', 1299: 'diary', 1300: 'december', 1301: 'st', 1302: 'pankaj', 1303: 'dr', 1304: 'peston', 1305: 'wadia', 1306: 'mansion', 1307: 'tiny', 1308: 'nurse', 1309: 'chauffeur', 1310: 'invitation', 1311: 'calendar', 1312: 'culture', 1313: 'fest', 1314: 'nearly', 1315: 'performance', 1316: 'song', 1317: 'calm', 1318: 'patronised', 1319: 'hearty', 1320: 'beating', 1321: 'dance', 1322: 'uninhibited', 1323: 'scent', 1324: 'bells', 1325: 'season', 1326: 'youth', 1327: 'filled', 1328: 'emptinesses', 1329: 'sign', 1330: 'slave', 1331: 'calling', 1332: 'basement', 1333: 'park', 1334: 'tried', 1335: 'shit', 1336: 'ones', 1337: 'fourth', 1338: '401', 1339: 'murdered', 1340: 'june', 1341: 'restaurant', 1342: 'officer', 1343: 'murderer', 1344: 'shade', 1345: 'nail', 1346: 'polish', 1347: 'breathing', 1348: 'sweating', 1349: 'smoking', 1350: 'decency', 1351: 'idiots', 1352: 'thrash', 1353: 'lesson', 1354: 'lessons', 1355: 'quarrels', 1356: 'enemies', 1357: 'anxious', 1358: \"wasn't\", 1359: 'else', 1360: 'visited', 1361: 'recently', 1362: 'trying', 1363: 'inscribed', 1364: 'underneath', 1365: 'mess', 1366: \"couldn't\", 1367: 'warn', 1368: 'fifteen', 1369: 'die', 1370: '12', 1371: 'earth', 1372: 'bastard', 1373: 'ends', 1374: 'jeans', 1375: 'warden', 1376: 'third', 1377: 'floors', 1378: 'switch', 1379: 'restrain', 1380: 'force', 1381: 'backwards', 1382: 'drag', 1383: 'diaries', 1384: 'suspense', 1385: 'haunting', 1386: 'light', 1387: 'dawn', 1388: 'unquenched', 1389: 'thrilled', 1390: 'glass', 1391: 'ford', 1392: 'nights', 1393: 'fearful', 1394: 'fantasies', 1395: 'shatter', 1396: 'inflamed', 1397: 'fear', 1398: 'tempest', 1399: 'puts', 1400: 'flame', 1401: 'lone', 1402: 'springs', 1403: 'joy', 1404: 'culmination', 1405: 'skies', 1406: 'dense', 1407: 'clouds', 1408: 'hover', 1409: 'overcast', 1410: 'searing', 1411: 'loneliness', 1412: 'pacing', 1413: \"moment's\", 1414: 'restless', 1415: 'yearning', 1416: 'thrill', 1417: 'rushing', 1418: \"now's\", 1419: 'blow', 1420: 'brains', 1421: 'lines', 1422: 'travel', 1423: 'agency', 1424: 'shitty', 1425: 'cheated', 1426: 'ohh', 1427: 'stole', 1428: 'broken', 1429: 'hearted', 1430: 'died', 1431: 'climb', 1432: 'couple', 1433: 'rich', 1434: 'goenka', 1435: 'board', 1436: 'meeting', 1437: 'eleven', 1438: 'marketing', 1439: 'presentation', 1440: 'lunch', 1441: 'tricked', 1442: \"she'd\", 1443: \"that'd\", 1444: 'prefer', 1445: 'facade', 1446: 'gift', 1447: 'responsibility', 1448: 'ill', 1449: 'tank', 1450: 'petrol', 1451: 'ful', 1452: 'quiet', 1453: 'surprise', 1454: 'jewellery', 1455: 'dear', 1456: 'dowry', 1457: 'moves', 1458: 'test', 1459: 'kids', 1460: 'butter', 1461: 'works', 1462: 'pretty', 1463: 'fax', 1464: 'uk', 1465: 'routed', 1466: 'staff', 1467: 'immediately', 1468: 'pips', 1469: 'won', 1470: 'fixed', 1471: 'pretending', 1472: 'capture', 1473: 'posterity', 1474: 'beautiful', 1475: 'fabulous', 1476: 'strike', 1477: \"weren't\", 1478: 'suddenly', 1479: 'sick', 1480: 'property', 1481: 'acres', 1482: 'sooner', 1483: 'nervous', 1484: 'rest', 1485: 'clauses', 1486: 'covered', 1487: 'clarified', 1488: 'points', 1489: 'copy', 1490: 'changes', 1491: 'incorporated', 1492: 'pack', 1493: 'gentlemen', 1494: 'old', 1495: 'standing', 1496: 'sun', 1497: 'revealed', 1498: 'chords', 1499: 'touch', 1500: 'tunes', 1501: 'arrested', 1502: 'tough', 1503: 'control', 1504: 'sedative', 1505: 'remarks', 1506: 'able', 1507: 'those', 1508: 'dhuri', 1509: 'd', 1510: 'n', 1511: 'nagar', 1512: 'suffers', 1513: 'remembering', 1514: \"girl's\", 1515: 'secretary', 1516: 'safety', 1517: 'registered', 1518: 'contact', 1519: 'details', 1520: 'allowed', 1521: 'silence', 1522: 'locking', 1523: '171', 1524: 'cheetah', 1525: 'camp', 1526: 'deonar', 1527: '13', 1528: '06', 1529: \"tomorrow's\", 1530: 'records', 1531: 'murder', 1532: 'enquiry', 1533: 'trouble', 1534: 'living', 1535: 'tags', 1536: 'everywhere', 1537: 'erase', 1538: 'blank', 1539: 'paper', 1540: 'furniture', 1541: 'vegetable', 1542: 'newspaper', 1543: 'archives', 1544: 'latur', 1545: 'ramesh', 1546: 'forcing', 1547: 'bogey', 1548: 'stations', 1549: 'cry', 1550: 'frock', 1551: '2000', 1552: 'worth', 1553: '000', 1554: 'chickens', 1555: 'spare', 1556: 'hen', 1557: 'far', 1558: 'returning', 1559: 'goons', 1560: \"nothing's\", 1561: 'perfectly', 1562: 'habit', 1563: 'disabled', 1564: 'ditch', 1565: 'stuff', 1566: 'amazed', 1567: 'drop', 1568: 'melodrama', 1569: 'trafficking', 1570: 'last', 1571: \"night's\", 1572: 'revelation', 1573: 'villages', 1574: 'north', 1575: 'lured', 1576: 'pretext', 1577: 'soldiers', 1578: 'reveal', 1579: 'harested', 1580: 'operated', 1581: 'surgically', 1582: 'kidneys', 1583: 'removed', 1584: 'en', 1585: 'route', 1586: 'pressed', 1587: 'apparently', 1588: 'full', 1589: 'fledged', 1590: 'racket', 1591: 'flourishing', 1592: 'indicate', 1593: 'possible', 1594: 'involvement', 1595: 'information', 1596: 'led', 1597: 'wide', 1598: 'crackdown', 1599: 'suspects', 1600: 'questioned', 1601: 'young', 1602: 'half', 1603: 'municipal', 1604: 'hospital', 1605: 'trace', 1606: 'mention', 1607: 'tipped', 1608: 'mistaken', 1609: 'pointed', 1610: 'fingers', 1611: 'beasts', 1612: 'homes', 1613: 'apparitions', 1614: 'beware', 1615: 'keepers', 1616: 'faith', 1617: 'religion', 1618: 'doctors', 1619: 'places', 1620: 'schools', 1621: 'colleges', 1622: 'speaking', 1623: 'elsewhere', 1624: 'power', 1625: 'failure', 1626: 'locked', 1627: 'forgive', 1628: 'responsible', 1629: 'state', 1630: 'july', 1631: 'cannot', 1632: 'leaving', 1633: 'mistake', 1634: 'sparing', 1635: 'reminding', 1636: 'den', 1637: 'fingernail', 1638: 'follow', 1639: 'stopping', 1640: \"shouldn't\", 1641: 'easily', 1642: 'barred', 1643: 'irons', 1644: 'brother', 1645: 'bruised', 1646: 'weak', 1647: 'lasts', 1648: 'regrets', 1649: \"l'll\", 1650: 'replay', 1651: 'used', 1652: 'fiance', 1653: 'front', 1654: 'exactly', 1655: 'orphans', 1656: 'rahul', 1657: 'pooja', 1658: 'birthday', 1659: 'pathways', 1660: 'streams', 1661: 'glimmering', 1662: 'lamps', 1663: 'nature', 1664: 'mate', 1665: 'eulogies'}\n"
          ],
          "name": "stdout"
        }
      ]
    },
    {
      "cell_type": "code",
      "metadata": {
        "id": "xaWh8_6aq80t",
        "colab_type": "code",
        "colab": {
          "base_uri": "https://localhost:8080/",
          "height": 403
        },
        "outputId": "a35a0801-7789-4286-9982-69b22c548335"
      },
      "source": [
        "import numpy as np\n",
        "contexts=np.array([padded[i] for i in range(0,len(lines)-1)])\n",
        "responses=np.array([padded[i] for i in range(1,len(lines))])\n",
        "responses=np.expand_dims(responses,-1)\n",
        "print(contexts[6])\n",
        "print(responses[6])\n",
        "print(contexts.shape,responses.shape)"
      ],
      "execution_count": 103,
      "outputs": [
        {
          "output_type": "stream",
          "text": [
            "[ 26   5 391  24   0   0   0   0   0   0   0   0   0   0   0   0   0   0\n",
            "   0   0]\n",
            "[[798]\n",
            " [178]\n",
            " [260]\n",
            " [799]\n",
            " [  0]\n",
            " [  0]\n",
            " [  0]\n",
            " [  0]\n",
            " [  0]\n",
            " [  0]\n",
            " [  0]\n",
            " [  0]\n",
            " [  0]\n",
            " [  0]\n",
            " [  0]\n",
            " [  0]\n",
            " [  0]\n",
            " [  0]\n",
            " [  0]\n",
            " [  0]]\n",
            "(3761, 20) (3761, 20, 1)\n"
          ],
          "name": "stdout"
        }
      ]
    },
    {
      "cell_type": "code",
      "metadata": {
        "id": "0t-V3i1jrfSM",
        "colab_type": "code",
        "colab": {
          "base_uri": "https://localhost:8080/",
          "height": 353
        },
        "outputId": "fdd55347-4544-4d7b-cde0-1190d3e4bf4c"
      },
      "source": [
        "\n",
        "!wget http://nlp.stanford.edu/data/glove.6B.zip"
      ],
      "execution_count": 56,
      "outputs": [
        {
          "output_type": "stream",
          "text": [
            "--2020-06-24 09:35:19--  http://nlp.stanford.edu/data/glove.6B.zip\n",
            "Resolving nlp.stanford.edu (nlp.stanford.edu)... 171.64.67.140\n",
            "Connecting to nlp.stanford.edu (nlp.stanford.edu)|171.64.67.140|:80... connected.\n",
            "HTTP request sent, awaiting response... 302 Found\n",
            "Location: https://nlp.stanford.edu/data/glove.6B.zip [following]\n",
            "--2020-06-24 09:35:20--  https://nlp.stanford.edu/data/glove.6B.zip\n",
            "Connecting to nlp.stanford.edu (nlp.stanford.edu)|171.64.67.140|:443... connected.\n",
            "HTTP request sent, awaiting response... 301 Moved Permanently\n",
            "Location: http://downloads.cs.stanford.edu/nlp/data/glove.6B.zip [following]\n",
            "--2020-06-24 09:35:20--  http://downloads.cs.stanford.edu/nlp/data/glove.6B.zip\n",
            "Resolving downloads.cs.stanford.edu (downloads.cs.stanford.edu)... 171.64.64.22\n",
            "Connecting to downloads.cs.stanford.edu (downloads.cs.stanford.edu)|171.64.64.22|:80... connected.\n",
            "HTTP request sent, awaiting response... 200 OK\n",
            "Length: 862182613 (822M) [application/zip]\n",
            "Saving to: ‘glove.6B.zip’\n",
            "\n",
            "glove.6B.zip        100%[===================>] 822.24M  2.09MB/s    in 6m 27s  \n",
            "\n",
            "2020-06-24 09:41:47 (2.12 MB/s) - ‘glove.6B.zip’ saved [862182613/862182613]\n",
            "\n"
          ],
          "name": "stdout"
        }
      ]
    },
    {
      "cell_type": "code",
      "metadata": {
        "id": "LA4YmGCarfUm",
        "colab_type": "code",
        "colab": {}
      },
      "source": [
        "import zipfile\n",
        "zip_ref = zipfile.ZipFile('/content/glove.6B.zip', 'r')\n",
        "zip_ref.extractall('/content/')\n",
        "zip_ref.close()"
      ],
      "execution_count": 57,
      "outputs": []
    },
    {
      "cell_type": "code",
      "metadata": {
        "id": "usQ5eP6ZrfX8",
        "colab_type": "code",
        "colab": {
          "base_uri": "https://localhost:8080/",
          "height": 34
        },
        "outputId": "c727e137-c178-44ec-d49d-383a19b9c2c7"
      },
      "source": [
        "import os\n",
        "import io\n",
        "embedding_index={}\n",
        "with io.open('glove.6B.100d.txt', encoding='utf8') as f:\n",
        "  for l in f:\n",
        "    values=l.split()\n",
        "    word=values[0]\n",
        "    coef=np.asarray(values[1:],dtype='float32')\n",
        "    embedding_index[word]=coef\n",
        "  f.close()\n",
        "print(len(embedding_index))"
      ],
      "execution_count": 104,
      "outputs": [
        {
          "output_type": "stream",
          "text": [
            "400000\n"
          ],
          "name": "stdout"
        }
      ]
    },
    {
      "cell_type": "code",
      "metadata": {
        "id": "vHaqK7drtV2l",
        "colab_type": "code",
        "colab": {}
      },
      "source": [
        "EMBED_DIM=100\n",
        "num_words=vocab_size\n",
        "embedding_matrix=np.zeros((len(word_index)+1,EMBED_DIM))\n",
        "for word,i in word_index.items():\n",
        "  embedding_vector=embedding_index.get(word)\n",
        "  if(embedding_vector is not None and i <num_words):\n",
        "    embedding_matrix[i]=embedding_vector"
      ],
      "execution_count": 105,
      "outputs": []
    },
    {
      "cell_type": "code",
      "metadata": {
        "id": "HZYo5XwAtV58",
        "colab_type": "code",
        "colab": {}
      },
      "source": [
        "from keras.layers import Embedding\n",
        "embedding_layer=Embedding(len(word_index)+1,EMBED_DIM,weights=[embedding_matrix],input_length=Tx,trainable=False)\n"
      ],
      "execution_count": 106,
      "outputs": []
    },
    {
      "cell_type": "code",
      "metadata": {
        "id": "OvOdulhItWCY",
        "colab_type": "code",
        "colab": {}
      },
      "source": [
        "from keras.models import Sequential\n",
        "from keras.layers import Bidirectional, Concatenate, Permute, Dot, Input, GRU,LSTM, Multiply\n",
        "from keras.layers import RepeatVector,TimeDistributed, Dense, Activation, Lambda,BatchNormalization\n",
        "from keras.optimizers import Adam\n",
        "from keras.utils import to_categorical\n",
        "from keras.models import load_model, Model\n",
        "import keras.backend as K\n",
        "\n",
        "#from faker import Faker\n",
        "import random\n",
        "from tqdm import tqdm\n",
        "from babel.dates import format_date\n",
        "#from nmt_utils import *\n",
        "import matplotlib.pyplot as plt\n",
        "%matplotlib inline"
      ],
      "execution_count": 107,
      "outputs": []
    },
    {
      "cell_type": "code",
      "metadata": {
        "id": "4tEseGw9tWFI",
        "colab_type": "code",
        "colab": {}
      },
      "source": [
        "model=Sequential()\n",
        "model.add(embedding_layer)\n",
        "model.add(BatchNormalization())\n",
        "model.add(LSTM(units=256,return_sequences=True))\n",
        "model.add(TimeDistributed(Dense(vocab_size,activation='softmax')))"
      ],
      "execution_count": 108,
      "outputs": []
    },
    {
      "cell_type": "code",
      "metadata": {
        "id": "-yuCek3mtWIf",
        "colab_type": "code",
        "colab": {
          "base_uri": "https://localhost:8080/",
          "height": 286
        },
        "outputId": "69ef57de-1961-44b4-ff8a-d4bcab2992f0"
      },
      "source": [
        "model.compile(loss='sparse_categorical_crossentropy',optimizer='adam')\n",
        "model.summary()"
      ],
      "execution_count": 109,
      "outputs": [
        {
          "output_type": "stream",
          "text": [
            "Model: \"sequential_3\"\n",
            "_________________________________________________________________\n",
            "Layer (type)                 Output Shape              Param #   \n",
            "=================================================================\n",
            "embedding_3 (Embedding)      (None, 20, 100)           166600    \n",
            "_________________________________________________________________\n",
            "batch_normalization_3 (Batch (None, 20, 100)           400       \n",
            "_________________________________________________________________\n",
            "lstm_3 (LSTM)                (None, 20, 256)           365568    \n",
            "_________________________________________________________________\n",
            "time_distributed_3 (TimeDist (None, 20, 3762)          966834    \n",
            "=================================================================\n",
            "Total params: 1,499,402\n",
            "Trainable params: 1,332,602\n",
            "Non-trainable params: 166,800\n",
            "_________________________________________________________________\n"
          ],
          "name": "stdout"
        }
      ]
    },
    {
      "cell_type": "code",
      "metadata": {
        "id": "3MnbJaEIt77E",
        "colab_type": "code",
        "colab": {
          "base_uri": "https://localhost:8080/",
          "height": 370
        },
        "outputId": "7a2f129f-3be2-4a2e-9dcc-6f1ab52809bb"
      },
      "source": [
        "model.fit(contexts,responses,epochs=10,batch_size=10)"
      ],
      "execution_count": 110,
      "outputs": [
        {
          "output_type": "stream",
          "text": [
            "Epoch 1/10\n",
            "3761/3761 [==============================] - 41s 11ms/step - loss: 1.2990\n",
            "Epoch 2/10\n",
            "3761/3761 [==============================] - 40s 11ms/step - loss: 0.8801\n",
            "Epoch 3/10\n",
            "3761/3761 [==============================] - 40s 11ms/step - loss: 0.8443\n",
            "Epoch 4/10\n",
            "3761/3761 [==============================] - 40s 11ms/step - loss: 0.8206\n",
            "Epoch 5/10\n",
            "3761/3761 [==============================] - 40s 11ms/step - loss: 0.8038\n",
            "Epoch 6/10\n",
            "3761/3761 [==============================] - 40s 11ms/step - loss: 0.7876\n",
            "Epoch 7/10\n",
            "3761/3761 [==============================] - 40s 11ms/step - loss: 0.7729\n",
            "Epoch 8/10\n",
            "3761/3761 [==============================] - 40s 11ms/step - loss: 0.7595\n",
            "Epoch 9/10\n",
            "3761/3761 [==============================] - 40s 11ms/step - loss: 0.7463\n",
            "Epoch 10/10\n",
            "3761/3761 [==============================] - 40s 11ms/step - loss: 0.7338\n"
          ],
          "name": "stdout"
        },
        {
          "output_type": "execute_result",
          "data": {
            "text/plain": [
              "<keras.callbacks.callbacks.History at 0x7f97129c4080>"
            ]
          },
          "metadata": {
            "tags": []
          },
          "execution_count": 110
        }
      ]
    },
    {
      "cell_type": "code",
      "metadata": {
        "id": "OPS0-f7Ft7-b",
        "colab_type": "code",
        "colab": {}
      },
      "source": [
        "sent=[\"how are you\"]\n",
        "seq=tokenizer.texts_to_sequences(sent)\n",
        "pad=pad_sequences(seq,maxlen=Tx,padding=padding,truncating=trunc_type)"
      ],
      "execution_count": 111,
      "outputs": []
    },
    {
      "cell_type": "code",
      "metadata": {
        "id": "i_QCo7Ost8kU",
        "colab_type": "code",
        "colab": {
          "base_uri": "https://localhost:8080/",
          "height": 34
        },
        "outputId": "13e3cfe6-c88f-4a25-904e-399bc7c50105"
      },
      "source": [
        "pred=model.predict(pad)\n",
        "pred=np.argmax(pred,axis=-1)\n",
        "print(pred,pred.shape)\n",
        "pred=pred.reshape(20,)\n",
        "for i in pred:\n",
        "  if i==0:\n",
        "    continue\n",
        "  else:\n",
        "    print(reverse_word_index[i])"
      ],
      "execution_count": 112,
      "outputs": [
        {
          "output_type": "stream",
          "text": [
            "[[0 0 0 0 0 0 0 0 0 0 0 0 0 0 0 0 0 0 0 0]] (1, 20)\n"
          ],
          "name": "stdout"
        }
      ]
    },
    {
      "cell_type": "code",
      "metadata": {
        "id": "4zlpQA3ut8m0",
        "colab_type": "code",
        "colab": {}
      },
      "source": [
        "from keras.layers import Layer\n",
        "import keras.backend as K\n",
        "\n",
        "class attention(Layer):\n",
        "    def __init__(self,**kwargs):\n",
        "        super(attention,self).__init__(**kwargs)\n",
        "\n",
        "    def build(self,input_shape):\n",
        "        self.W=self.add_weight(name=\"att_weight\",shape=(input_shape[-1],1),initializer=\"normal\")\n",
        "        self.b=self.add_weight(name=\"att_bias\",shape=(input_shape[1],1),initializer=\"zeros\")        \n",
        "        super(attention, self).build(input_shape)\n",
        "\n",
        "    def call(self,x):\n",
        "        et=K.squeeze(K.tanh(K.dot(x,self.W)+self.b),axis=-1)\n",
        "        at=K.softmax(et)\n",
        "        at=K.expand_dims(at,axis=-1)\n",
        "        output=x*at\n",
        "        return K.sum(output,axis=1)\n",
        "\n",
        "    def compute_output_shape(self,input_shape):\n",
        "        return (input_shape[0],input_shape[-1])\n",
        "\n",
        "    def get_config(self):\n",
        "        return super(attention,self).get_config()\n"
      ],
      "execution_count": 113,
      "outputs": []
    },
    {
      "cell_type": "code",
      "metadata": {
        "id": "mz0Ch5Uct8qL",
        "colab_type": "code",
        "colab": {}
      },
      "source": [
        "# returns train, inference_encoder and inference_decoder models\n",
        "def define_models(n_input, n_output, n_units):\n",
        "\n",
        "\n",
        "\t# define training encoder\n",
        "\tencoder_inputs = Input(shape=(None, n_input))\n",
        "\tencoder = LSTM(n_units, return_state=True)\n",
        "\tencoder_outputs, state_h, state_c = encoder(encoder_inputs)\n",
        "\tencoder_states = [state_h, state_c]\n",
        "\n",
        "\t# define training decoder\n",
        "\tdecoder_inputs = Input(shape=(None, n_output))\n",
        "\tdecoder_lstm = LSTM(n_units, return_sequences=True, return_state=True)\n",
        "\tdecoder_outputs, _, _ = decoder_lstm(decoder_inputs, initial_state=encoder_states)\n",
        "\tdecoder_dense = Dense(n_output, activation='softmax')\n",
        "\tdecoder_outputs = decoder_dense(decoder_outputs)\n",
        "\tmodel = Model([encoder_inputs, decoder_inputs], decoder_outputs)\n",
        " \n",
        "\n",
        "\t# define inference encoder\n",
        "\tencoder_model = Model(encoder_inputs, encoder_states)\n",
        " \n",
        "\n",
        "\t# define inference decoder\n",
        "\tdecoder_state_input_h = Input(shape=(n_units,))\n",
        "\tdecoder_state_input_c = Input(shape=(n_units,))\n",
        "\tdecoder_states_inputs = [decoder_state_input_h, decoder_state_input_c]\n",
        "\tdecoder_outputs, state_h, state_c = decoder_lstm(decoder_inputs, initial_state=decoder_states_inputs)\n",
        "\tdecoder_states = [state_h, state_c]\n",
        "\tdecoder_outputs = decoder_dense(decoder_outputs)\n",
        "\tdecoder_model = Model([decoder_inputs] + decoder_states_inputs, [decoder_outputs] + decoder_states)\n",
        "\t# return all models\n",
        "\n",
        "  \n",
        "\treturn model, encoder_model, decoder_model"
      ],
      "execution_count": 117,
      "outputs": []
    },
    {
      "cell_type": "code",
      "metadata": {
        "id": "WzHNFpxowN0T",
        "colab_type": "code",
        "colab": {
          "base_uri": "https://localhost:8080/",
          "height": 128
        },
        "outputId": "8816515c-1f26-4452-d8b6-042f6bc559d1"
      },
      "source": [
        "####BEAM__SEARCH__DECODER\n",
        "def beam_search(prev, i):\n",
        "        if output_projection is not None:\n",
        "            prev = tf.nn.xw_plus_b(\n",
        "                prev, output_projection[0], output_projection[1])\n",
        "\n",
        "       \n",
        "        # more numerically stable to use: \n",
        "        #   probs = prev - tf.log_sum_exp(prev, reduction_dims=[1])\n",
        "        probs = tf.log(tf.nn.softmax(prev))\n",
        "       \n",
        "        if i > 1:\n",
        "            probs = tf.reshape(probs + log_beam_probs[-1], \n",
        "                               [-1, beam_size * num_symbols])\n",
        "\n",
        "        # Get the top `beam_size` candidates and reshape them such\n",
        "        # that the number of rows = batch_size * beam_size, which\n",
        "        # allows us to process each hypothesis independently.\n",
        "        best_probs, indices = tf.nn.top_k(probs, beam_size)\n",
        "        indices = tf.stop_gradient(tf.squeeze(tf.reshape(indices, [-1, 1])))\n",
        "        best_probs = tf.stop_gradient(tf.reshape(best_probs, [-1, 1]))\n",
        "\n",
        "        symbols = indices % num_symbols # Which word in vocabulary.\n",
        "        beam_parent = indices // num_symbols # Which hypothesis it came from.\n",
        "\n",
        "        beam_symbols.append(symbols)\n",
        "        beam_path.append(beam_parent)\n",
        "        log_beam_probs.append(best_probs)\n",
        "        return tf.nn.embedding_lookup(embedding, symbols)\n",
        "\n",
        "    # Setting up graph.\n",
        "    inputs = [tf.placeholder(tf.float32, shape=[None, num_symbols])\n",
        "              for i in range(num_steps)]\n",
        "    for i in range(num_steps):\n",
        "        beam_search(inputs[i], i + 1)\n",
        "\n",
        "    # Running the graph.\n",
        "    input_vals = [0, 0, 0]\n",
        "    l = np.log\n",
        "    eps = -10 # exp(-10) ~= 0\n",
        "\n",
        "    \n",
        "    input_vals[0] = np.array([[0, eps, l(2), eps, l(3)]])\n",
        "    # Step 1 beam hypotheses =\n",
        "    # (1) Path: [4], prob = log(1 / 2)\n",
        "    # (2) Path: [2], prob = log(1 / 3)\n",
        "    # (3) Path: [0], prob = log(1 / 6)\n",
        "\n",
        "    input_vals[1] = np.array([[l(1.2), 0, 0, l(1.1), 0], # Path [4] \n",
        "                              [0,   eps, eps, eps, eps], # Path [2]\n",
        "                              [0,  0,   0,   0,   0]])   # Path [0]\n",
        "    # Step 2 beam hypotheses =\n",
        "    # (1) Path: [2, 0], prob = log(1 / 3) + log(1)\n",
        "    # (2) Path: [4, 0], prob = log(1 / 2) + log(1.2 / 5.3)\n",
        "    # (3) Path: [4, 3], prob = log(1 / 2) + log(1.1 / 5.3)\n",
        "\n",
        "    input_vals[2] = np.array([[0,  l(1.1), 0,   0,   0], # Path [2, 0]\n",
        "                              [eps, 0,   eps, eps, eps], # Path [4, 0]\n",
        "                              [eps, eps, eps, eps, 0]])  # Path [4, 3]\n",
        "    # Step 3 beam hypotheses =\n",
        "    # (1) Path: [4, 0, 1], prob = log(1 / 2) + log(1.2 / 5.3) + log(1)\n",
        "    # (2) Path: [4, 3, 4], prob = log(1 / 2) + log(1.1 / 5.3) + log(1)\n",
        "    # (3) Path: [2, 0, 1], prob = log(1 / 3) + log(1) + log(1.1 / 5.1)\n",
        "\n",
        "    input_feed = {inputs[i]: input_vals[i][:beam_size, :] \n",
        "                  for i in xrange(num_steps)} \n",
        "    output_feed = beam_symbols + beam_path + log_beam_probs\n",
        "    session = tf.InteractiveSession()\n",
        "    outputs = session.run(output_feed, feed_dict=input_feed)\n",
        "\n",
        "    expected_beam_symbols = [[4, 2, 0],\n",
        "                             [0, 0, 3],\n",
        "                             [1, 4, 1]]\n",
        "    expected_beam_path = [[0, 0, 0],\n",
        "                          [1, 0, 0],\n",
        "                          [1, 2, 0]]\n",
        "\n",
        "    print(\"predicted beam_symbols vs. expected beam_symbols\")\n",
        "    for ind, predicted in enumerate(outputs[:num_steps]):\n",
        "        print(list(predicted), expected_beam_symbols[ind])\n",
        "    print(\"\\npredicted beam_path vs. expected beam_path\")\n",
        "    for ind, predicted in enumerate(outputs[num_steps:num_steps * 2]):\n",
        "        print(list(predicted), expected_beam_path[ind])\n",
        "    print(\"\\nlog beam probs\")\n",
        "    for log_probs in outputs[2 * num_steps:]:\n",
        "        print(log_probs)"
      ],
      "execution_count": 119,
      "outputs": [
        {
          "output_type": "error",
          "ename": "IndentationError",
          "evalue": "ignored",
          "traceback": [
            "\u001b[0;36m  File \u001b[0;32m\"<ipython-input-119-66bc8883621a>\"\u001b[0;36m, line \u001b[0;32m32\u001b[0m\n\u001b[0;31m    inputs = [tf.placeholder(tf.float32, shape=[None, num_symbols])\u001b[0m\n\u001b[0m                                                                   ^\u001b[0m\n\u001b[0;31mIndentationError\u001b[0m\u001b[0;31m:\u001b[0m unindent does not match any outer indentation level\n"
          ]
        }
      ]
    },
    {
      "cell_type": "code",
      "metadata": {
        "id": "_RbWVVsXtDmw",
        "colab_type": "code",
        "colab": {}
      },
      "source": [
        "###NOTHING TO DO, JUST WANTED TO KEEP\n",
        "def labeler(example, index):\n",
        "  return example, tf.cast(index, tf.int64)  \n",
        "\n",
        "labeled_data_sets = []\n",
        "\n",
        "for i, file_name in enumerate(FILE_NAMES):\n",
        "  lines_dataset = tf.data.TextLineDataset(os.path.join(parent_dir, file_name))\n",
        "  labeled_dataset = lines_dataset.map(lambda ex: labeler(ex, i))\n",
        "  labeled_data_sets.append(labeled_dataset)\n",
        "\n",
        "BUFFER_SIZE = 50000\n",
        "BATCH_SIZE = 64\n",
        "TAKE_SIZE = 5000\n",
        "\n",
        "all_labeled_data = labeled_data_sets[0]\n",
        "for labeled_dataset in labeled_data_sets[1:]:\n",
        "  all_labeled_data = all_labeled_data.concatenate(labeled_dataset)\n",
        "  \n",
        "all_labeled_data = all_labeled_data.shuffle(\n",
        "    BUFFER_SIZE, reshuffle_each_iteration=False)\n"
      ],
      "execution_count": null,
      "outputs": []
    },
    {
      "cell_type": "code",
      "metadata": {
        "id": "Tv7jW8cttP2Q",
        "colab_type": "code",
        "colab": {}
      },
      "source": [
        " def __init__(self, forward_only, batch_size):\n",
        "        \"\"\"forward_only: if set, we do not construct the backward pass in the model.\n",
        "        \"\"\"\n",
        "        print('Initialize new model')\n",
        "        self.fw_only = forward_only\n",
        "        self.batch_size = batch_size"
      ],
      "execution_count": null,
      "outputs": []
    },
    {
      "cell_type": "code",
      "metadata": {
        "id": "4sAgA3i8wZMT",
        "colab_type": "code",
        "colab": {}
      },
      "source": [
        "def _inference(self):\n",
        "        print('Create inference')\n",
        "        \n",
        "        \n",
        "        if config.NUM_SAMPLES > 0 and config.NUM_SAMPLES < config.DEC_VOCAB:\n",
        "            w = tf.get_variable('proj_w', [config.HIDDEN_SIZE, config.DEC_VOCAB])\n",
        "            b = tf.get_variable('proj_b', [config.DEC_VOCAB])\n",
        "            self.output_projection = (w, b)\n",
        "\n",
        "        def sampled_loss(logits, labels):\n",
        "            labels = tf.reshape(labels, [-1, 1])\n",
        "            return tf.nn.sampled_softmax_loss(weights=tf.transpose(w), \n",
        "                                              biases=b, \n",
        "                                              inputs=logits, \n",
        "                                              labels=labels, \n",
        "                                              num_sampled=config.NUM_SAMPLES, \n",
        "                                              num_classes=config.DEC_VOCAB)\n",
        "        self.softmax_loss_function = sampled_loss"
      ],
      "execution_count": null,
      "outputs": []
    },
    {
      "cell_type": "code",
      "metadata": {
        "id": "08uYVabitUxd",
        "colab_type": "code",
        "colab": {}
      },
      "source": [
        ""
      ],
      "execution_count": null,
      "outputs": []
    },
    {
      "cell_type": "code",
      "metadata": {
        "id": "OdDQ6ZSVrfm8",
        "colab_type": "code",
        "colab": {}
      },
      "source": [
        ""
      ],
      "execution_count": null,
      "outputs": []
    },
    {
      "cell_type": "code",
      "metadata": {
        "id": "yMstsr7ftuhg",
        "colab_type": "code",
        "colab": {}
      },
      "source": [
        ""
      ],
      "execution_count": null,
      "outputs": []
    }
  ]
}