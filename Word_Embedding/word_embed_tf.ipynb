{
  "nbformat": 4,
  "nbformat_minor": 0,
  "metadata": {
    "accelerator": "GPU",
    "colab": {
      "name": "Copy of Course 3 - Week 2 - Exercise - Question.ipynb",
      "provenance": [],
      "toc_visible": true
    },
    "kernelspec": {
      "display_name": "Python 3",
      "name": "python3"
    }
  },
  "cells": [
    {
      "cell_type": "code",
      "metadata": {
        "id": "zX4Kg8DUTKWO",
        "colab_type": "code",
        "colab": {}
      },
      "source": [
        "#@title Licensed under the Apache License, Version 2.0 (the \"License\");\n",
        "# you may not use this file except in compliance with the License.\n",
        "# You may obtain a copy of the License at\n",
        "#\n",
        "# https://www.apache.org/licenses/LICENSE-2.0\n",
        "#\n",
        "# Unless required by applicable law or agreed to in writing, software\n",
        "# distributed under the License is distributed on an \"AS IS\" BASIS,\n",
        "# WITHOUT WARRANTIES OR CONDITIONS OF ANY KIND, either express or implied.\n",
        "# See the License for the specific language governing permissions and\n",
        "# limitations under the License."
      ],
      "execution_count": 0,
      "outputs": []
    },
    {
      "cell_type": "markdown",
      "metadata": {
        "colab_type": "text",
        "id": "view-in-github"
      },
      "source": [
        "<a href=\"https://colab.research.google.com/github/lmoroney/dlaicourse/blob/master/TensorFlow%20In%20Practice/Course%203%20-%20NLP/Course%203%20-%20Week%202%20-%20Exercise%20-%20Question.ipynb\" target=\"_parent\"><img src=\"https://colab.research.google.com/assets/colab-badge.svg\" alt=\"Open In Colab\"/></a>"
      ]
    },
    {
      "cell_type": "code",
      "metadata": {
        "colab_type": "code",
        "id": "gnwiOnGyW5JK",
        "outputId": "92a3de57-c187-481b-afa3-e09fdebf86fa",
        "colab": {
          "base_uri": "https://localhost:8080/",
          "height": 202
        }
      },
      "source": [
        "import csv\n",
        "import tensorflow as tf\n",
        "import numpy as np\n",
        "from tensorflow.keras.preprocessing.text import Tokenizer\n",
        "from tensorflow.keras.preprocessing.sequence import pad_sequences\n",
        "\n",
        "!wget --no-check-certificate \\\n",
        "    https://storage.googleapis.com/laurencemoroney-blog.appspot.com/bbc-text.csv \\\n",
        "    -O /tmp/bbc-text.csv"
      ],
      "execution_count": 0,
      "outputs": [
        {
          "output_type": "stream",
          "text": [
            "--2020-05-23 14:19:25--  https://storage.googleapis.com/laurencemoroney-blog.appspot.com/bbc-text.csv\n",
            "Resolving storage.googleapis.com (storage.googleapis.com)... 173.194.79.128, 2a00:1450:4013:c06::80\n",
            "Connecting to storage.googleapis.com (storage.googleapis.com)|173.194.79.128|:443... connected.\n",
            "HTTP request sent, awaiting response... 200 OK\n",
            "Length: 5057493 (4.8M) [application/octet-stream]\n",
            "Saving to: ‘/tmp/bbc-text.csv’\n",
            "\n",
            "\r/tmp/bbc-text.csv     0%[                    ]       0  --.-KB/s               \r/tmp/bbc-text.csv    83%[===============>    ]   4.01M  15.0MB/s               \r/tmp/bbc-text.csv   100%[===================>]   4.82M  17.8MB/s    in 0.3s    \n",
            "\n",
            "2020-05-23 14:19:26 (17.8 MB/s) - ‘/tmp/bbc-text.csv’ saved [5057493/5057493]\n",
            "\n"
          ],
          "name": "stdout"
        }
      ]
    },
    {
      "cell_type": "code",
      "metadata": {
        "colab_type": "code",
        "id": "EYo6A4v5ZABQ",
        "colab": {}
      },
      "source": [
        "vocab_size = 10000\n",
        "embedding_dim = 16  \n",
        "max_length = 120  \n",
        "trunc_type = 'post'\n",
        "padding_type = 'post'\n",
        "oov_tok = \"<OOV>\"\n",
        "training_portion = .8"
      ],
      "execution_count": 0,
      "outputs": []
    },
    {
      "cell_type": "code",
      "metadata": {
        "colab_type": "code",
        "id": "iU1qq3_SZBx_",
        "outputId": "e453f5dc-f4cf-4afd-a52b-112b854b1ba3",
        "colab": {
          "base_uri": "https://localhost:8080/",
          "height": 34
        }
      },
      "source": [
        "sentences = []\n",
        "labels = []\n",
        "stopwords = [ \"a\", \"about\", \"above\", \"after\", \"again\", \"against\", \"all\", \"am\", \"an\", \"and\", \"any\", \"are\", \"as\", \"at\", \"be\", \"because\", \"been\", \"before\", \"being\", \"below\", \"between\", \"both\", \"but\", \"by\", \"could\", \"did\", \"do\", \"does\", \"doing\", \"down\", \"during\", \"each\", \"few\", \"for\", \"from\", \"further\", \"had\", \"has\", \"have\", \"having\", \"he\", \"he'd\", \"he'll\", \"he's\", \"her\", \"here\", \"here's\", \"hers\", \"herself\", \"him\", \"himself\", \"his\", \"how\", \"how's\", \"i\", \"i'd\", \"i'll\", \"i'm\", \"i've\", \"if\", \"in\", \"into\", \"is\", \"it\", \"it's\", \"its\", \"itself\", \"let's\", \"me\", \"more\", \"most\", \"my\", \"myself\", \"nor\", \"of\", \"on\", \"once\", \"only\", \"or\", \"other\", \"ought\", \"our\", \"ours\", \"ourselves\", \"out\", \"over\", \"own\", \"same\", \"she\", \"she'd\", \"she'll\", \"she's\", \"should\", \"so\", \"some\", \"such\", \"than\", \"that\", \"that's\", \"the\", \"their\", \"theirs\", \"them\", \"themselves\", \"then\", \"there\", \"there's\", \"these\", \"they\", \"they'd\", \"they'll\", \"they're\", \"they've\", \"this\", \"those\", \"through\", \"to\", \"too\", \"under\", \"until\", \"up\", \"very\", \"was\", \"we\", \"we'd\", \"we'll\", \"we're\", \"we've\", \"were\", \"what\", \"what's\", \"when\", \"when's\", \"where\", \"where's\", \"which\", \"while\", \"who\", \"who's\", \"whom\", \"why\", \"why's\", \"with\", \"would\", \"you\", \"you'd\", \"you'll\", \"you're\", \"you've\", \"your\", \"yours\", \"yourself\", \"yourselves\" ]\n",
        "print(len(stopwords))\n",
        "# Expected Output\n",
        "# 153"
      ],
      "execution_count": 0,
      "outputs": [
        {
          "output_type": "stream",
          "text": [
            "153\n"
          ],
          "name": "stdout"
        }
      ]
    },
    {
      "cell_type": "code",
      "metadata": {
        "colab_type": "code",
        "id": "eutB2xMiZD0e",
        "outputId": "f01116e4-5dd2-42eb-c04d-85fec1c6b1e6",
        "colab": {
          "base_uri": "https://localhost:8080/",
          "height": 87
        }
      },
      "source": [
        "with open(\"/tmp/bbc-text.csv\", 'r') as csvfile:\n",
        "    reader = csv.reader(csvfile, delimiter=',')\n",
        "    next(reader)\n",
        "    for row in reader:\n",
        "      labels.append(row[0])\n",
        "      sentence = row[1]\n",
        "      for word in stopwords:\n",
        "        token = \" \" + word + \" \"\n",
        "        sentence = sentence.replace(token, \" \")\n",
        "        sentence = sentence.replace(\"  \", \" \")\n",
        "      sentences.append(sentence)\n",
        "    \n",
        "\n",
        "    \n",
        "print(len(labels))\n",
        "print(len(sentences))\n",
        "print(sentences[0])\n",
        "# Expected Output\n",
        "# 2225\n",
        "# 2225\n",
        "# tv future hands viewers home theatre systems  plasma high-definition tvs  digital video recorders moving living room  way people watch tv will radically different five years  time.  according expert panel gathered annual consumer electronics show las vegas discuss new technologies will impact one favourite pastimes. us leading trend  programmes content will delivered viewers via home networks  cable  satellite  telecoms companies  broadband service providers front rooms portable devices.  one talked-about technologies ces digital personal video recorders (dvr pvr). set-top boxes  like us s tivo uk s sky+ system  allow people record  store  play  pause forward wind tv programmes want.  essentially  technology allows much personalised tv. also built-in high-definition tv sets  big business japan us  slower take off europe lack high-definition programming. not can people forward wind adverts  can also forget abiding network channel schedules  putting together a-la-carte entertainment. us networks cable satellite companies worried means terms advertising revenues well  brand identity  viewer loyalty channels. although us leads technology moment  also concern raised europe  particularly growing uptake services like sky+.  happens today  will see nine months years  time uk   adam hume  bbc broadcast s futurologist told bbc news website. likes bbc  no issues lost advertising revenue yet. pressing issue moment commercial uk broadcasters  brand loyalty important everyone.  will talking content brands rather network brands   said tim hanlon  brand communications firm starcom mediavest.  reality broadband connections  anybody can producer content.  added:  challenge now hard promote programme much choice.   means  said stacey jolna  senior vice president tv guide tv group  way people find content want watch simplified tv viewers. means networks  us terms  channels take leaf google s book search engine future  instead scheduler help people find want watch. kind channel model might work younger ipod generation used taking control gadgets play them. might not suit everyone  panel recognised. older generations comfortable familiar schedules channel brands know getting. perhaps not want much choice put hands  mr hanlon suggested.  end  kids just diapers pushing buttons already - everything possible available   said mr hanlon.  ultimately  consumer will tell market want.   50 000 new gadgets technologies showcased ces  many enhancing tv-watching experience. high-definition tv sets everywhere many new models lcd (liquid crystal display) tvs launched dvr capability built  instead external boxes. one example launched show humax s 26-inch lcd tv 80-hour tivo dvr dvd recorder. one us s biggest satellite tv companies  directtv  even launched branded dvr show 100-hours recording capability  instant replay  search function. set can pause rewind tv 90 hours. microsoft chief bill gates announced pre-show keynote speech partnership tivo  called tivotogo  means people can play recorded programmes windows pcs mobile devices. reflect increasing trend freeing multimedia people can watch want  want."
      ],
      "execution_count": 0,
      "outputs": [
        {
          "output_type": "stream",
          "text": [
            "2225\n",
            "2225\n",
            "tv future hands viewers home theatre systems plasma high-definition tvs digital video recorders moving living room way people watch tv will radically different five years time. according expert panel gathered annual consumer electronics show las vegas discuss new technologies will impact one favourite pastimes. us leading trend programmes content will delivered viewers via home networks cable satellite telecoms companies broadband service providers front rooms portable devices. one talked-about technologies ces digital personal video recorders (dvr pvr). set-top boxes like us s tivo uk s sky+ system allow people record store play pause forward wind tv programmes want. essentially technology allows much personalised tv. also built-in high-definition tv sets big business japan us slower take off europe lack high-definition programming. not can people forward wind adverts can also forget abiding network channel schedules putting together a-la-carte entertainment. us networks cable satellite companies worried means terms advertising revenues well brand identity viewer loyalty channels. although us leads technology moment also concern raised europe particularly growing uptake services like sky+. happens today will see nine months years time uk adam hume bbc broadcast s futurologist told bbc news website. likes bbc no issues lost advertising revenue yet. pressing issue moment commercial uk broadcasters brand loyalty important everyone. will talking content brands rather network brands said tim hanlon brand communications firm starcom mediavest. reality broadband connections anybody can producer content. added: challenge now hard promote programme much choice. means said stacey jolna senior vice president tv guide tv group way people find content want watch simplified tv viewers. means networks us terms channels take leaf google s book search engine future instead scheduler help people find want watch. kind channel model might work younger ipod generation used taking control gadgets play them. might not suit everyone panel recognised. older generations comfortable familiar schedules channel brands know getting. perhaps not want much choice put hands mr hanlon suggested. end kids just diapers pushing buttons already - everything possible available said mr hanlon. ultimately consumer will tell market want. 50 000 new gadgets technologies showcased ces many enhancing tv-watching experience. high-definition tv sets everywhere many new models lcd (liquid crystal display) tvs launched dvr capability built instead external boxes. one example launched show humax s 26-inch lcd tv 80-hour tivo dvr dvd recorder. one us s biggest satellite tv companies directtv even launched branded dvr show 100-hours recording capability instant replay search function. set can pause rewind tv 90 hours. microsoft chief bill gates announced pre-show keynote speech partnership tivo called tivotogo means people can play recorded programmes windows pcs mobile devices. reflect increasing trend freeing multimedia people can watch want want.\n"
          ],
          "name": "stdout"
        }
      ]
    },
    {
      "cell_type": "code",
      "metadata": {
        "colab_type": "code",
        "id": "XfdaWh06ZGe3",
        "outputId": "297129ae-68ff-46b8-85cc-652bea06e706",
        "colab": {
          "base_uri": "https://localhost:8080/",
          "height": 101
        }
      },
      "source": [
        "train_size = int(len(sentences) * training_portion)\n",
        "\n",
        "train_sentences = sentences[:train_size]\n",
        "train_labels = labels[:train_size]\n",
        "\n",
        "validation_sentences = sentences[train_size:]\n",
        "validation_labels = labels[train_size:]\n",
        "\n",
        "print(train_size)\n",
        "print(len(train_sentences))\n",
        "print(len(train_labels))\n",
        "print(len(validation_sentences))\n",
        "print(len(validation_labels))\n",
        "\n",
        "# Expected output (if training_portion=.8)\n",
        "# 1780\n",
        "# 1780\n",
        "# 1780\n",
        "# 445\n",
        "# 445"
      ],
      "execution_count": 0,
      "outputs": [
        {
          "output_type": "stream",
          "text": [
            "1780\n",
            "1780\n",
            "1780\n",
            "445\n",
            "445\n"
          ],
          "name": "stdout"
        }
      ]
    },
    {
      "cell_type": "code",
      "metadata": {
        "colab_type": "code",
        "id": "ULzA8xhwZI22",
        "outputId": "68ce9a5d-a4a9-448f-c8c7-f8cd7c9e924f",
        "colab": {
          "base_uri": "https://localhost:8080/",
          "height": 118
        }
      },
      "source": [
        "tokenizer = Tokenizer(num_words=vocab_size, oov_token=oov_tok)\n",
        "tokenizer.fit_on_texts(labels)\n",
        "word_index = tokenizer.word_index\n",
        "\n",
        "train_sequences = tokenizer.texts_to_sequences(train_sentences)\n",
        "train_padded = pad_sequences(train_sequences, padding = padding_type, maxlen=max_length)\n",
        "\n",
        "print(len(train_sequences[0]))\n",
        "print(len(train_padded[0]))\n",
        "\n",
        "print(len(train_sequences[1]))\n",
        "print(len(train_padded[1]))\n",
        "\n",
        "print(len(train_sequences[10]))\n",
        "print(len(train_padded[10]))\n",
        "\n",
        "# Expected Ouput\n",
        "# 449\n",
        "# 120\n",
        "# 200\n",
        "# 120\n",
        "# 192\n",
        "# 120"
      ],
      "execution_count": 0,
      "outputs": [
        {
          "output_type": "stream",
          "text": [
            "449\n",
            "120\n",
            "200\n",
            "120\n",
            "192\n",
            "120\n"
          ],
          "name": "stdout"
        }
      ]
    },
    {
      "cell_type": "code",
      "metadata": {
        "colab_type": "code",
        "id": "c8PeFWzPZLW_",
        "outputId": "7a49bddc-4d19-4fc3-83fa-89667d59c2a3",
        "colab": {
          "base_uri": "https://localhost:8080/",
          "height": 50
        }
      },
      "source": [
        "validation_sequences = tokenizer.texts_to_sequences(validation_sentences)\n",
        "validation_padded = pad_sequences(validation_sequences, padding = padding_type, maxlen=max_length)\n",
        "\n",
        "print(len(validation_sequences))\n",
        "print(validation_padded.shape)\n",
        "\n",
        "# Expected output\n",
        "# 445\n",
        "# (445, 120)"
      ],
      "execution_count": 0,
      "outputs": [
        {
          "output_type": "stream",
          "text": [
            "445\n",
            "(445, 120)\n"
          ],
          "name": "stdout"
        }
      ]
    },
    {
      "cell_type": "code",
      "metadata": {
        "colab_type": "code",
        "id": "XkWiQ_FKZNp2",
        "outputId": "a4788fca-00ee-4c07-e7cc-45666fccad13",
        "colab": {
          "base_uri": "https://localhost:8080/",
          "height": 151
        }
      },
      "source": [
        "label_tokenizer = Tokenizer()\n",
        "label_tokenizer.fit_on_texts(labels)\n",
        "\n",
        "training_label_seq = np.array(label_tokenizer.texts_to_sequences(train_labels))\n",
        "validation_label_seq = np.array(label_tokenizer.texts_to_sequences(validation_labels))\n",
        "\n",
        "print(training_label_seq[0])\n",
        "print(training_label_seq[1])\n",
        "print(training_label_seq[2])\n",
        "print(training_label_seq.shape)\n",
        "\n",
        "print(validation_label_seq[0])\n",
        "print(validation_label_seq[1])\n",
        "print(validation_label_seq[2])\n",
        "print(validation_label_seq.shape)\n",
        "\n",
        "# Expected output\n",
        "# [4]\n",
        "# [2]\n",
        "# [1]\n",
        "# (1780, 1)\n",
        "# [5]\n",
        "# [4]\n",
        "# [3]\n",
        "# (445, 1)"
      ],
      "execution_count": 0,
      "outputs": [
        {
          "output_type": "stream",
          "text": [
            "[4]\n",
            "[2]\n",
            "[1]\n",
            "(1780, 1)\n",
            "[5]\n",
            "[4]\n",
            "[3]\n",
            "(445, 1)\n"
          ],
          "name": "stdout"
        }
      ]
    },
    {
      "cell_type": "code",
      "metadata": {
        "colab_type": "code",
        "id": "HZ5um4MWZP-W",
        "outputId": "56dc214b-e26f-4078-83fe-c7f984714ff6",
        "colab": {
          "base_uri": "https://localhost:8080/",
          "height": 286
        }
      },
      "source": [
        "model = tf.keras.Sequential([\n",
        "    tf.keras.layers.Embedding(vocab_size, embedding_dim, input_length=max_length), \n",
        "    tf.keras.layers.GlobalAveragePooling1D(), \n",
        "    tf.keras.layers.Dense(24, activation = 'relu'), \n",
        "    tf.keras.layers.Dense(6, activation = 'sigmoid')\n",
        "])\n",
        "model.compile(loss='sparse_categorical_crossentropy',optimizer='adam',metrics=['accuracy'])\n",
        "model.summary()\n",
        "\n",
        "# Expected Output\n",
        "# Layer (type)                 Output Shape              Param #   \n",
        "# =================================================================\n",
        "# embedding (Embedding)        (None, 120, 16)           16000     \n",
        "# _________________________________________________________________\n",
        "# global_average_pooling1d (Gl (None, 16)                0         \n",
        "# _________________________________________________________________\n",
        "# dense (Dense)                (None, 24)                408       \n",
        "# _________________________________________________________________\n",
        "# dense_1 (Dense)              (None, 6)                 150       \n",
        "# =================================================================\n",
        "# Total params: 16,558\n",
        "# Trainable params: 16,558\n",
        "# Non-trainable params: 0"
      ],
      "execution_count": 0,
      "outputs": [
        {
          "output_type": "stream",
          "text": [
            "Model: \"sequential\"\n",
            "_________________________________________________________________\n",
            "Layer (type)                 Output Shape              Param #   \n",
            "=================================================================\n",
            "embedding_1 (Embedding)      (None, 120, 16)           160000    \n",
            "_________________________________________________________________\n",
            "global_average_pooling1d (Gl (None, 16)                0         \n",
            "_________________________________________________________________\n",
            "dense (Dense)                (None, 24)                408       \n",
            "_________________________________________________________________\n",
            "dense_1 (Dense)              (None, 6)                 150       \n",
            "=================================================================\n",
            "Total params: 160,558\n",
            "Trainable params: 160,558\n",
            "Non-trainable params: 0\n",
            "_________________________________________________________________\n"
          ],
          "name": "stdout"
        }
      ]
    },
    {
      "cell_type": "code",
      "metadata": {
        "colab_type": "code",
        "id": "XsfdxySKZSXu",
        "outputId": "9bd1de0b-50d3-4ea3-8988-aa986bd81e4a",
        "colab": {
          "base_uri": "https://localhost:8080/",
          "height": 1000
        }
      },
      "source": [
        "num_epochs = 30\n",
        "\n",
        "#train_padded=tf.convert_to_tensor(train_padded)\n",
        "#train_sequences=np.array(train_sequences)\n",
        "\n",
        "history = model.fit(train_padded, training_label_seq, epochs=num_epochs, validation_data=(validation_padded, validation_label_seq), verbose=2, steps_per_epoch = 64)"
      ],
      "execution_count": 0,
      "outputs": [
        {
          "output_type": "stream",
          "text": [
            "Epoch 1/30\n",
            "64/64 - 0s - loss: 1.4930 - accuracy: 0.3000 - val_loss: 1.4994 - val_accuracy: 0.2989\n",
            "Epoch 2/30\n",
            "64/64 - 0s - loss: 1.4909 - accuracy: 0.2899 - val_loss: 1.4976 - val_accuracy: 0.3034\n",
            "Epoch 3/30\n",
            "64/64 - 0s - loss: 1.4926 - accuracy: 0.2809 - val_loss: 1.5073 - val_accuracy: 0.3011\n",
            "Epoch 4/30\n",
            "64/64 - 0s - loss: 1.4942 - accuracy: 0.2955 - val_loss: 1.5010 - val_accuracy: 0.3079\n",
            "Epoch 5/30\n",
            "64/64 - 0s - loss: 1.4904 - accuracy: 0.2989 - val_loss: 1.4958 - val_accuracy: 0.3034\n",
            "Epoch 6/30\n",
            "64/64 - 0s - loss: 1.4919 - accuracy: 0.2994 - val_loss: 1.4985 - val_accuracy: 0.3034\n",
            "Epoch 7/30\n",
            "64/64 - 0s - loss: 1.4898 - accuracy: 0.2944 - val_loss: 1.4958 - val_accuracy: 0.3258\n",
            "Epoch 8/30\n",
            "64/64 - 0s - loss: 1.4932 - accuracy: 0.2972 - val_loss: 1.5003 - val_accuracy: 0.3011\n",
            "Epoch 9/30\n",
            "64/64 - 0s - loss: 1.4897 - accuracy: 0.2882 - val_loss: 1.4973 - val_accuracy: 0.3258\n",
            "Epoch 10/30\n",
            "64/64 - 0s - loss: 1.4909 - accuracy: 0.2978 - val_loss: 1.5001 - val_accuracy: 0.3281\n",
            "Epoch 11/30\n",
            "64/64 - 0s - loss: 1.4909 - accuracy: 0.2910 - val_loss: 1.4946 - val_accuracy: 0.3258\n",
            "Epoch 12/30\n",
            "64/64 - 0s - loss: 1.4906 - accuracy: 0.2972 - val_loss: 1.4932 - val_accuracy: 0.3281\n",
            "Epoch 13/30\n",
            "64/64 - 0s - loss: 1.4900 - accuracy: 0.2938 - val_loss: 1.5023 - val_accuracy: 0.3079\n",
            "Epoch 14/30\n",
            "64/64 - 0s - loss: 1.4896 - accuracy: 0.2966 - val_loss: 1.4946 - val_accuracy: 0.3258\n",
            "Epoch 15/30\n",
            "64/64 - 0s - loss: 1.4922 - accuracy: 0.3062 - val_loss: 1.4950 - val_accuracy: 0.3034\n",
            "Epoch 16/30\n",
            "64/64 - 0s - loss: 1.4858 - accuracy: 0.3034 - val_loss: 1.4953 - val_accuracy: 0.3281\n",
            "Epoch 17/30\n",
            "64/64 - 0s - loss: 1.4923 - accuracy: 0.2910 - val_loss: 1.4935 - val_accuracy: 0.3281\n",
            "Epoch 18/30\n",
            "64/64 - 0s - loss: 1.4881 - accuracy: 0.2989 - val_loss: 1.5025 - val_accuracy: 0.3011\n",
            "Epoch 19/30\n",
            "64/64 - 0s - loss: 1.4872 - accuracy: 0.3101 - val_loss: 1.5008 - val_accuracy: 0.3079\n",
            "Epoch 20/30\n",
            "64/64 - 0s - loss: 1.4912 - accuracy: 0.3034 - val_loss: 1.4982 - val_accuracy: 0.2607\n",
            "Epoch 21/30\n",
            "64/64 - 0s - loss: 1.4905 - accuracy: 0.2949 - val_loss: 1.4926 - val_accuracy: 0.3258\n",
            "Epoch 22/30\n",
            "64/64 - 0s - loss: 1.4897 - accuracy: 0.2893 - val_loss: 1.4972 - val_accuracy: 0.3034\n",
            "Epoch 23/30\n",
            "64/64 - 0s - loss: 1.4879 - accuracy: 0.2899 - val_loss: 1.5078 - val_accuracy: 0.3011\n",
            "Epoch 24/30\n",
            "64/64 - 0s - loss: 1.4865 - accuracy: 0.2955 - val_loss: 1.4913 - val_accuracy: 0.3281\n",
            "Epoch 25/30\n",
            "64/64 - 0s - loss: 1.4899 - accuracy: 0.3084 - val_loss: 1.4937 - val_accuracy: 0.3258\n",
            "Epoch 26/30\n",
            "64/64 - 0s - loss: 1.4854 - accuracy: 0.3062 - val_loss: 1.4904 - val_accuracy: 0.3258\n",
            "Epoch 27/30\n",
            "64/64 - 0s - loss: 1.4899 - accuracy: 0.2933 - val_loss: 1.4946 - val_accuracy: 0.3034\n",
            "Epoch 28/30\n",
            "64/64 - 0s - loss: 1.4862 - accuracy: 0.2994 - val_loss: 1.4936 - val_accuracy: 0.2966\n",
            "Epoch 29/30\n",
            "64/64 - 0s - loss: 1.4898 - accuracy: 0.2921 - val_loss: 1.4980 - val_accuracy: 0.3011\n",
            "Epoch 30/30\n",
            "64/64 - 0s - loss: 1.4870 - accuracy: 0.2904 - val_loss: 1.4935 - val_accuracy: 0.3281\n"
          ],
          "name": "stdout"
        }
      ]
    },
    {
      "cell_type": "code",
      "metadata": {
        "id": "TCubf1NZAj5g",
        "colab_type": "code",
        "outputId": "910fdc3d-c9cf-4286-c6cf-a7db826b8e5a",
        "colab": {
          "base_uri": "https://localhost:8080/",
          "height": 1000
        }
      },
      "source": [
        "num_epochs = 60\n",
        "\n",
        "#train_padded=tf.convert_to_tensor(train_padded)\n",
        "#train_sequences=np.array(train_sequences)\n",
        "\n",
        "history = model.fit(train_padded, training_label_seq, epochs=num_epochs, validation_data=(validation_padded, validation_label_seq), verbose=2, steps_per_epoch = 80)"
      ],
      "execution_count": 0,
      "outputs": [
        {
          "output_type": "stream",
          "text": [
            "Epoch 1/60\n",
            "80/80 - 0s - loss: 1.4856 - accuracy: 0.2974 - val_loss: 1.4960 - val_accuracy: 0.2629\n",
            "Epoch 2/60\n",
            "80/80 - 0s - loss: 1.4957 - accuracy: 0.2782 - val_loss: 1.4923 - val_accuracy: 0.3281\n",
            "Epoch 3/60\n",
            "80/80 - 0s - loss: 1.4901 - accuracy: 0.2870 - val_loss: 1.4928 - val_accuracy: 0.3034\n",
            "Epoch 4/60\n",
            "80/80 - 0s - loss: 1.4887 - accuracy: 0.3012 - val_loss: 1.4894 - val_accuracy: 0.3258\n",
            "Epoch 5/60\n",
            "80/80 - 0s - loss: 1.4714 - accuracy: 0.2974 - val_loss: 1.4945 - val_accuracy: 0.3281\n",
            "Epoch 6/60\n",
            "80/80 - 0s - loss: 1.4961 - accuracy: 0.2809 - val_loss: 1.4943 - val_accuracy: 0.3034\n",
            "Epoch 7/60\n",
            "80/80 - 0s - loss: 1.4741 - accuracy: 0.3198 - val_loss: 1.4958 - val_accuracy: 0.3258\n",
            "Epoch 8/60\n",
            "80/80 - 0s - loss: 1.4937 - accuracy: 0.2957 - val_loss: 1.4956 - val_accuracy: 0.3079\n",
            "Epoch 9/60\n",
            "80/80 - 0s - loss: 1.4824 - accuracy: 0.3023 - val_loss: 1.4901 - val_accuracy: 0.3281\n",
            "Epoch 10/60\n",
            "80/80 - 0s - loss: 1.4955 - accuracy: 0.2804 - val_loss: 1.4856 - val_accuracy: 0.3258\n",
            "Epoch 11/60\n",
            "80/80 - 0s - loss: 1.4722 - accuracy: 0.3133 - val_loss: 1.4999 - val_accuracy: 0.3079\n",
            "Epoch 12/60\n",
            "80/80 - 0s - loss: 1.4867 - accuracy: 0.3023 - val_loss: 1.4884 - val_accuracy: 0.3281\n",
            "Epoch 13/60\n",
            "80/80 - 0s - loss: 1.4839 - accuracy: 0.2908 - val_loss: 1.4846 - val_accuracy: 0.3281\n",
            "Epoch 14/60\n",
            "80/80 - 0s - loss: 1.4908 - accuracy: 0.2881 - val_loss: 1.4899 - val_accuracy: 0.2989\n",
            "Epoch 15/60\n",
            "80/80 - 0s - loss: 1.4817 - accuracy: 0.2859 - val_loss: 1.4896 - val_accuracy: 0.2584\n",
            "Epoch 16/60\n",
            "80/80 - 0s - loss: 1.4846 - accuracy: 0.2968 - val_loss: 1.4881 - val_accuracy: 0.2989\n",
            "Epoch 17/60\n",
            "80/80 - 0s - loss: 1.4780 - accuracy: 0.3001 - val_loss: 1.4872 - val_accuracy: 0.3258\n",
            "Epoch 18/60\n",
            "80/80 - 0s - loss: 1.4847 - accuracy: 0.2913 - val_loss: 1.4877 - val_accuracy: 0.3034\n",
            "Epoch 19/60\n",
            "80/80 - 0s - loss: 1.4857 - accuracy: 0.2864 - val_loss: 1.4870 - val_accuracy: 0.3079\n",
            "Epoch 20/60\n",
            "80/80 - 0s - loss: 1.4808 - accuracy: 0.2963 - val_loss: 1.4852 - val_accuracy: 0.3034\n",
            "Epoch 21/60\n",
            "80/80 - 0s - loss: 1.4823 - accuracy: 0.3045 - val_loss: 1.5014 - val_accuracy: 0.3079\n",
            "Epoch 22/60\n",
            "80/80 - 0s - loss: 1.4838 - accuracy: 0.3072 - val_loss: 1.4975 - val_accuracy: 0.3079\n",
            "Epoch 23/60\n",
            "80/80 - 0s - loss: 1.4904 - accuracy: 0.2946 - val_loss: 1.4906 - val_accuracy: 0.3258\n",
            "Epoch 24/60\n",
            "80/80 - 0s - loss: 1.4856 - accuracy: 0.2952 - val_loss: 1.4912 - val_accuracy: 0.3034\n",
            "Epoch 25/60\n",
            "80/80 - 0s - loss: 1.4770 - accuracy: 0.2946 - val_loss: 1.4903 - val_accuracy: 0.2989\n",
            "Epoch 26/60\n",
            "80/80 - 0s - loss: 1.4892 - accuracy: 0.2886 - val_loss: 1.4876 - val_accuracy: 0.3034\n",
            "Epoch 27/60\n",
            "80/80 - 0s - loss: 1.4829 - accuracy: 0.2913 - val_loss: 1.4828 - val_accuracy: 0.3281\n",
            "Epoch 28/60\n",
            "80/80 - 0s - loss: 1.4796 - accuracy: 0.3012 - val_loss: 1.4933 - val_accuracy: 0.3034\n",
            "Epoch 29/60\n",
            "80/80 - 0s - loss: 1.4908 - accuracy: 0.2809 - val_loss: 1.4911 - val_accuracy: 0.3079\n",
            "Epoch 30/60\n",
            "80/80 - 0s - loss: 1.4737 - accuracy: 0.2952 - val_loss: 1.4859 - val_accuracy: 0.3034\n",
            "Epoch 31/60\n",
            "80/80 - 0s - loss: 1.4927 - accuracy: 0.2853 - val_loss: 1.4868 - val_accuracy: 0.3258\n",
            "Epoch 32/60\n",
            "80/80 - 0s - loss: 1.4756 - accuracy: 0.2941 - val_loss: 1.4918 - val_accuracy: 0.3034\n",
            "Epoch 33/60\n",
            "80/80 - 0s - loss: 1.4786 - accuracy: 0.3116 - val_loss: 1.4873 - val_accuracy: 0.3079\n",
            "Epoch 34/60\n",
            "80/80 - 0s - loss: 1.4740 - accuracy: 0.2908 - val_loss: 1.4898 - val_accuracy: 0.3034\n",
            "Epoch 35/60\n",
            "80/80 - 0s - loss: 1.4854 - accuracy: 0.3061 - val_loss: 1.4939 - val_accuracy: 0.3034\n",
            "Epoch 36/60\n",
            "80/80 - 0s - loss: 1.4787 - accuracy: 0.3067 - val_loss: 1.4850 - val_accuracy: 0.3079\n",
            "Epoch 37/60\n",
            "80/80 - 0s - loss: 1.4840 - accuracy: 0.3078 - val_loss: 1.4845 - val_accuracy: 0.3281\n",
            "Epoch 38/60\n",
            "80/80 - 0s - loss: 1.4773 - accuracy: 0.2952 - val_loss: 1.4823 - val_accuracy: 0.3258\n",
            "Epoch 39/60\n",
            "80/80 - 0s - loss: 1.4810 - accuracy: 0.2737 - val_loss: 1.4829 - val_accuracy: 0.3326\n",
            "Epoch 40/60\n",
            "80/80 - 0s - loss: 1.4821 - accuracy: 0.2952 - val_loss: 1.4918 - val_accuracy: 0.3034\n",
            "Epoch 41/60\n",
            "80/80 - 0s - loss: 1.4794 - accuracy: 0.3023 - val_loss: 1.4820 - val_accuracy: 0.3034\n",
            "Epoch 42/60\n",
            "80/80 - 0s - loss: 1.4770 - accuracy: 0.3028 - val_loss: 1.4879 - val_accuracy: 0.3034\n",
            "Epoch 43/60\n",
            "80/80 - 0s - loss: 1.4836 - accuracy: 0.2859 - val_loss: 1.4813 - val_accuracy: 0.3034\n",
            "Epoch 44/60\n",
            "80/80 - 0s - loss: 1.4859 - accuracy: 0.2957 - val_loss: 1.4815 - val_accuracy: 0.3034\n",
            "Epoch 45/60\n",
            "80/80 - 0s - loss: 1.4767 - accuracy: 0.2957 - val_loss: 1.4888 - val_accuracy: 0.3079\n",
            "Epoch 46/60\n",
            "80/80 - 0s - loss: 1.4718 - accuracy: 0.3100 - val_loss: 1.4880 - val_accuracy: 0.3258\n",
            "Epoch 47/60\n",
            "80/80 - 0s - loss: 1.4897 - accuracy: 0.2864 - val_loss: 1.4869 - val_accuracy: 0.3079\n",
            "Epoch 48/60\n",
            "80/80 - 0s - loss: 1.4743 - accuracy: 0.2908 - val_loss: 1.4868 - val_accuracy: 0.3034\n",
            "Epoch 49/60\n",
            "80/80 - 0s - loss: 1.4796 - accuracy: 0.2990 - val_loss: 1.4889 - val_accuracy: 0.3079\n",
            "Epoch 50/60\n",
            "80/80 - 0s - loss: 1.4694 - accuracy: 0.3023 - val_loss: 1.4910 - val_accuracy: 0.3034\n",
            "Epoch 51/60\n",
            "80/80 - 0s - loss: 1.4793 - accuracy: 0.2941 - val_loss: 1.4811 - val_accuracy: 0.3079\n",
            "Epoch 52/60\n",
            "80/80 - 0s - loss: 1.4862 - accuracy: 0.2979 - val_loss: 1.4912 - val_accuracy: 0.3079\n",
            "Epoch 53/60\n",
            "80/80 - 0s - loss: 1.4813 - accuracy: 0.2990 - val_loss: 1.4846 - val_accuracy: 0.3079\n",
            "Epoch 54/60\n",
            "80/80 - 0s - loss: 1.4710 - accuracy: 0.2881 - val_loss: 1.4828 - val_accuracy: 0.3326\n",
            "Epoch 55/60\n",
            "80/80 - 0s - loss: 1.4780 - accuracy: 0.2979 - val_loss: 1.4821 - val_accuracy: 0.3303\n",
            "Epoch 56/60\n",
            "80/80 - 0s - loss: 1.4954 - accuracy: 0.2886 - val_loss: 1.4824 - val_accuracy: 0.3303\n",
            "Epoch 57/60\n",
            "80/80 - 0s - loss: 1.4648 - accuracy: 0.3007 - val_loss: 1.4816 - val_accuracy: 0.2989\n",
            "Epoch 58/60\n",
            "80/80 - 0s - loss: 1.4828 - accuracy: 0.2859 - val_loss: 1.4796 - val_accuracy: 0.3326\n",
            "Epoch 59/60\n",
            "WARNING:tensorflow:Your input ran out of data; interrupting training. Make sure that your dataset or generator can generate at least `steps_per_epoch * epochs` batches (in this case, 4800 batches). You may need to use the repeat() function when building your dataset.\n",
            "40/80 - 0s - loss: 1.4784 - accuracy: 0.3079 - val_loss: 1.4830 - val_accuracy: 0.3326\n"
          ],
          "name": "stdout"
        }
      ]
    },
    {
      "cell_type": "code",
      "metadata": {
        "id": "0nv1l7vrA8q3",
        "colab_type": "code",
        "outputId": "af3f13f0-3124-43e9-dce5-167adec8aaa1",
        "colab": {
          "base_uri": "https://localhost:8080/",
          "height": 1000
        }
      },
      "source": [
        "num_epochs = 40\n",
        "\n",
        "#train_padded=tf.convert_to_tensor(train_padded)\n",
        "#train_sequences=np.array(train_sequences)\n",
        "\n",
        "history = model.fit(train_padded, training_label_seq, epochs=num_epochs, validation_data=(validation_padded, validation_label_seq), verbose=2, steps_per_epoch = 64)"
      ],
      "execution_count": 0,
      "outputs": [
        {
          "output_type": "stream",
          "text": [
            "Epoch 1/40\n",
            "64/64 - 0s - loss: 1.4767 - accuracy: 0.2994 - val_loss: 1.4867 - val_accuracy: 0.3101\n",
            "Epoch 2/40\n",
            "64/64 - 0s - loss: 1.4723 - accuracy: 0.2876 - val_loss: 1.4815 - val_accuracy: 0.3281\n",
            "Epoch 3/40\n",
            "64/64 - 0s - loss: 1.4777 - accuracy: 0.3090 - val_loss: 1.4881 - val_accuracy: 0.3191\n",
            "Epoch 4/40\n",
            "64/64 - 0s - loss: 1.4753 - accuracy: 0.3011 - val_loss: 1.4872 - val_accuracy: 0.3034\n",
            "Epoch 5/40\n",
            "64/64 - 0s - loss: 1.4757 - accuracy: 0.2876 - val_loss: 1.4807 - val_accuracy: 0.3079\n",
            "Epoch 6/40\n",
            "64/64 - 0s - loss: 1.4761 - accuracy: 0.2933 - val_loss: 1.4861 - val_accuracy: 0.3101\n",
            "Epoch 7/40\n",
            "64/64 - 0s - loss: 1.4741 - accuracy: 0.3157 - val_loss: 1.4855 - val_accuracy: 0.3034\n",
            "Epoch 8/40\n",
            "64/64 - 0s - loss: 1.4750 - accuracy: 0.2972 - val_loss: 1.4814 - val_accuracy: 0.3079\n",
            "Epoch 9/40\n",
            "64/64 - 0s - loss: 1.4739 - accuracy: 0.2910 - val_loss: 1.4842 - val_accuracy: 0.3101\n",
            "Epoch 10/40\n",
            "64/64 - 0s - loss: 1.4766 - accuracy: 0.3011 - val_loss: 1.4902 - val_accuracy: 0.3101\n",
            "Epoch 11/40\n",
            "64/64 - 0s - loss: 1.4765 - accuracy: 0.2916 - val_loss: 1.4811 - val_accuracy: 0.3326\n",
            "Epoch 12/40\n",
            "64/64 - 0s - loss: 1.4755 - accuracy: 0.2983 - val_loss: 1.4833 - val_accuracy: 0.3258\n",
            "Epoch 13/40\n",
            "64/64 - 0s - loss: 1.4756 - accuracy: 0.2888 - val_loss: 1.4818 - val_accuracy: 0.3281\n",
            "Epoch 14/40\n",
            "64/64 - 0s - loss: 1.4773 - accuracy: 0.3017 - val_loss: 1.4835 - val_accuracy: 0.3079\n",
            "Epoch 15/40\n",
            "64/64 - 0s - loss: 1.4775 - accuracy: 0.2888 - val_loss: 1.4834 - val_accuracy: 0.3326\n",
            "Epoch 16/40\n",
            "64/64 - 0s - loss: 1.4758 - accuracy: 0.3028 - val_loss: 1.4821 - val_accuracy: 0.3326\n",
            "Epoch 17/40\n",
            "64/64 - 0s - loss: 1.4778 - accuracy: 0.3017 - val_loss: 1.4841 - val_accuracy: 0.2989\n",
            "Epoch 18/40\n",
            "64/64 - 0s - loss: 1.4775 - accuracy: 0.2876 - val_loss: 1.4820 - val_accuracy: 0.3079\n",
            "Epoch 19/40\n",
            "64/64 - 0s - loss: 1.4759 - accuracy: 0.2966 - val_loss: 1.4845 - val_accuracy: 0.3079\n",
            "Epoch 20/40\n",
            "64/64 - 0s - loss: 1.4736 - accuracy: 0.2938 - val_loss: 1.4826 - val_accuracy: 0.3034\n",
            "Epoch 21/40\n",
            "64/64 - 0s - loss: 1.4769 - accuracy: 0.2921 - val_loss: 1.4816 - val_accuracy: 0.3079\n",
            "Epoch 22/40\n",
            "64/64 - 0s - loss: 1.4752 - accuracy: 0.2860 - val_loss: 1.4815 - val_accuracy: 0.3258\n",
            "Epoch 23/40\n",
            "64/64 - 0s - loss: 1.4788 - accuracy: 0.2888 - val_loss: 1.4815 - val_accuracy: 0.2989\n",
            "Epoch 24/40\n",
            "64/64 - 0s - loss: 1.4753 - accuracy: 0.3073 - val_loss: 1.4847 - val_accuracy: 0.3101\n",
            "Epoch 25/40\n",
            "64/64 - 0s - loss: 1.4754 - accuracy: 0.2781 - val_loss: 1.4832 - val_accuracy: 0.3079\n",
            "Epoch 26/40\n",
            "64/64 - 0s - loss: 1.4760 - accuracy: 0.2944 - val_loss: 1.4798 - val_accuracy: 0.3303\n",
            "Epoch 27/40\n",
            "64/64 - 0s - loss: 1.4784 - accuracy: 0.2865 - val_loss: 1.4841 - val_accuracy: 0.3079\n",
            "Epoch 28/40\n",
            "64/64 - 0s - loss: 1.4754 - accuracy: 0.2983 - val_loss: 1.4873 - val_accuracy: 0.3034\n",
            "Epoch 29/40\n",
            "64/64 - 0s - loss: 1.4787 - accuracy: 0.2972 - val_loss: 1.4798 - val_accuracy: 0.3326\n",
            "Epoch 30/40\n",
            "64/64 - 0s - loss: 1.4745 - accuracy: 0.2938 - val_loss: 1.4906 - val_accuracy: 0.3034\n",
            "Epoch 31/40\n",
            "64/64 - 0s - loss: 1.4755 - accuracy: 0.2826 - val_loss: 1.4937 - val_accuracy: 0.3101\n",
            "Epoch 32/40\n",
            "64/64 - 0s - loss: 1.4745 - accuracy: 0.2848 - val_loss: 1.4837 - val_accuracy: 0.3079\n",
            "Epoch 33/40\n",
            "64/64 - 0s - loss: 1.4790 - accuracy: 0.2927 - val_loss: 1.4857 - val_accuracy: 0.2989\n",
            "Epoch 34/40\n",
            "64/64 - 0s - loss: 1.4757 - accuracy: 0.2961 - val_loss: 1.4930 - val_accuracy: 0.3079\n",
            "Epoch 35/40\n",
            "64/64 - 0s - loss: 1.4742 - accuracy: 0.2904 - val_loss: 1.4891 - val_accuracy: 0.3236\n",
            "Epoch 36/40\n",
            "64/64 - 0s - loss: 1.4759 - accuracy: 0.2978 - val_loss: 1.4807 - val_accuracy: 0.3326\n",
            "Epoch 37/40\n",
            "64/64 - 0s - loss: 1.4741 - accuracy: 0.3112 - val_loss: 1.4821 - val_accuracy: 0.3303\n",
            "Epoch 38/40\n",
            "64/64 - 0s - loss: 1.4769 - accuracy: 0.2860 - val_loss: 1.4853 - val_accuracy: 0.3079\n",
            "Epoch 39/40\n",
            "64/64 - 0s - loss: 1.4763 - accuracy: 0.2860 - val_loss: 1.4839 - val_accuracy: 0.3079\n",
            "Epoch 40/40\n",
            "64/64 - 0s - loss: 1.4740 - accuracy: 0.3017 - val_loss: 1.4856 - val_accuracy: 0.3079\n"
          ],
          "name": "stdout"
        }
      ]
    },
    {
      "cell_type": "code",
      "metadata": {
        "colab_type": "code",
        "id": "dQ0BX2apXS9u",
        "outputId": "1581b9aa-f8f1-4646-bbd5-aadf2c0a008d",
        "colab": {
          "base_uri": "https://localhost:8080/",
          "height": 541
        }
      },
      "source": [
        "import matplotlib.pyplot as plt\n",
        "\n",
        "\n",
        "def plot_graphs(history, string):\n",
        "  plt.plot(history.history[string])\n",
        "  plt.plot(history.history['val_'+string])\n",
        "  plt.xlabel(\"Epochs\")\n",
        "  plt.ylabel(string)\n",
        "  plt.legend([string, 'val_'+string])\n",
        "  plt.show()\n",
        "  \n",
        "plot_graphs(history, \"accuracy\")\n",
        "plot_graphs(history, \"loss\")"
      ],
      "execution_count": 0,
      "outputs": [
        {
          "output_type": "display_data",
          "data": {
            "image/png": "[encoded data removed]",
            "text/plain": [
              "<Figure size 432x288 with 1 Axes>"
            ]
          },
          "metadata": {
            "tags": [],
            "needs_background": "light"
          }
        },
        {
          "output_type": "display_data",
          "data": {
            "image/png": "[encoded data removed]",
            "text/plain": [
              "<Figure size 432x288 with 1 Axes>"
            ]
          },
          "metadata": {
            "tags": [],
            "needs_background": "light"
          }
        }
      ]
    },
    {
      "cell_type": "code",
      "metadata": {
        "colab_type": "code",
        "id": "w7Xc-uWxXhML",
        "colab": {}
      },
      "source": [
        "reverse_word_index = dict([(value, key) for (key, value) in word_index.items()])\n",
        "\n",
        "def decode_sentence(text):\n",
        "    return ' '.join([reverse_word_index.get(i, '?') for i in text])\n"
      ],
      "execution_count": 0,
      "outputs": []
    },
    {
      "cell_type": "code",
      "metadata": {
        "colab_type": "code",
        "id": "OhnFA_TDXrih",
        "outputId": "f45f8158-1bfd-479f-f738-9432e8475cbd",
        "colab": {
          "base_uri": "https://localhost:8080/",
          "height": 34
        }
      },
      "source": [
        "e = model.layers[0]\n",
        "weights = e.get_weights()[0]\n",
        "print(weights.shape) # shape: (vocab_size, embedding_dim)\n",
        "\n",
        "# Expected output\n",
        "# (1000, 16)"
      ],
      "execution_count": 0,
      "outputs": [
        {
          "output_type": "stream",
          "text": [
            "(10000, 16)\n"
          ],
          "name": "stdout"
        }
      ]
    },
    {
      "cell_type": "code",
      "metadata": {
        "colab_type": "code",
        "id": "_POzcWWAXudL",
        "outputId": "d47b51d8-eb4c-49db-e8cd-7edd5827c746",
        "colab": {
          "base_uri": "https://localhost:8080/",
          "height": 229
        }
      },
      "source": [
        "import io\n",
        "\n",
        "out_v = io.open('vecs.tsv', 'w', encoding='utf-8')\n",
        "out_m = io.open('meta.tsv', 'w', encoding='utf-8')\n",
        "for word_num in range(1, vocab_size):\n",
        "  word = reverse_word_index[word_num]\n",
        "  embeddings = weights[word_num]\n",
        "  out_m.write(word + \"\\n\")\n",
        "  out_v.write('\\t'.join([str(x) for x in embeddings]) + \"\\n\")\n",
        "out_v.close()\n",
        "out_m.close()"
      ],
      "execution_count": 0,
      "outputs": [
        {
          "output_type": "error",
          "ename": "KeyError",
          "evalue": "ignored",
          "traceback": [
            "\u001b[0;31m---------------------------------------------------------------------------\u001b[0m",
            "\u001b[0;31mKeyError\u001b[0m                                  Traceback (most recent call last)",
            "\u001b[0;32m<ipython-input-29-61dde92dd38a>\u001b[0m in \u001b[0;36m<module>\u001b[0;34m()\u001b[0m\n\u001b[1;32m      4\u001b[0m \u001b[0mout_m\u001b[0m \u001b[0;34m=\u001b[0m \u001b[0mio\u001b[0m\u001b[0;34m.\u001b[0m\u001b[0mopen\u001b[0m\u001b[0;34m(\u001b[0m\u001b[0;34m'meta.tsv'\u001b[0m\u001b[0;34m,\u001b[0m \u001b[0;34m'w'\u001b[0m\u001b[0;34m,\u001b[0m \u001b[0mencoding\u001b[0m\u001b[0;34m=\u001b[0m\u001b[0;34m'utf-8'\u001b[0m\u001b[0;34m)\u001b[0m\u001b[0;34m\u001b[0m\u001b[0;34m\u001b[0m\u001b[0m\n\u001b[1;32m      5\u001b[0m \u001b[0;32mfor\u001b[0m \u001b[0mword_num\u001b[0m \u001b[0;32min\u001b[0m \u001b[0mrange\u001b[0m\u001b[0;34m(\u001b[0m\u001b[0;36m1\u001b[0m\u001b[0;34m,\u001b[0m \u001b[0mvocab_size\u001b[0m\u001b[0;34m)\u001b[0m\u001b[0;34m:\u001b[0m\u001b[0;34m\u001b[0m\u001b[0;34m\u001b[0m\u001b[0m\n\u001b[0;32m----> 6\u001b[0;31m   \u001b[0mword\u001b[0m \u001b[0;34m=\u001b[0m \u001b[0mreverse_word_index\u001b[0m\u001b[0;34m[\u001b[0m\u001b[0mword_num\u001b[0m\u001b[0;34m]\u001b[0m\u001b[0;34m\u001b[0m\u001b[0;34m\u001b[0m\u001b[0m\n\u001b[0m\u001b[1;32m      7\u001b[0m   \u001b[0membeddings\u001b[0m \u001b[0;34m=\u001b[0m \u001b[0mweights\u001b[0m\u001b[0;34m[\u001b[0m\u001b[0mword_num\u001b[0m\u001b[0;34m]\u001b[0m\u001b[0;34m\u001b[0m\u001b[0;34m\u001b[0m\u001b[0m\n\u001b[1;32m      8\u001b[0m   \u001b[0mout_m\u001b[0m\u001b[0;34m.\u001b[0m\u001b[0mwrite\u001b[0m\u001b[0;34m(\u001b[0m\u001b[0mword\u001b[0m \u001b[0;34m+\u001b[0m \u001b[0;34m\"\\n\"\u001b[0m\u001b[0;34m)\u001b[0m\u001b[0;34m\u001b[0m\u001b[0;34m\u001b[0m\u001b[0m\n",
            "\u001b[0;31mKeyError\u001b[0m: 7"
          ]
        }
      ]
    },
    {
      "cell_type": "code",
      "metadata": {
        "colab_type": "code",
        "id": "VmqpQMZ_XyOa",
        "colab": {}
      },
      "source": [
        "try:\n",
        "  from google.colab import files\n",
        "except ImportError:\n",
        "  pass\n",
        "else:\n",
        "  files.download('vecs.tsv')\n",
        "  files.download('meta.tsv')"
      ],
      "execution_count": 0,
      "outputs": []
    }
  ]
}